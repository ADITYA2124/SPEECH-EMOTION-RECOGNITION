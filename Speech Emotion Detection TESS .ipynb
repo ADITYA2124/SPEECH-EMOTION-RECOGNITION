{
 "cells": [
  {
   "cell_type": "markdown",
   "id": "a83cc14c",
   "metadata": {},
   "source": [
    "## IMPORTING LIBRARIES "
   ]
  },
  {
   "cell_type": "code",
   "execution_count": 1,
   "id": "2d55d503",
   "metadata": {},
   "outputs": [
    {
     "name": "stderr",
     "output_type": "stream",
     "text": [
      "C:\\Users\\NEW\\AppData\\Roaming\\Python\\Python311\\site-packages\\pydub\\utils.py:170: RuntimeWarning: Couldn't find ffmpeg or avconv - defaulting to ffmpeg, but may not work\n",
      "  warn(\"Couldn't find ffmpeg or avconv - defaulting to ffmpeg, but may not work\", RuntimeWarning)\n"
     ]
    }
   ],
   "source": [
    "import os\n",
    "import glob\n",
    "import librosa\n",
    "import numpy as np\n",
    "from sklearn.model_selection import train_test_split\n",
    "from sklearn.preprocessing import LabelEncoder\n",
    "from sklearn.metrics import precision_score,recall_score\n",
    "import tensorflow as tf\n",
    "from keras.models import Sequential, load_model\n",
    "from keras.layers import Dense, Dropout, LSTM\n",
    "from keras.layers import TimeDistributed \n",
    "from pydub import AudioSegment\n",
    "import sounddevice as sd\n",
    "from PIL import Image, ImageTk "
   ]
  },
  {
   "cell_type": "markdown",
   "id": "2b6ebd65",
   "metadata": {},
   "source": [
    "## DEFINING FEATURE EXTRACTION METHOD"
   ]
  },
  {
   "cell_type": "code",
   "execution_count": 2,
   "id": "05f855b4",
   "metadata": {},
   "outputs": [],
   "source": [
    "def extract_features(file_path):\n",
    "    \"\"\"\n",
    "    Extracts comprehensive audio features with dynamic n_fft adjustment for short clips.\n",
    "    \"\"\"\n",
    "    audio, sr = librosa.load(file_path, res_type='scipy')\n",
    "    # Trim silence\n",
    "    audio, _ = librosa.effects.trim(audio, top_db=20)\n",
    "    # Adjust n_fft dynamically based on audio length\n",
    "    n_fft_value = min(1024, len(audio))\n",
    "    \n",
    "    # Extract features\n",
    "    mfcc = np.mean(librosa.feature.mfcc(y=audio, sr=sr, n_mfcc=13).T, axis=0)\n",
    "    chroma = np.mean(librosa.feature.chroma_stft(y=audio, sr=sr, n_fft=n_fft_value).T, axis=0)\n",
    "    mel = np.mean(librosa.feature.melspectrogram(y=audio, sr=sr, n_fft=n_fft_value).T, axis=0)\n",
    "    spectral_contrast = np.mean(librosa.feature.spectral_contrast(y=audio, sr=sr, n_fft=n_fft_value).T, axis=0)\n",
    "    tonnetz = np.mean(librosa.feature.tonnetz(y=librosa.effects.harmonic(audio), sr=sr).T, axis=0)\n",
    "    rms = np.mean(librosa.feature.rms(y=audio).T, axis=0)\n",
    "    zcr = np.mean(librosa.feature.zero_crossing_rate(y=audio).T, axis=0)\n",
    "    \n",
    "    # Combine all features into a single array\n",
    "    features = np.concatenate([mfcc, chroma, mel, spectral_contrast, tonnetz, rms, zcr])\n",
    "     # Normalize the features\n",
    "    features_normalized = (features - np.mean(features)) / np.std(features)\n",
    "    \n",
    "    return features_normalized\n",
    "    \n"
   ]
  },
  {
   "cell_type": "markdown",
   "id": "c7866138",
   "metadata": {},
   "source": [
    "## LOADING TESS DATASET"
   ]
  },
  {
   "cell_type": "code",
   "execution_count": null,
   "id": "d7488d48",
   "metadata": {},
   "outputs": [
    {
     "name": "stdout",
     "output_type": "stream",
     "text": [
      "D:\\kagglehub\\datasets\\ejlok1\\toronto-emotional-speech-set-tess\\versions\\1\\TESS Toronto emotional speech set data\\OAF_angry\\OAF_back_angry.wav\n"
     ]
    },
    {
     "name": "stderr",
     "output_type": "stream",
     "text": [
      "C:\\Users\\NEW\\AppData\\Roaming\\Python\\Python311\\site-packages\\librosa\\core\\spectrum.py:266: UserWarning: n_fft=1024 is too large for input signal of length=816\n",
      "  warnings.warn(\n",
      "C:\\Users\\NEW\\AppData\\Roaming\\Python\\Python311\\site-packages\\librosa\\core\\spectrum.py:266: UserWarning: n_fft=1024 is too large for input signal of length=408\n",
      "  warnings.warn(\n"
     ]
    },
    {
     "name": "stdout",
     "output_type": "stream",
     "text": [
      "D:\\kagglehub\\datasets\\ejlok1\\toronto-emotional-speech-set-tess\\versions\\1\\TESS Toronto emotional speech set data\\OAF_angry\\OAF_bar_angry.wav\n"
     ]
    },
    {
     "name": "stderr",
     "output_type": "stream",
     "text": [
      "C:\\Users\\NEW\\AppData\\Roaming\\Python\\Python311\\site-packages\\librosa\\core\\spectrum.py:266: UserWarning: n_fft=1024 is too large for input signal of length=944\n",
      "  warnings.warn(\n",
      "C:\\Users\\NEW\\AppData\\Roaming\\Python\\Python311\\site-packages\\librosa\\core\\spectrum.py:266: UserWarning: n_fft=1024 is too large for input signal of length=472\n",
      "  warnings.warn(\n"
     ]
    },
    {
     "name": "stdout",
     "output_type": "stream",
     "text": [
      "D:\\kagglehub\\datasets\\ejlok1\\toronto-emotional-speech-set-tess\\versions\\1\\TESS Toronto emotional speech set data\\OAF_angry\\OAF_base_angry.wav\n"
     ]
    },
    {
     "name": "stderr",
     "output_type": "stream",
     "text": [
      "C:\\Users\\NEW\\AppData\\Roaming\\Python\\Python311\\site-packages\\librosa\\core\\spectrum.py:266: UserWarning: n_fft=1024 is too large for input signal of length=800\n",
      "  warnings.warn(\n",
      "C:\\Users\\NEW\\AppData\\Roaming\\Python\\Python311\\site-packages\\librosa\\core\\spectrum.py:266: UserWarning: n_fft=1024 is too large for input signal of length=400\n",
      "  warnings.warn(\n"
     ]
    },
    {
     "name": "stdout",
     "output_type": "stream",
     "text": [
      "D:\\kagglehub\\datasets\\ejlok1\\toronto-emotional-speech-set-tess\\versions\\1\\TESS Toronto emotional speech set data\\OAF_angry\\OAF_bath_angry.wav\n"
     ]
    },
    {
     "name": "stderr",
     "output_type": "stream",
     "text": [
      "C:\\Users\\NEW\\AppData\\Roaming\\Python\\Python311\\site-packages\\librosa\\core\\spectrum.py:266: UserWarning: n_fft=1024 is too large for input signal of length=880\n",
      "  warnings.warn(\n",
      "C:\\Users\\NEW\\AppData\\Roaming\\Python\\Python311\\site-packages\\librosa\\core\\spectrum.py:266: UserWarning: n_fft=1024 is too large for input signal of length=440\n",
      "  warnings.warn(\n"
     ]
    },
    {
     "name": "stdout",
     "output_type": "stream",
     "text": [
      "D:\\kagglehub\\datasets\\ejlok1\\toronto-emotional-speech-set-tess\\versions\\1\\TESS Toronto emotional speech set data\\OAF_angry\\OAF_bean_angry.wav\n",
      "D:\\kagglehub\\datasets\\ejlok1\\toronto-emotional-speech-set-tess\\versions\\1\\TESS Toronto emotional speech set data\\OAF_angry\\OAF_beg_angry.wav\n"
     ]
    },
    {
     "name": "stderr",
     "output_type": "stream",
     "text": [
      "C:\\Users\\NEW\\AppData\\Roaming\\Python\\Python311\\site-packages\\librosa\\core\\spectrum.py:266: UserWarning: n_fft=1024 is too large for input signal of length=928\n",
      "  warnings.warn(\n",
      "C:\\Users\\NEW\\AppData\\Roaming\\Python\\Python311\\site-packages\\librosa\\core\\spectrum.py:266: UserWarning: n_fft=1024 is too large for input signal of length=464\n",
      "  warnings.warn(\n"
     ]
    },
    {
     "name": "stdout",
     "output_type": "stream",
     "text": [
      "D:\\kagglehub\\datasets\\ejlok1\\toronto-emotional-speech-set-tess\\versions\\1\\TESS Toronto emotional speech set data\\OAF_angry\\OAF_bite_angry.wav\n"
     ]
    },
    {
     "name": "stderr",
     "output_type": "stream",
     "text": [
      "C:\\Users\\NEW\\AppData\\Roaming\\Python\\Python311\\site-packages\\librosa\\core\\spectrum.py:266: UserWarning: n_fft=1024 is too large for input signal of length=832\n",
      "  warnings.warn(\n",
      "C:\\Users\\NEW\\AppData\\Roaming\\Python\\Python311\\site-packages\\librosa\\core\\spectrum.py:266: UserWarning: n_fft=1024 is too large for input signal of length=416\n",
      "  warnings.warn(\n"
     ]
    },
    {
     "name": "stdout",
     "output_type": "stream",
     "text": [
      "D:\\kagglehub\\datasets\\ejlok1\\toronto-emotional-speech-set-tess\\versions\\1\\TESS Toronto emotional speech set data\\OAF_angry\\OAF_boat_angry.wav\n"
     ]
    },
    {
     "name": "stderr",
     "output_type": "stream",
     "text": [
      "C:\\Users\\NEW\\AppData\\Roaming\\Python\\Python311\\site-packages\\librosa\\core\\spectrum.py:266: UserWarning: n_fft=1024 is too large for input signal of length=835\n",
      "  warnings.warn(\n",
      "C:\\Users\\NEW\\AppData\\Roaming\\Python\\Python311\\site-packages\\librosa\\core\\spectrum.py:266: UserWarning: n_fft=1024 is too large for input signal of length=418\n",
      "  warnings.warn(\n"
     ]
    },
    {
     "name": "stdout",
     "output_type": "stream",
     "text": [
      "D:\\kagglehub\\datasets\\ejlok1\\toronto-emotional-speech-set-tess\\versions\\1\\TESS Toronto emotional speech set data\\OAF_angry\\OAF_bone_angry.wav\n",
      "D:\\kagglehub\\datasets\\ejlok1\\toronto-emotional-speech-set-tess\\versions\\1\\TESS Toronto emotional speech set data\\OAF_angry\\OAF_book_angry.wav\n",
      "D:\\kagglehub\\datasets\\ejlok1\\toronto-emotional-speech-set-tess\\versions\\1\\TESS Toronto emotional speech set data\\OAF_angry\\OAF_bought_angry.wav\n",
      "D:\\kagglehub\\datasets\\ejlok1\\toronto-emotional-speech-set-tess\\versions\\1\\TESS Toronto emotional speech set data\\OAF_angry\\OAF_burn_angry.wav\n"
     ]
    },
    {
     "name": "stderr",
     "output_type": "stream",
     "text": [
      "C:\\Users\\NEW\\AppData\\Roaming\\Python\\Python311\\site-packages\\librosa\\core\\spectrum.py:266: UserWarning: n_fft=1024 is too large for input signal of length=976\n",
      "  warnings.warn(\n",
      "C:\\Users\\NEW\\AppData\\Roaming\\Python\\Python311\\site-packages\\librosa\\core\\spectrum.py:266: UserWarning: n_fft=1024 is too large for input signal of length=488\n",
      "  warnings.warn(\n"
     ]
    },
    {
     "name": "stdout",
     "output_type": "stream",
     "text": [
      "D:\\kagglehub\\datasets\\ejlok1\\toronto-emotional-speech-set-tess\\versions\\1\\TESS Toronto emotional speech set data\\OAF_angry\\OAF_cab_angry.wav\n",
      "D:\\kagglehub\\datasets\\ejlok1\\toronto-emotional-speech-set-tess\\versions\\1\\TESS Toronto emotional speech set data\\OAF_angry\\OAF_calm_angry.wav\n"
     ]
    },
    {
     "name": "stderr",
     "output_type": "stream",
     "text": [
      "C:\\Users\\NEW\\AppData\\Roaming\\Python\\Python311\\site-packages\\librosa\\core\\spectrum.py:266: UserWarning: n_fft=1024 is too large for input signal of length=896\n",
      "  warnings.warn(\n",
      "C:\\Users\\NEW\\AppData\\Roaming\\Python\\Python311\\site-packages\\librosa\\core\\spectrum.py:266: UserWarning: n_fft=1024 is too large for input signal of length=448\n",
      "  warnings.warn(\n"
     ]
    },
    {
     "name": "stdout",
     "output_type": "stream",
     "text": [
      "D:\\kagglehub\\datasets\\ejlok1\\toronto-emotional-speech-set-tess\\versions\\1\\TESS Toronto emotional speech set data\\OAF_angry\\OAF_came_angry.wav\n"
     ]
    },
    {
     "name": "stderr",
     "output_type": "stream",
     "text": [
      "C:\\Users\\NEW\\AppData\\Roaming\\Python\\Python311\\site-packages\\librosa\\core\\spectrum.py:266: UserWarning: n_fft=1024 is too large for input signal of length=912\n",
      "  warnings.warn(\n",
      "C:\\Users\\NEW\\AppData\\Roaming\\Python\\Python311\\site-packages\\librosa\\core\\spectrum.py:266: UserWarning: n_fft=1024 is too large for input signal of length=456\n",
      "  warnings.warn(\n"
     ]
    },
    {
     "name": "stdout",
     "output_type": "stream",
     "text": [
      "D:\\kagglehub\\datasets\\ejlok1\\toronto-emotional-speech-set-tess\\versions\\1\\TESS Toronto emotional speech set data\\OAF_angry\\OAF_cause_angry.wav\n",
      "D:\\kagglehub\\datasets\\ejlok1\\toronto-emotional-speech-set-tess\\versions\\1\\TESS Toronto emotional speech set data\\OAF_angry\\OAF_chain_angry.wav\n",
      "D:\\kagglehub\\datasets\\ejlok1\\toronto-emotional-speech-set-tess\\versions\\1\\TESS Toronto emotional speech set data\\OAF_angry\\OAF_chair_angry.wav\n"
     ]
    },
    {
     "name": "stderr",
     "output_type": "stream",
     "text": [
      "C:\\Users\\NEW\\AppData\\Roaming\\Python\\Python311\\site-packages\\librosa\\core\\spectrum.py:266: UserWarning: n_fft=1024 is too large for input signal of length=960\n",
      "  warnings.warn(\n",
      "C:\\Users\\NEW\\AppData\\Roaming\\Python\\Python311\\site-packages\\librosa\\core\\spectrum.py:266: UserWarning: n_fft=1024 is too large for input signal of length=480\n",
      "  warnings.warn(\n"
     ]
    },
    {
     "name": "stdout",
     "output_type": "stream",
     "text": [
      "D:\\kagglehub\\datasets\\ejlok1\\toronto-emotional-speech-set-tess\\versions\\1\\TESS Toronto emotional speech set data\\OAF_angry\\OAF_chalk_angry.wav\n",
      "D:\\kagglehub\\datasets\\ejlok1\\toronto-emotional-speech-set-tess\\versions\\1\\TESS Toronto emotional speech set data\\OAF_angry\\OAF_chat_angry.wav\n",
      "D:\\kagglehub\\datasets\\ejlok1\\toronto-emotional-speech-set-tess\\versions\\1\\TESS Toronto emotional speech set data\\OAF_angry\\OAF_check_angry.wav\n",
      "D:\\kagglehub\\datasets\\ejlok1\\toronto-emotional-speech-set-tess\\versions\\1\\TESS Toronto emotional speech set data\\OAF_angry\\OAF_cheek_angry.wav\n",
      "D:\\kagglehub\\datasets\\ejlok1\\toronto-emotional-speech-set-tess\\versions\\1\\TESS Toronto emotional speech set data\\OAF_angry\\OAF_chief_angry.wav\n",
      "D:\\kagglehub\\datasets\\ejlok1\\toronto-emotional-speech-set-tess\\versions\\1\\TESS Toronto emotional speech set data\\OAF_angry\\OAF_choice_angry.wav\n"
     ]
    },
    {
     "name": "stderr",
     "output_type": "stream",
     "text": [
      "C:\\Users\\NEW\\AppData\\Roaming\\Python\\Python311\\site-packages\\librosa\\core\\spectrum.py:266: UserWarning: n_fft=1024 is too large for input signal of length=784\n",
      "  warnings.warn(\n",
      "C:\\Users\\NEW\\AppData\\Roaming\\Python\\Python311\\site-packages\\librosa\\core\\spectrum.py:266: UserWarning: n_fft=1024 is too large for input signal of length=392\n",
      "  warnings.warn(\n"
     ]
    },
    {
     "name": "stdout",
     "output_type": "stream",
     "text": [
      "D:\\kagglehub\\datasets\\ejlok1\\toronto-emotional-speech-set-tess\\versions\\1\\TESS Toronto emotional speech set data\\OAF_angry\\OAF_cool_angry.wav\n",
      "D:\\kagglehub\\datasets\\ejlok1\\toronto-emotional-speech-set-tess\\versions\\1\\TESS Toronto emotional speech set data\\OAF_angry\\OAF_dab_angry.wav\n"
     ]
    },
    {
     "name": "stderr",
     "output_type": "stream",
     "text": [
      "C:\\Users\\NEW\\AppData\\Roaming\\Python\\Python311\\site-packages\\librosa\\core\\spectrum.py:266: UserWarning: n_fft=1024 is too large for input signal of length=992\n",
      "  warnings.warn(\n",
      "C:\\Users\\NEW\\AppData\\Roaming\\Python\\Python311\\site-packages\\librosa\\core\\spectrum.py:266: UserWarning: n_fft=1024 is too large for input signal of length=496\n",
      "  warnings.warn(\n"
     ]
    },
    {
     "name": "stdout",
     "output_type": "stream",
     "text": [
      "D:\\kagglehub\\datasets\\ejlok1\\toronto-emotional-speech-set-tess\\versions\\1\\TESS Toronto emotional speech set data\\OAF_angry\\OAF_date_angry.wav\n",
      "D:\\kagglehub\\datasets\\ejlok1\\toronto-emotional-speech-set-tess\\versions\\1\\TESS Toronto emotional speech set data\\OAF_angry\\OAF_dead_angry.wav\n",
      "D:\\kagglehub\\datasets\\ejlok1\\toronto-emotional-speech-set-tess\\versions\\1\\TESS Toronto emotional speech set data\\OAF_angry\\OAF_death_angry.wav\n",
      "D:\\kagglehub\\datasets\\ejlok1\\toronto-emotional-speech-set-tess\\versions\\1\\TESS Toronto emotional speech set data\\OAF_angry\\OAF_deep_angry.wav\n"
     ]
    },
    {
     "name": "stderr",
     "output_type": "stream",
     "text": [
      "C:\\Users\\NEW\\AppData\\Roaming\\Python\\Python311\\site-packages\\librosa\\core\\spectrum.py:266: UserWarning: n_fft=1024 is too large for input signal of length=864\n",
      "  warnings.warn(\n",
      "C:\\Users\\NEW\\AppData\\Roaming\\Python\\Python311\\site-packages\\librosa\\core\\spectrum.py:266: UserWarning: n_fft=1024 is too large for input signal of length=432\n",
      "  warnings.warn(\n"
     ]
    },
    {
     "name": "stdout",
     "output_type": "stream",
     "text": [
      "D:\\kagglehub\\datasets\\ejlok1\\toronto-emotional-speech-set-tess\\versions\\1\\TESS Toronto emotional speech set data\\OAF_angry\\OAF_dime_angry.wav\n"
     ]
    },
    {
     "name": "stderr",
     "output_type": "stream",
     "text": [
      "C:\\Users\\NEW\\AppData\\Roaming\\Python\\Python311\\site-packages\\librosa\\core\\spectrum.py:266: UserWarning: n_fft=1024 is too large for input signal of length=520\n",
      "  warnings.warn(\n"
     ]
    },
    {
     "name": "stdout",
     "output_type": "stream",
     "text": [
      "D:\\kagglehub\\datasets\\ejlok1\\toronto-emotional-speech-set-tess\\versions\\1\\TESS Toronto emotional speech set data\\OAF_angry\\OAF_dip_angry.wav\n",
      "D:\\kagglehub\\datasets\\ejlok1\\toronto-emotional-speech-set-tess\\versions\\1\\TESS Toronto emotional speech set data\\OAF_angry\\OAF_ditch_angry.wav\n",
      "D:\\kagglehub\\datasets\\ejlok1\\toronto-emotional-speech-set-tess\\versions\\1\\TESS Toronto emotional speech set data\\OAF_angry\\OAF_dodge_angry.wav\n",
      "D:\\kagglehub\\datasets\\ejlok1\\toronto-emotional-speech-set-tess\\versions\\1\\TESS Toronto emotional speech set data\\OAF_angry\\OAF_dog_angry.wav\n",
      "D:\\kagglehub\\datasets\\ejlok1\\toronto-emotional-speech-set-tess\\versions\\1\\TESS Toronto emotional speech set data\\OAF_angry\\OAF_doll_angry.wav\n",
      "D:\\kagglehub\\datasets\\ejlok1\\toronto-emotional-speech-set-tess\\versions\\1\\TESS Toronto emotional speech set data\\OAF_angry\\OAF_door_angry.wav\n",
      "D:\\kagglehub\\datasets\\ejlok1\\toronto-emotional-speech-set-tess\\versions\\1\\TESS Toronto emotional speech set data\\OAF_angry\\OAF_fail_angry.wav\n",
      "D:\\kagglehub\\datasets\\ejlok1\\toronto-emotional-speech-set-tess\\versions\\1\\TESS Toronto emotional speech set data\\OAF_angry\\OAF_fall_angry.wav\n",
      "D:\\kagglehub\\datasets\\ejlok1\\toronto-emotional-speech-set-tess\\versions\\1\\TESS Toronto emotional speech set data\\OAF_angry\\OAF_far_angry.wav\n",
      "D:\\kagglehub\\datasets\\ejlok1\\toronto-emotional-speech-set-tess\\versions\\1\\TESS Toronto emotional speech set data\\OAF_angry\\OAF_fat_angry.wav\n",
      "D:\\kagglehub\\datasets\\ejlok1\\toronto-emotional-speech-set-tess\\versions\\1\\TESS Toronto emotional speech set data\\OAF_angry\\OAF_fit_angry.wav\n",
      "D:\\kagglehub\\datasets\\ejlok1\\toronto-emotional-speech-set-tess\\versions\\1\\TESS Toronto emotional speech set data\\OAF_angry\\OAF_five_angry.wav\n",
      "D:\\kagglehub\\datasets\\ejlok1\\toronto-emotional-speech-set-tess\\versions\\1\\TESS Toronto emotional speech set data\\OAF_angry\\OAF_food_angry.wav\n",
      "D:\\kagglehub\\datasets\\ejlok1\\toronto-emotional-speech-set-tess\\versions\\1\\TESS Toronto emotional speech set data\\OAF_angry\\OAF_gap_angry.wav\n",
      "D:\\kagglehub\\datasets\\ejlok1\\toronto-emotional-speech-set-tess\\versions\\1\\TESS Toronto emotional speech set data\\OAF_angry\\OAF_gas_angry.wav\n"
     ]
    },
    {
     "name": "stderr",
     "output_type": "stream",
     "text": [
      "C:\\Users\\NEW\\AppData\\Roaming\\Python\\Python311\\site-packages\\librosa\\core\\spectrum.py:266: UserWarning: n_fft=1024 is too large for input signal of length=848\n",
      "  warnings.warn(\n",
      "C:\\Users\\NEW\\AppData\\Roaming\\Python\\Python311\\site-packages\\librosa\\core\\spectrum.py:266: UserWarning: n_fft=1024 is too large for input signal of length=424\n",
      "  warnings.warn(\n"
     ]
    },
    {
     "name": "stdout",
     "output_type": "stream",
     "text": [
      "D:\\kagglehub\\datasets\\ejlok1\\toronto-emotional-speech-set-tess\\versions\\1\\TESS Toronto emotional speech set data\\OAF_angry\\OAF_gaze_angry.wav\n",
      "D:\\kagglehub\\datasets\\ejlok1\\toronto-emotional-speech-set-tess\\versions\\1\\TESS Toronto emotional speech set data\\OAF_angry\\OAF_germ_angry.wav\n",
      "D:\\kagglehub\\datasets\\ejlok1\\toronto-emotional-speech-set-tess\\versions\\1\\TESS Toronto emotional speech set data\\OAF_angry\\OAF_get_angry.wav\n",
      "D:\\kagglehub\\datasets\\ejlok1\\toronto-emotional-speech-set-tess\\versions\\1\\TESS Toronto emotional speech set data\\OAF_angry\\OAF_gin_angry.wav\n",
      "D:\\kagglehub\\datasets\\ejlok1\\toronto-emotional-speech-set-tess\\versions\\1\\TESS Toronto emotional speech set data\\OAF_angry\\OAF_goal_angry.wav\n",
      "D:\\kagglehub\\datasets\\ejlok1\\toronto-emotional-speech-set-tess\\versions\\1\\TESS Toronto emotional speech set data\\OAF_angry\\OAF_good_angry.wav\n",
      "D:\\kagglehub\\datasets\\ejlok1\\toronto-emotional-speech-set-tess\\versions\\1\\TESS Toronto emotional speech set data\\OAF_angry\\OAF_goose_angry.wav\n",
      "D:\\kagglehub\\datasets\\ejlok1\\toronto-emotional-speech-set-tess\\versions\\1\\TESS Toronto emotional speech set data\\OAF_angry\\OAF_gun_angry.wav\n",
      "D:\\kagglehub\\datasets\\ejlok1\\toronto-emotional-speech-set-tess\\versions\\1\\TESS Toronto emotional speech set data\\OAF_angry\\OAF_half_angry.wav\n",
      "D:\\kagglehub\\datasets\\ejlok1\\toronto-emotional-speech-set-tess\\versions\\1\\TESS Toronto emotional speech set data\\OAF_angry\\OAF_hall_angry.wav\n",
      "D:\\kagglehub\\datasets\\ejlok1\\toronto-emotional-speech-set-tess\\versions\\1\\TESS Toronto emotional speech set data\\OAF_angry\\OAF_hash_angry.wav\n",
      "D:\\kagglehub\\datasets\\ejlok1\\toronto-emotional-speech-set-tess\\versions\\1\\TESS Toronto emotional speech set data\\OAF_angry\\OAF_hate_angry.wav\n",
      "D:\\kagglehub\\datasets\\ejlok1\\toronto-emotional-speech-set-tess\\versions\\1\\TESS Toronto emotional speech set data\\OAF_angry\\OAF_have_angry.wav\n",
      "D:\\kagglehub\\datasets\\ejlok1\\toronto-emotional-speech-set-tess\\versions\\1\\TESS Toronto emotional speech set data\\OAF_angry\\OAF_haze_angry.wav\n",
      "D:\\kagglehub\\datasets\\ejlok1\\toronto-emotional-speech-set-tess\\versions\\1\\TESS Toronto emotional speech set data\\OAF_angry\\OAF_hire_angry.wav\n",
      "D:\\kagglehub\\datasets\\ejlok1\\toronto-emotional-speech-set-tess\\versions\\1\\TESS Toronto emotional speech set data\\OAF_angry\\OAF_hit_angry.wav\n"
     ]
    },
    {
     "name": "stderr",
     "output_type": "stream",
     "text": [
      "C:\\Users\\NEW\\AppData\\Roaming\\Python\\Python311\\site-packages\\librosa\\core\\spectrum.py:266: UserWarning: n_fft=1024 is too large for input signal of length=887\n",
      "  warnings.warn(\n",
      "C:\\Users\\NEW\\AppData\\Roaming\\Python\\Python311\\site-packages\\librosa\\core\\spectrum.py:266: UserWarning: n_fft=1024 is too large for input signal of length=444\n",
      "  warnings.warn(\n"
     ]
    },
    {
     "name": "stdout",
     "output_type": "stream",
     "text": [
      "D:\\kagglehub\\datasets\\ejlok1\\toronto-emotional-speech-set-tess\\versions\\1\\TESS Toronto emotional speech set data\\OAF_angry\\OAF_hole_angry.wav\n",
      "D:\\kagglehub\\datasets\\ejlok1\\toronto-emotional-speech-set-tess\\versions\\1\\TESS Toronto emotional speech set data\\OAF_angry\\OAF_home_angry.wav\n",
      "D:\\kagglehub\\datasets\\ejlok1\\toronto-emotional-speech-set-tess\\versions\\1\\TESS Toronto emotional speech set data\\OAF_angry\\OAF_hurl_angry.wav\n"
     ]
    },
    {
     "name": "stderr",
     "output_type": "stream",
     "text": [
      "C:\\Users\\NEW\\AppData\\Roaming\\Python\\Python311\\site-packages\\librosa\\core\\spectrum.py:266: UserWarning: n_fft=1024 is too large for input signal of length=1008\n",
      "  warnings.warn(\n",
      "C:\\Users\\NEW\\AppData\\Roaming\\Python\\Python311\\site-packages\\librosa\\core\\spectrum.py:266: UserWarning: n_fft=1024 is too large for input signal of length=504\n",
      "  warnings.warn(\n"
     ]
    },
    {
     "name": "stdout",
     "output_type": "stream",
     "text": [
      "D:\\kagglehub\\datasets\\ejlok1\\toronto-emotional-speech-set-tess\\versions\\1\\TESS Toronto emotional speech set data\\OAF_angry\\OAF_hush_angry.wav\n",
      "D:\\kagglehub\\datasets\\ejlok1\\toronto-emotional-speech-set-tess\\versions\\1\\TESS Toronto emotional speech set data\\OAF_angry\\OAF_jail_angry.wav\n",
      "D:\\kagglehub\\datasets\\ejlok1\\toronto-emotional-speech-set-tess\\versions\\1\\TESS Toronto emotional speech set data\\OAF_angry\\OAF_jar_angry.wav\n",
      "D:\\kagglehub\\datasets\\ejlok1\\toronto-emotional-speech-set-tess\\versions\\1\\TESS Toronto emotional speech set data\\OAF_angry\\OAF_join_angry.wav\n",
      "D:\\kagglehub\\datasets\\ejlok1\\toronto-emotional-speech-set-tess\\versions\\1\\TESS Toronto emotional speech set data\\OAF_angry\\OAF_judge_angry.wav\n",
      "D:\\kagglehub\\datasets\\ejlok1\\toronto-emotional-speech-set-tess\\versions\\1\\TESS Toronto emotional speech set data\\OAF_angry\\OAF_jug_angry.wav\n",
      "D:\\kagglehub\\datasets\\ejlok1\\toronto-emotional-speech-set-tess\\versions\\1\\TESS Toronto emotional speech set data\\OAF_angry\\OAF_juice_angry.wav\n",
      "D:\\kagglehub\\datasets\\ejlok1\\toronto-emotional-speech-set-tess\\versions\\1\\TESS Toronto emotional speech set data\\OAF_angry\\OAF_keen_angry.wav\n"
     ]
    },
    {
     "name": "stderr",
     "output_type": "stream",
     "text": [
      "C:\\Users\\NEW\\AppData\\Roaming\\Python\\Python311\\site-packages\\librosa\\core\\spectrum.py:266: UserWarning: n_fft=1024 is too large for input signal of length=528\n",
      "  warnings.warn(\n"
     ]
    },
    {
     "name": "stdout",
     "output_type": "stream",
     "text": [
      "D:\\kagglehub\\datasets\\ejlok1\\toronto-emotional-speech-set-tess\\versions\\1\\TESS Toronto emotional speech set data\\OAF_angry\\OAF_keep_angry.wav\n",
      "D:\\kagglehub\\datasets\\ejlok1\\toronto-emotional-speech-set-tess\\versions\\1\\TESS Toronto emotional speech set data\\OAF_angry\\OAF_keg_angry.wav\n",
      "D:\\kagglehub\\datasets\\ejlok1\\toronto-emotional-speech-set-tess\\versions\\1\\TESS Toronto emotional speech set data\\OAF_angry\\OAF_kick_angry.wav\n",
      "D:\\kagglehub\\datasets\\ejlok1\\toronto-emotional-speech-set-tess\\versions\\1\\TESS Toronto emotional speech set data\\OAF_angry\\OAF_kill_angry.wav\n",
      "D:\\kagglehub\\datasets\\ejlok1\\toronto-emotional-speech-set-tess\\versions\\1\\TESS Toronto emotional speech set data\\OAF_angry\\OAF_king_angry.wav\n",
      "D:\\kagglehub\\datasets\\ejlok1\\toronto-emotional-speech-set-tess\\versions\\1\\TESS Toronto emotional speech set data\\OAF_angry\\OAF_kite_angry.wav\n",
      "D:\\kagglehub\\datasets\\ejlok1\\toronto-emotional-speech-set-tess\\versions\\1\\TESS Toronto emotional speech set data\\OAF_angry\\OAF_knock_angry.wav\n",
      "D:\\kagglehub\\datasets\\ejlok1\\toronto-emotional-speech-set-tess\\versions\\1\\TESS Toronto emotional speech set data\\OAF_angry\\OAF_late_angry.wav\n",
      "D:\\kagglehub\\datasets\\ejlok1\\toronto-emotional-speech-set-tess\\versions\\1\\TESS Toronto emotional speech set data\\OAF_angry\\OAF_laud_angry.wav\n",
      "D:\\kagglehub\\datasets\\ejlok1\\toronto-emotional-speech-set-tess\\versions\\1\\TESS Toronto emotional speech set data\\OAF_angry\\OAF_lean_angry.wav\n",
      "D:\\kagglehub\\datasets\\ejlok1\\toronto-emotional-speech-set-tess\\versions\\1\\TESS Toronto emotional speech set data\\OAF_angry\\OAF_learn_angry.wav\n",
      "D:\\kagglehub\\datasets\\ejlok1\\toronto-emotional-speech-set-tess\\versions\\1\\TESS Toronto emotional speech set data\\OAF_angry\\OAF_lease_angry.wav\n",
      "D:\\kagglehub\\datasets\\ejlok1\\toronto-emotional-speech-set-tess\\versions\\1\\TESS Toronto emotional speech set data\\OAF_angry\\OAF_lid_angry.wav\n",
      "D:\\kagglehub\\datasets\\ejlok1\\toronto-emotional-speech-set-tess\\versions\\1\\TESS Toronto emotional speech set data\\OAF_angry\\OAF_life_angry.wav\n",
      "D:\\kagglehub\\datasets\\ejlok1\\toronto-emotional-speech-set-tess\\versions\\1\\TESS Toronto emotional speech set data\\OAF_angry\\OAF_limb_angry.wav\n",
      "D:\\kagglehub\\datasets\\ejlok1\\toronto-emotional-speech-set-tess\\versions\\1\\TESS Toronto emotional speech set data\\OAF_angry\\OAF_live_angry.wav\n",
      "D:\\kagglehub\\datasets\\ejlok1\\toronto-emotional-speech-set-tess\\versions\\1\\TESS Toronto emotional speech set data\\OAF_angry\\OAF_loaf_angry.wav\n",
      "D:\\kagglehub\\datasets\\ejlok1\\toronto-emotional-speech-set-tess\\versions\\1\\TESS Toronto emotional speech set data\\OAF_angry\\OAF_long_angry.wav\n",
      "D:\\kagglehub\\datasets\\ejlok1\\toronto-emotional-speech-set-tess\\versions\\1\\TESS Toronto emotional speech set data\\OAF_angry\\OAF_lore_angry.wav\n"
     ]
    },
    {
     "name": "stderr",
     "output_type": "stream",
     "text": [
      "C:\\Users\\NEW\\AppData\\Roaming\\Python\\Python311\\site-packages\\librosa\\core\\spectrum.py:266: UserWarning: n_fft=1024 is too large for input signal of length=512\n",
      "  warnings.warn(\n"
     ]
    },
    {
     "name": "stdout",
     "output_type": "stream",
     "text": [
      "D:\\kagglehub\\datasets\\ejlok1\\toronto-emotional-speech-set-tess\\versions\\1\\TESS Toronto emotional speech set data\\OAF_angry\\OAF_lose_angry.wav\n",
      "D:\\kagglehub\\datasets\\ejlok1\\toronto-emotional-speech-set-tess\\versions\\1\\TESS Toronto emotional speech set data\\OAF_angry\\OAF_lot_angry.wav\n",
      "D:\\kagglehub\\datasets\\ejlok1\\toronto-emotional-speech-set-tess\\versions\\1\\TESS Toronto emotional speech set data\\OAF_angry\\OAF_love_angry.wav\n",
      "D:\\kagglehub\\datasets\\ejlok1\\toronto-emotional-speech-set-tess\\versions\\1\\TESS Toronto emotional speech set data\\OAF_angry\\OAF_luck_angry.wav\n",
      "D:\\kagglehub\\datasets\\ejlok1\\toronto-emotional-speech-set-tess\\versions\\1\\TESS Toronto emotional speech set data\\OAF_angry\\OAF_make_angry.wav\n",
      "D:\\kagglehub\\datasets\\ejlok1\\toronto-emotional-speech-set-tess\\versions\\1\\TESS Toronto emotional speech set data\\OAF_angry\\OAF_match_angry.wav\n",
      "D:\\kagglehub\\datasets\\ejlok1\\toronto-emotional-speech-set-tess\\versions\\1\\TESS Toronto emotional speech set data\\OAF_angry\\OAF_merge_angry.wav\n",
      "D:\\kagglehub\\datasets\\ejlok1\\toronto-emotional-speech-set-tess\\versions\\1\\TESS Toronto emotional speech set data\\OAF_angry\\OAF_mess_angry.wav\n",
      "D:\\kagglehub\\datasets\\ejlok1\\toronto-emotional-speech-set-tess\\versions\\1\\TESS Toronto emotional speech set data\\OAF_angry\\OAF_met_angry.wav\n",
      "D:\\kagglehub\\datasets\\ejlok1\\toronto-emotional-speech-set-tess\\versions\\1\\TESS Toronto emotional speech set data\\OAF_angry\\OAF_mill_angry.wav\n",
      "D:\\kagglehub\\datasets\\ejlok1\\toronto-emotional-speech-set-tess\\versions\\1\\TESS Toronto emotional speech set data\\OAF_angry\\OAF_mob_angry.wav\n",
      "D:\\kagglehub\\datasets\\ejlok1\\toronto-emotional-speech-set-tess\\versions\\1\\TESS Toronto emotional speech set data\\OAF_angry\\OAF_mode_angry.wav\n",
      "D:\\kagglehub\\datasets\\ejlok1\\toronto-emotional-speech-set-tess\\versions\\1\\TESS Toronto emotional speech set data\\OAF_angry\\OAF_mood_angry.wav\n",
      "D:\\kagglehub\\datasets\\ejlok1\\toronto-emotional-speech-set-tess\\versions\\1\\TESS Toronto emotional speech set data\\OAF_angry\\OAF_moon_angry.wav\n",
      "D:\\kagglehub\\datasets\\ejlok1\\toronto-emotional-speech-set-tess\\versions\\1\\TESS Toronto emotional speech set data\\OAF_angry\\OAF_mop_angry.wav\n",
      "D:\\kagglehub\\datasets\\ejlok1\\toronto-emotional-speech-set-tess\\versions\\1\\TESS Toronto emotional speech set data\\OAF_angry\\OAF_mouse_angry.wav\n"
     ]
    },
    {
     "name": "stderr",
     "output_type": "stream",
     "text": [
      "C:\\Users\\NEW\\AppData\\Roaming\\Python\\Python311\\site-packages\\librosa\\core\\spectrum.py:266: UserWarning: n_fft=1024 is too large for input signal of length=768\n",
      "  warnings.warn(\n",
      "C:\\Users\\NEW\\AppData\\Roaming\\Python\\Python311\\site-packages\\librosa\\core\\spectrum.py:266: UserWarning: n_fft=1024 is too large for input signal of length=384\n",
      "  warnings.warn(\n"
     ]
    },
    {
     "name": "stdout",
     "output_type": "stream",
     "text": [
      "D:\\kagglehub\\datasets\\ejlok1\\toronto-emotional-speech-set-tess\\versions\\1\\TESS Toronto emotional speech set data\\OAF_angry\\OAF_nag_angry.wav\n",
      "D:\\kagglehub\\datasets\\ejlok1\\toronto-emotional-speech-set-tess\\versions\\1\\TESS Toronto emotional speech set data\\OAF_angry\\OAF_name_angry.wav\n",
      "D:\\kagglehub\\datasets\\ejlok1\\toronto-emotional-speech-set-tess\\versions\\1\\TESS Toronto emotional speech set data\\OAF_angry\\OAF_near_angry.wav\n",
      "D:\\kagglehub\\datasets\\ejlok1\\toronto-emotional-speech-set-tess\\versions\\1\\TESS Toronto emotional speech set data\\OAF_angry\\OAF_neat_angry.wav\n",
      "D:\\kagglehub\\datasets\\ejlok1\\toronto-emotional-speech-set-tess\\versions\\1\\TESS Toronto emotional speech set data\\OAF_angry\\OAF_nice_angry.wav\n",
      "D:\\kagglehub\\datasets\\ejlok1\\toronto-emotional-speech-set-tess\\versions\\1\\TESS Toronto emotional speech set data\\OAF_angry\\OAF_note_angry.wav\n",
      "D:\\kagglehub\\datasets\\ejlok1\\toronto-emotional-speech-set-tess\\versions\\1\\TESS Toronto emotional speech set data\\OAF_angry\\OAF_numb_angry.wav\n",
      "D:\\kagglehub\\datasets\\ejlok1\\toronto-emotional-speech-set-tess\\versions\\1\\TESS Toronto emotional speech set data\\OAF_angry\\OAF_pad_angry.wav\n",
      "D:\\kagglehub\\datasets\\ejlok1\\toronto-emotional-speech-set-tess\\versions\\1\\TESS Toronto emotional speech set data\\OAF_angry\\OAF_page_angry.wav\n",
      "D:\\kagglehub\\datasets\\ejlok1\\toronto-emotional-speech-set-tess\\versions\\1\\TESS Toronto emotional speech set data\\OAF_angry\\OAF_pain_angry.wav\n",
      "D:\\kagglehub\\datasets\\ejlok1\\toronto-emotional-speech-set-tess\\versions\\1\\TESS Toronto emotional speech set data\\OAF_angry\\OAF_pass_angry.wav\n",
      "D:\\kagglehub\\datasets\\ejlok1\\toronto-emotional-speech-set-tess\\versions\\1\\TESS Toronto emotional speech set data\\OAF_angry\\OAF_pearl_angry.wav\n",
      "D:\\kagglehub\\datasets\\ejlok1\\toronto-emotional-speech-set-tess\\versions\\1\\TESS Toronto emotional speech set data\\OAF_angry\\OAF_peg_angry.wav\n",
      "D:\\kagglehub\\datasets\\ejlok1\\toronto-emotional-speech-set-tess\\versions\\1\\TESS Toronto emotional speech set data\\OAF_angry\\OAF_perch_angry.wav\n",
      "D:\\kagglehub\\datasets\\ejlok1\\toronto-emotional-speech-set-tess\\versions\\1\\TESS Toronto emotional speech set data\\OAF_angry\\OAF_phone_angry.wav\n",
      "D:\\kagglehub\\datasets\\ejlok1\\toronto-emotional-speech-set-tess\\versions\\1\\TESS Toronto emotional speech set data\\OAF_angry\\OAF_pick_angry.wav\n",
      "D:\\kagglehub\\datasets\\ejlok1\\toronto-emotional-speech-set-tess\\versions\\1\\TESS Toronto emotional speech set data\\OAF_angry\\OAF_pike_angry.wav\n",
      "D:\\kagglehub\\datasets\\ejlok1\\toronto-emotional-speech-set-tess\\versions\\1\\TESS Toronto emotional speech set data\\OAF_angry\\OAF_pole_angry.wav\n",
      "D:\\kagglehub\\datasets\\ejlok1\\toronto-emotional-speech-set-tess\\versions\\1\\TESS Toronto emotional speech set data\\OAF_angry\\OAF_pool_angry.wav\n",
      "D:\\kagglehub\\datasets\\ejlok1\\toronto-emotional-speech-set-tess\\versions\\1\\TESS Toronto emotional speech set data\\OAF_angry\\OAF_puff_angry.wav\n",
      "D:\\kagglehub\\datasets\\ejlok1\\toronto-emotional-speech-set-tess\\versions\\1\\TESS Toronto emotional speech set data\\OAF_angry\\OAF_rag_angry.wav\n",
      "D:\\kagglehub\\datasets\\ejlok1\\toronto-emotional-speech-set-tess\\versions\\1\\TESS Toronto emotional speech set data\\OAF_angry\\OAF_raid_angry.wav\n",
      "D:\\kagglehub\\datasets\\ejlok1\\toronto-emotional-speech-set-tess\\versions\\1\\TESS Toronto emotional speech set data\\OAF_angry\\OAF_rain_angry.wav\n",
      "D:\\kagglehub\\datasets\\ejlok1\\toronto-emotional-speech-set-tess\\versions\\1\\TESS Toronto emotional speech set data\\OAF_angry\\OAF_raise_angry.wav\n",
      "D:\\kagglehub\\datasets\\ejlok1\\toronto-emotional-speech-set-tess\\versions\\1\\TESS Toronto emotional speech set data\\OAF_angry\\OAF_rat_angry.wav\n",
      "D:\\kagglehub\\datasets\\ejlok1\\toronto-emotional-speech-set-tess\\versions\\1\\TESS Toronto emotional speech set data\\OAF_angry\\OAF_reach_angry.wav\n",
      "D:\\kagglehub\\datasets\\ejlok1\\toronto-emotional-speech-set-tess\\versions\\1\\TESS Toronto emotional speech set data\\OAF_angry\\OAF_read_angry.wav\n",
      "D:\\kagglehub\\datasets\\ejlok1\\toronto-emotional-speech-set-tess\\versions\\1\\TESS Toronto emotional speech set data\\OAF_angry\\OAF_red_angry.wav\n",
      "D:\\kagglehub\\datasets\\ejlok1\\toronto-emotional-speech-set-tess\\versions\\1\\TESS Toronto emotional speech set data\\OAF_angry\\OAF_ring_angry.wav\n",
      "D:\\kagglehub\\datasets\\ejlok1\\toronto-emotional-speech-set-tess\\versions\\1\\TESS Toronto emotional speech set data\\OAF_angry\\OAF_ripe_angry.wav\n",
      "D:\\kagglehub\\datasets\\ejlok1\\toronto-emotional-speech-set-tess\\versions\\1\\TESS Toronto emotional speech set data\\OAF_angry\\OAF_road_angry.wav\n",
      "D:\\kagglehub\\datasets\\ejlok1\\toronto-emotional-speech-set-tess\\versions\\1\\TESS Toronto emotional speech set data\\OAF_angry\\OAF_room_angry.wav\n",
      "D:\\kagglehub\\datasets\\ejlok1\\toronto-emotional-speech-set-tess\\versions\\1\\TESS Toronto emotional speech set data\\OAF_angry\\OAF_rose_angry.wav\n",
      "D:\\kagglehub\\datasets\\ejlok1\\toronto-emotional-speech-set-tess\\versions\\1\\TESS Toronto emotional speech set data\\OAF_angry\\OAF_rot_angry.wav\n",
      "D:\\kagglehub\\datasets\\ejlok1\\toronto-emotional-speech-set-tess\\versions\\1\\TESS Toronto emotional speech set data\\OAF_angry\\OAF_rough_angry.wav\n",
      "D:\\kagglehub\\datasets\\ejlok1\\toronto-emotional-speech-set-tess\\versions\\1\\TESS Toronto emotional speech set data\\OAF_angry\\OAF_rush_angry.wav\n",
      "D:\\kagglehub\\datasets\\ejlok1\\toronto-emotional-speech-set-tess\\versions\\1\\TESS Toronto emotional speech set data\\OAF_angry\\OAF_said_angry.wav\n",
      "D:\\kagglehub\\datasets\\ejlok1\\toronto-emotional-speech-set-tess\\versions\\1\\TESS Toronto emotional speech set data\\OAF_angry\\OAF_sail_angry.wav\n",
      "D:\\kagglehub\\datasets\\ejlok1\\toronto-emotional-speech-set-tess\\versions\\1\\TESS Toronto emotional speech set data\\OAF_angry\\OAF_search_angry.wav\n",
      "D:\\kagglehub\\datasets\\ejlok1\\toronto-emotional-speech-set-tess\\versions\\1\\TESS Toronto emotional speech set data\\OAF_angry\\OAF_seize_angry.wav\n",
      "D:\\kagglehub\\datasets\\ejlok1\\toronto-emotional-speech-set-tess\\versions\\1\\TESS Toronto emotional speech set data\\OAF_angry\\OAF_sell_angry.wav\n"
     ]
    },
    {
     "name": "stderr",
     "output_type": "stream",
     "text": [
      "C:\\Users\\NEW\\AppData\\Roaming\\Python\\Python311\\site-packages\\librosa\\core\\spectrum.py:266: UserWarning: n_fft=1024 is too large for input signal of length=895\n",
      "  warnings.warn(\n"
     ]
    },
    {
     "name": "stdout",
     "output_type": "stream",
     "text": [
      "D:\\kagglehub\\datasets\\ejlok1\\toronto-emotional-speech-set-tess\\versions\\1\\TESS Toronto emotional speech set data\\OAF_angry\\OAF_shack_angry.wav\n",
      "D:\\kagglehub\\datasets\\ejlok1\\toronto-emotional-speech-set-tess\\versions\\1\\TESS Toronto emotional speech set data\\OAF_angry\\OAF_shall_angry.wav\n",
      "D:\\kagglehub\\datasets\\ejlok1\\toronto-emotional-speech-set-tess\\versions\\1\\TESS Toronto emotional speech set data\\OAF_angry\\OAF_shawl_angry.wav\n",
      "D:\\kagglehub\\datasets\\ejlok1\\toronto-emotional-speech-set-tess\\versions\\1\\TESS Toronto emotional speech set data\\OAF_angry\\OAF_sheep_angry.wav\n",
      "D:\\kagglehub\\datasets\\ejlok1\\toronto-emotional-speech-set-tess\\versions\\1\\TESS Toronto emotional speech set data\\OAF_angry\\OAF_shirt_angry.wav\n",
      "D:\\kagglehub\\datasets\\ejlok1\\toronto-emotional-speech-set-tess\\versions\\1\\TESS Toronto emotional speech set data\\OAF_angry\\OAF_should_angry.wav\n",
      "D:\\kagglehub\\datasets\\ejlok1\\toronto-emotional-speech-set-tess\\versions\\1\\TESS Toronto emotional speech set data\\OAF_angry\\OAF_shout_angry.wav\n",
      "D:\\kagglehub\\datasets\\ejlok1\\toronto-emotional-speech-set-tess\\versions\\1\\TESS Toronto emotional speech set data\\OAF_angry\\OAF_size_angry.wav\n",
      "D:\\kagglehub\\datasets\\ejlok1\\toronto-emotional-speech-set-tess\\versions\\1\\TESS Toronto emotional speech set data\\OAF_angry\\OAF_soap_angry.wav\n",
      "D:\\kagglehub\\datasets\\ejlok1\\toronto-emotional-speech-set-tess\\versions\\1\\TESS Toronto emotional speech set data\\OAF_angry\\OAF_soup_angry.wav\n",
      "D:\\kagglehub\\datasets\\ejlok1\\toronto-emotional-speech-set-tess\\versions\\1\\TESS Toronto emotional speech set data\\OAF_angry\\OAF_sour_angry.wav\n",
      "D:\\kagglehub\\datasets\\ejlok1\\toronto-emotional-speech-set-tess\\versions\\1\\TESS Toronto emotional speech set data\\OAF_angry\\OAF_south_angry.wav\n",
      "D:\\kagglehub\\datasets\\ejlok1\\toronto-emotional-speech-set-tess\\versions\\1\\TESS Toronto emotional speech set data\\OAF_angry\\OAF_sub_angry.wav\n",
      "D:\\kagglehub\\datasets\\ejlok1\\toronto-emotional-speech-set-tess\\versions\\1\\TESS Toronto emotional speech set data\\OAF_angry\\OAF_such_angry.wav\n",
      "D:\\kagglehub\\datasets\\ejlok1\\toronto-emotional-speech-set-tess\\versions\\1\\TESS Toronto emotional speech set data\\OAF_angry\\OAF_sure_angry.wav\n",
      "D:\\kagglehub\\datasets\\ejlok1\\toronto-emotional-speech-set-tess\\versions\\1\\TESS Toronto emotional speech set data\\OAF_angry\\OAF_take_angry.wav\n",
      "D:\\kagglehub\\datasets\\ejlok1\\toronto-emotional-speech-set-tess\\versions\\1\\TESS Toronto emotional speech set data\\OAF_angry\\OAF_talk_angry.wav\n",
      "D:\\kagglehub\\datasets\\ejlok1\\toronto-emotional-speech-set-tess\\versions\\1\\TESS Toronto emotional speech set data\\OAF_angry\\OAF_tape_angry.wav\n",
      "D:\\kagglehub\\datasets\\ejlok1\\toronto-emotional-speech-set-tess\\versions\\1\\TESS Toronto emotional speech set data\\OAF_angry\\OAF_team_angry.wav\n",
      "D:\\kagglehub\\datasets\\ejlok1\\toronto-emotional-speech-set-tess\\versions\\1\\TESS Toronto emotional speech set data\\OAF_angry\\OAF_tell_angry.wav\n",
      "D:\\kagglehub\\datasets\\ejlok1\\toronto-emotional-speech-set-tess\\versions\\1\\TESS Toronto emotional speech set data\\OAF_angry\\OAF_thin_angry.wav\n",
      "D:\\kagglehub\\datasets\\ejlok1\\toronto-emotional-speech-set-tess\\versions\\1\\TESS Toronto emotional speech set data\\OAF_angry\\OAF_third_angry.wav\n",
      "D:\\kagglehub\\datasets\\ejlok1\\toronto-emotional-speech-set-tess\\versions\\1\\TESS Toronto emotional speech set data\\OAF_angry\\OAF_thought_angry.wav\n",
      "D:\\kagglehub\\datasets\\ejlok1\\toronto-emotional-speech-set-tess\\versions\\1\\TESS Toronto emotional speech set data\\OAF_angry\\OAF_thumb_angry.wav\n",
      "D:\\kagglehub\\datasets\\ejlok1\\toronto-emotional-speech-set-tess\\versions\\1\\TESS Toronto emotional speech set data\\OAF_angry\\OAF_time_angry.wav\n",
      "D:\\kagglehub\\datasets\\ejlok1\\toronto-emotional-speech-set-tess\\versions\\1\\TESS Toronto emotional speech set data\\OAF_angry\\OAF_tip_angry.wav\n"
     ]
    },
    {
     "name": "stderr",
     "output_type": "stream",
     "text": [
      "C:\\Users\\NEW\\AppData\\Roaming\\Python\\Python311\\site-packages\\librosa\\core\\spectrum.py:266: UserWarning: n_fft=1024 is too large for input signal of length=872\n",
      "  warnings.warn(\n",
      "C:\\Users\\NEW\\AppData\\Roaming\\Python\\Python311\\site-packages\\librosa\\core\\spectrum.py:266: UserWarning: n_fft=1024 is too large for input signal of length=436\n",
      "  warnings.warn(\n"
     ]
    },
    {
     "name": "stdout",
     "output_type": "stream",
     "text": [
      "D:\\kagglehub\\datasets\\ejlok1\\toronto-emotional-speech-set-tess\\versions\\1\\TESS Toronto emotional speech set data\\OAF_angry\\OAF_tire_angry.wav\n",
      "D:\\kagglehub\\datasets\\ejlok1\\toronto-emotional-speech-set-tess\\versions\\1\\TESS Toronto emotional speech set data\\OAF_angry\\OAF_ton_angry.wav\n",
      "D:\\kagglehub\\datasets\\ejlok1\\toronto-emotional-speech-set-tess\\versions\\1\\TESS Toronto emotional speech set data\\OAF_angry\\OAF_tool_angry.wav\n",
      "D:\\kagglehub\\datasets\\ejlok1\\toronto-emotional-speech-set-tess\\versions\\1\\TESS Toronto emotional speech set data\\OAF_angry\\OAF_tough_angry.wav\n",
      "D:\\kagglehub\\datasets\\ejlok1\\toronto-emotional-speech-set-tess\\versions\\1\\TESS Toronto emotional speech set data\\OAF_angry\\OAF_turn_angry.wav\n",
      "D:\\kagglehub\\datasets\\ejlok1\\toronto-emotional-speech-set-tess\\versions\\1\\TESS Toronto emotional speech set data\\OAF_angry\\OAF_vine_angry.wav\n",
      "D:\\kagglehub\\datasets\\ejlok1\\toronto-emotional-speech-set-tess\\versions\\1\\TESS Toronto emotional speech set data\\OAF_angry\\OAF_voice_angry.wav\n",
      "D:\\kagglehub\\datasets\\ejlok1\\toronto-emotional-speech-set-tess\\versions\\1\\TESS Toronto emotional speech set data\\OAF_angry\\OAF_void_angry.wav\n",
      "D:\\kagglehub\\datasets\\ejlok1\\toronto-emotional-speech-set-tess\\versions\\1\\TESS Toronto emotional speech set data\\OAF_angry\\OAF_vote_angry.wav\n",
      "D:\\kagglehub\\datasets\\ejlok1\\toronto-emotional-speech-set-tess\\versions\\1\\TESS Toronto emotional speech set data\\OAF_angry\\OAF_wag_angry.wav\n",
      "D:\\kagglehub\\datasets\\ejlok1\\toronto-emotional-speech-set-tess\\versions\\1\\TESS Toronto emotional speech set data\\OAF_angry\\OAF_walk_angry.wav\n",
      "D:\\kagglehub\\datasets\\ejlok1\\toronto-emotional-speech-set-tess\\versions\\1\\TESS Toronto emotional speech set data\\OAF_angry\\OAF_wash_angry.wav\n",
      "D:\\kagglehub\\datasets\\ejlok1\\toronto-emotional-speech-set-tess\\versions\\1\\TESS Toronto emotional speech set data\\OAF_angry\\OAF_week_angry.wav\n",
      "D:\\kagglehub\\datasets\\ejlok1\\toronto-emotional-speech-set-tess\\versions\\1\\TESS Toronto emotional speech set data\\OAF_angry\\OAF_wheat_angry.wav\n",
      "D:\\kagglehub\\datasets\\ejlok1\\toronto-emotional-speech-set-tess\\versions\\1\\TESS Toronto emotional speech set data\\OAF_angry\\OAF_when_angry.wav\n",
      "D:\\kagglehub\\datasets\\ejlok1\\toronto-emotional-speech-set-tess\\versions\\1\\TESS Toronto emotional speech set data\\OAF_angry\\OAF_which_angry.wav\n",
      "D:\\kagglehub\\datasets\\ejlok1\\toronto-emotional-speech-set-tess\\versions\\1\\TESS Toronto emotional speech set data\\OAF_angry\\OAF_whip_angry.wav\n"
     ]
    },
    {
     "name": "stderr",
     "output_type": "stream",
     "text": [
      "C:\\Users\\NEW\\AppData\\Roaming\\Python\\Python311\\site-packages\\librosa\\core\\spectrum.py:266: UserWarning: n_fft=1024 is too large for input signal of length=808\n",
      "  warnings.warn(\n",
      "C:\\Users\\NEW\\AppData\\Roaming\\Python\\Python311\\site-packages\\librosa\\core\\spectrum.py:266: UserWarning: n_fft=1024 is too large for input signal of length=404\n",
      "  warnings.warn(\n"
     ]
    },
    {
     "name": "stdout",
     "output_type": "stream",
     "text": [
      "D:\\kagglehub\\datasets\\ejlok1\\toronto-emotional-speech-set-tess\\versions\\1\\TESS Toronto emotional speech set data\\OAF_angry\\OAF_white_angry.wav\n",
      "D:\\kagglehub\\datasets\\ejlok1\\toronto-emotional-speech-set-tess\\versions\\1\\TESS Toronto emotional speech set data\\OAF_angry\\OAF_wife_angry.wav\n",
      "D:\\kagglehub\\datasets\\ejlok1\\toronto-emotional-speech-set-tess\\versions\\1\\TESS Toronto emotional speech set data\\OAF_angry\\OAF_wire_angry.wav\n",
      "D:\\kagglehub\\datasets\\ejlok1\\toronto-emotional-speech-set-tess\\versions\\1\\TESS Toronto emotional speech set data\\OAF_angry\\OAF_witch_angry.wav\n",
      "D:\\kagglehub\\datasets\\ejlok1\\toronto-emotional-speech-set-tess\\versions\\1\\TESS Toronto emotional speech set data\\OAF_angry\\OAF_yearn_angry.wav\n",
      "D:\\kagglehub\\datasets\\ejlok1\\toronto-emotional-speech-set-tess\\versions\\1\\TESS Toronto emotional speech set data\\OAF_angry\\OAF_yes_angry.wav\n",
      "D:\\kagglehub\\datasets\\ejlok1\\toronto-emotional-speech-set-tess\\versions\\1\\TESS Toronto emotional speech set data\\OAF_angry\\OAF_young_angry.wav\n",
      "D:\\kagglehub\\datasets\\ejlok1\\toronto-emotional-speech-set-tess\\versions\\1\\TESS Toronto emotional speech set data\\OAF_angry\\OAF_youth_angry.wav\n",
      "D:\\kagglehub\\datasets\\ejlok1\\toronto-emotional-speech-set-tess\\versions\\1\\TESS Toronto emotional speech set data\\OAF_disgust\\OAF_back_disgust.wav\n"
     ]
    },
    {
     "name": "stderr",
     "output_type": "stream",
     "text": [
      "C:\\Users\\NEW\\AppData\\Roaming\\Python\\Python311\\site-packages\\librosa\\core\\spectrum.py:266: UserWarning: n_fft=1024 is too large for input signal of length=648\n",
      "  warnings.warn(\n"
     ]
    },
    {
     "name": "stdout",
     "output_type": "stream",
     "text": [
      "D:\\kagglehub\\datasets\\ejlok1\\toronto-emotional-speech-set-tess\\versions\\1\\TESS Toronto emotional speech set data\\OAF_disgust\\OAF_bar_disgust.wav\n"
     ]
    },
    {
     "name": "stderr",
     "output_type": "stream",
     "text": [
      "C:\\Users\\NEW\\AppData\\Roaming\\Python\\Python311\\site-packages\\librosa\\core\\spectrum.py:266: UserWarning: n_fft=1024 is too large for input signal of length=736\n",
      "  warnings.warn(\n"
     ]
    },
    {
     "name": "stdout",
     "output_type": "stream",
     "text": [
      "D:\\kagglehub\\datasets\\ejlok1\\toronto-emotional-speech-set-tess\\versions\\1\\TESS Toronto emotional speech set data\\OAF_disgust\\OAF_base_disgust.wav\n"
     ]
    },
    {
     "name": "stderr",
     "output_type": "stream",
     "text": [
      "C:\\Users\\NEW\\AppData\\Roaming\\Python\\Python311\\site-packages\\librosa\\core\\spectrum.py:266: UserWarning: n_fft=1024 is too large for input signal of length=792\n",
      "  warnings.warn(\n"
     ]
    },
    {
     "name": "stdout",
     "output_type": "stream",
     "text": [
      "D:\\kagglehub\\datasets\\ejlok1\\toronto-emotional-speech-set-tess\\versions\\1\\TESS Toronto emotional speech set data\\OAF_disgust\\OAF_bath_disgust.wav\n"
     ]
    },
    {
     "name": "stderr",
     "output_type": "stream",
     "text": [
      "C:\\Users\\NEW\\AppData\\Roaming\\Python\\Python311\\site-packages\\librosa\\core\\spectrum.py:266: UserWarning: n_fft=1024 is too large for input signal of length=728\n",
      "  warnings.warn(\n"
     ]
    },
    {
     "name": "stdout",
     "output_type": "stream",
     "text": [
      "D:\\kagglehub\\datasets\\ejlok1\\toronto-emotional-speech-set-tess\\versions\\1\\TESS Toronto emotional speech set data\\OAF_disgust\\OAF_bean_disgust.wav\n"
     ]
    },
    {
     "name": "stderr",
     "output_type": "stream",
     "text": [
      "C:\\Users\\NEW\\AppData\\Roaming\\Python\\Python311\\site-packages\\librosa\\core\\spectrum.py:266: UserWarning: n_fft=1024 is too large for input signal of length=769\n",
      "  warnings.warn(\n"
     ]
    },
    {
     "name": "stdout",
     "output_type": "stream",
     "text": [
      "D:\\kagglehub\\datasets\\ejlok1\\toronto-emotional-speech-set-tess\\versions\\1\\TESS Toronto emotional speech set data\\OAF_disgust\\OAF_beg_disgust.wav\n"
     ]
    },
    {
     "name": "stderr",
     "output_type": "stream",
     "text": [
      "C:\\Users\\NEW\\AppData\\Roaming\\Python\\Python311\\site-packages\\librosa\\core\\spectrum.py:266: UserWarning: n_fft=1024 is too large for input signal of length=672\n",
      "  warnings.warn(\n"
     ]
    },
    {
     "name": "stdout",
     "output_type": "stream",
     "text": [
      "D:\\kagglehub\\datasets\\ejlok1\\toronto-emotional-speech-set-tess\\versions\\1\\TESS Toronto emotional speech set data\\OAF_disgust\\OAF_bite_disgust.wav\n"
     ]
    },
    {
     "name": "stderr",
     "output_type": "stream",
     "text": [
      "C:\\Users\\NEW\\AppData\\Roaming\\Python\\Python311\\site-packages\\librosa\\core\\spectrum.py:266: UserWarning: n_fft=1024 is too large for input signal of length=680\n",
      "  warnings.warn(\n"
     ]
    },
    {
     "name": "stdout",
     "output_type": "stream",
     "text": [
      "D:\\kagglehub\\datasets\\ejlok1\\toronto-emotional-speech-set-tess\\versions\\1\\TESS Toronto emotional speech set data\\OAF_disgust\\OAF_boat_disgust.wav\n",
      "D:\\kagglehub\\datasets\\ejlok1\\toronto-emotional-speech-set-tess\\versions\\1\\TESS Toronto emotional speech set data\\OAF_disgust\\OAF_bone_disgust.wav\n"
     ]
    },
    {
     "name": "stderr",
     "output_type": "stream",
     "text": [
      "C:\\Users\\NEW\\AppData\\Roaming\\Python\\Python311\\site-packages\\librosa\\core\\spectrum.py:266: UserWarning: n_fft=1024 is too large for input signal of length=720\n",
      "  warnings.warn(\n"
     ]
    },
    {
     "name": "stdout",
     "output_type": "stream",
     "text": [
      "D:\\kagglehub\\datasets\\ejlok1\\toronto-emotional-speech-set-tess\\versions\\1\\TESS Toronto emotional speech set data\\OAF_disgust\\OAF_book_disgust.wav\n"
     ]
    },
    {
     "name": "stderr",
     "output_type": "stream",
     "text": [
      "C:\\Users\\NEW\\AppData\\Roaming\\Python\\Python311\\site-packages\\librosa\\core\\spectrum.py:266: UserWarning: n_fft=1024 is too large for input signal of length=664\n",
      "  warnings.warn(\n"
     ]
    },
    {
     "name": "stdout",
     "output_type": "stream",
     "text": [
      "D:\\kagglehub\\datasets\\ejlok1\\toronto-emotional-speech-set-tess\\versions\\1\\TESS Toronto emotional speech set data\\OAF_disgust\\OAF_bought_disgust.wav\n",
      "D:\\kagglehub\\datasets\\ejlok1\\toronto-emotional-speech-set-tess\\versions\\1\\TESS Toronto emotional speech set data\\OAF_disgust\\OAF_burn_disgust.wav\n",
      "D:\\kagglehub\\datasets\\ejlok1\\toronto-emotional-speech-set-tess\\versions\\1\\TESS Toronto emotional speech set data\\OAF_disgust\\OAF_cab_disgust.wav\n",
      "D:\\kagglehub\\datasets\\ejlok1\\toronto-emotional-speech-set-tess\\versions\\1\\TESS Toronto emotional speech set data\\OAF_disgust\\OAF_calm_disgust.wav\n"
     ]
    },
    {
     "name": "stderr",
     "output_type": "stream",
     "text": [
      "C:\\Users\\NEW\\AppData\\Roaming\\Python\\Python311\\site-packages\\librosa\\core\\spectrum.py:266: UserWarning: n_fft=1024 is too large for input signal of length=780\n",
      "  warnings.warn(\n"
     ]
    },
    {
     "name": "stdout",
     "output_type": "stream",
     "text": [
      "D:\\kagglehub\\datasets\\ejlok1\\toronto-emotional-speech-set-tess\\versions\\1\\TESS Toronto emotional speech set data\\OAF_disgust\\OAF_came_disgust.wav\n",
      "D:\\kagglehub\\datasets\\ejlok1\\toronto-emotional-speech-set-tess\\versions\\1\\TESS Toronto emotional speech set data\\OAF_disgust\\OAF_cause_disgust.wav\n",
      "D:\\kagglehub\\datasets\\ejlok1\\toronto-emotional-speech-set-tess\\versions\\1\\TESS Toronto emotional speech set data\\OAF_disgust\\OAF_chain_disgust.wav\n",
      "D:\\kagglehub\\datasets\\ejlok1\\toronto-emotional-speech-set-tess\\versions\\1\\TESS Toronto emotional speech set data\\OAF_disgust\\OAF_chair_disgust.wav\n"
     ]
    },
    {
     "name": "stderr",
     "output_type": "stream",
     "text": [
      "C:\\Users\\NEW\\AppData\\Roaming\\Python\\Python311\\site-packages\\librosa\\core\\spectrum.py:266: UserWarning: n_fft=1024 is too large for input signal of length=760\n",
      "  warnings.warn(\n"
     ]
    },
    {
     "name": "stdout",
     "output_type": "stream",
     "text": [
      "D:\\kagglehub\\datasets\\ejlok1\\toronto-emotional-speech-set-tess\\versions\\1\\TESS Toronto emotional speech set data\\OAF_disgust\\OAF_chalk_disgust.wav\n",
      "D:\\kagglehub\\datasets\\ejlok1\\toronto-emotional-speech-set-tess\\versions\\1\\TESS Toronto emotional speech set data\\OAF_disgust\\OAF_chat_disgust.wav\n",
      "D:\\kagglehub\\datasets\\ejlok1\\toronto-emotional-speech-set-tess\\versions\\1\\TESS Toronto emotional speech set data\\OAF_disgust\\OAF_check_disgust.wav\n"
     ]
    },
    {
     "name": "stderr",
     "output_type": "stream",
     "text": [
      "C:\\Users\\NEW\\AppData\\Roaming\\Python\\Python311\\site-packages\\librosa\\core\\spectrum.py:266: UserWarning: n_fft=1024 is too large for input signal of length=688\n",
      "  warnings.warn(\n"
     ]
    },
    {
     "name": "stdout",
     "output_type": "stream",
     "text": [
      "D:\\kagglehub\\datasets\\ejlok1\\toronto-emotional-speech-set-tess\\versions\\1\\TESS Toronto emotional speech set data\\OAF_disgust\\OAF_cheek_disgust.wav\n",
      "D:\\kagglehub\\datasets\\ejlok1\\toronto-emotional-speech-set-tess\\versions\\1\\TESS Toronto emotional speech set data\\OAF_disgust\\OAF_chief_disgust.wav\n"
     ]
    },
    {
     "name": "stderr",
     "output_type": "stream",
     "text": [
      "C:\\Users\\NEW\\AppData\\Roaming\\Python\\Python311\\site-packages\\librosa\\core\\spectrum.py:266: UserWarning: n_fft=1024 is too large for input signal of length=752\n",
      "  warnings.warn(\n"
     ]
    },
    {
     "name": "stdout",
     "output_type": "stream",
     "text": [
      "D:\\kagglehub\\datasets\\ejlok1\\toronto-emotional-speech-set-tess\\versions\\1\\TESS Toronto emotional speech set data\\OAF_disgust\\OAF_choice_disgust.wav\n",
      "D:\\kagglehub\\datasets\\ejlok1\\toronto-emotional-speech-set-tess\\versions\\1\\TESS Toronto emotional speech set data\\OAF_disgust\\OAF_cool_disgust.wav\n",
      "D:\\kagglehub\\datasets\\ejlok1\\toronto-emotional-speech-set-tess\\versions\\1\\TESS Toronto emotional speech set data\\OAF_disgust\\OAF_dab_disgust.wav\n"
     ]
    },
    {
     "name": "stderr",
     "output_type": "stream",
     "text": [
      "C:\\Users\\NEW\\AppData\\Roaming\\Python\\Python311\\site-packages\\librosa\\core\\spectrum.py:266: UserWarning: n_fft=1024 is too large for input signal of length=767\n",
      "  warnings.warn(\n"
     ]
    },
    {
     "name": "stdout",
     "output_type": "stream",
     "text": [
      "D:\\kagglehub\\datasets\\ejlok1\\toronto-emotional-speech-set-tess\\versions\\1\\TESS Toronto emotional speech set data\\OAF_disgust\\OAF_date_disgust.wav\n"
     ]
    },
    {
     "name": "stderr",
     "output_type": "stream",
     "text": [
      "C:\\Users\\NEW\\AppData\\Roaming\\Python\\Python311\\site-packages\\librosa\\core\\spectrum.py:266: UserWarning: n_fft=1024 is too large for input signal of length=640\n",
      "  warnings.warn(\n"
     ]
    },
    {
     "name": "stdout",
     "output_type": "stream",
     "text": [
      "D:\\kagglehub\\datasets\\ejlok1\\toronto-emotional-speech-set-tess\\versions\\1\\TESS Toronto emotional speech set data\\OAF_disgust\\OAF_dead_disgust.wav\n",
      "D:\\kagglehub\\datasets\\ejlok1\\toronto-emotional-speech-set-tess\\versions\\1\\TESS Toronto emotional speech set data\\OAF_disgust\\OAF_death_disgust.wav\n",
      "D:\\kagglehub\\datasets\\ejlok1\\toronto-emotional-speech-set-tess\\versions\\1\\TESS Toronto emotional speech set data\\OAF_disgust\\OAF_deep_disgust.wav\n"
     ]
    },
    {
     "name": "stderr",
     "output_type": "stream",
     "text": [
      "C:\\Users\\NEW\\AppData\\Roaming\\Python\\Python311\\site-packages\\librosa\\core\\spectrum.py:266: UserWarning: n_fft=1024 is too large for input signal of length=704\n",
      "  warnings.warn(\n"
     ]
    },
    {
     "name": "stdout",
     "output_type": "stream",
     "text": [
      "D:\\kagglehub\\datasets\\ejlok1\\toronto-emotional-speech-set-tess\\versions\\1\\TESS Toronto emotional speech set data\\OAF_disgust\\OAF_dime_disgust.wav\n"
     ]
    },
    {
     "name": "stderr",
     "output_type": "stream",
     "text": [
      "C:\\Users\\NEW\\AppData\\Roaming\\Python\\Python311\\site-packages\\librosa\\core\\spectrum.py:266: UserWarning: n_fft=1024 is too large for input signal of length=837\n",
      "  warnings.warn(\n"
     ]
    },
    {
     "name": "stdout",
     "output_type": "stream",
     "text": [
      "D:\\kagglehub\\datasets\\ejlok1\\toronto-emotional-speech-set-tess\\versions\\1\\TESS Toronto emotional speech set data\\OAF_disgust\\OAF_dip_disgust.wav\n"
     ]
    },
    {
     "name": "stderr",
     "output_type": "stream",
     "text": [
      "C:\\Users\\NEW\\AppData\\Roaming\\Python\\Python311\\site-packages\\librosa\\core\\spectrum.py:266: UserWarning: n_fft=1024 is too large for input signal of length=686\n",
      "  warnings.warn(\n"
     ]
    },
    {
     "name": "stdout",
     "output_type": "stream",
     "text": [
      "D:\\kagglehub\\datasets\\ejlok1\\toronto-emotional-speech-set-tess\\versions\\1\\TESS Toronto emotional speech set data\\OAF_disgust\\OAF_ditch_disgust.wav\n"
     ]
    },
    {
     "name": "stderr",
     "output_type": "stream",
     "text": [
      "C:\\Users\\NEW\\AppData\\Roaming\\Python\\Python311\\site-packages\\librosa\\core\\spectrum.py:266: UserWarning: n_fft=1024 is too large for input signal of length=656\n",
      "  warnings.warn(\n"
     ]
    },
    {
     "name": "stdout",
     "output_type": "stream",
     "text": [
      "D:\\kagglehub\\datasets\\ejlok1\\toronto-emotional-speech-set-tess\\versions\\1\\TESS Toronto emotional speech set data\\OAF_disgust\\OAF_dodge_disgust.wav\n",
      "D:\\kagglehub\\datasets\\ejlok1\\toronto-emotional-speech-set-tess\\versions\\1\\TESS Toronto emotional speech set data\\OAF_disgust\\OAF_dog_disgust.wav\n",
      "D:\\kagglehub\\datasets\\ejlok1\\toronto-emotional-speech-set-tess\\versions\\1\\TESS Toronto emotional speech set data\\OAF_disgust\\OAF_doll_disgust.wav\n",
      "D:\\kagglehub\\datasets\\ejlok1\\toronto-emotional-speech-set-tess\\versions\\1\\TESS Toronto emotional speech set data\\OAF_disgust\\OAF_door_disgust.wav\n",
      "D:\\kagglehub\\datasets\\ejlok1\\toronto-emotional-speech-set-tess\\versions\\1\\TESS Toronto emotional speech set data\\OAF_disgust\\OAF_fail_disgust.wav\n",
      "D:\\kagglehub\\datasets\\ejlok1\\toronto-emotional-speech-set-tess\\versions\\1\\TESS Toronto emotional speech set data\\OAF_disgust\\OAF_fall_disgust.wav\n",
      "D:\\kagglehub\\datasets\\ejlok1\\toronto-emotional-speech-set-tess\\versions\\1\\TESS Toronto emotional speech set data\\OAF_disgust\\OAF_far_disgust.wav\n",
      "D:\\kagglehub\\datasets\\ejlok1\\toronto-emotional-speech-set-tess\\versions\\1\\TESS Toronto emotional speech set data\\OAF_disgust\\OAF_fat_disgust.wav\n",
      "D:\\kagglehub\\datasets\\ejlok1\\toronto-emotional-speech-set-tess\\versions\\1\\TESS Toronto emotional speech set data\\OAF_disgust\\OAF_fit_disgust.wav\n",
      "D:\\kagglehub\\datasets\\ejlok1\\toronto-emotional-speech-set-tess\\versions\\1\\TESS Toronto emotional speech set data\\OAF_disgust\\OAF_five_disgust.wav\n"
     ]
    },
    {
     "name": "stderr",
     "output_type": "stream",
     "text": [
      "C:\\Users\\NEW\\AppData\\Roaming\\Python\\Python311\\site-packages\\librosa\\core\\spectrum.py:266: UserWarning: n_fft=1024 is too large for input signal of length=789\n",
      "  warnings.warn(\n"
     ]
    },
    {
     "name": "stdout",
     "output_type": "stream",
     "text": [
      "D:\\kagglehub\\datasets\\ejlok1\\toronto-emotional-speech-set-tess\\versions\\1\\TESS Toronto emotional speech set data\\OAF_disgust\\OAF_food_disgust.wav\n",
      "D:\\kagglehub\\datasets\\ejlok1\\toronto-emotional-speech-set-tess\\versions\\1\\TESS Toronto emotional speech set data\\OAF_disgust\\OAF_gap_disgust.wav\n",
      "D:\\kagglehub\\datasets\\ejlok1\\toronto-emotional-speech-set-tess\\versions\\1\\TESS Toronto emotional speech set data\\OAF_disgust\\OAF_gas_disgust.wav\n"
     ]
    },
    {
     "name": "stderr",
     "output_type": "stream",
     "text": [
      "C:\\Users\\NEW\\AppData\\Roaming\\Python\\Python311\\site-packages\\librosa\\core\\spectrum.py:266: UserWarning: n_fft=1024 is too large for input signal of length=712\n",
      "  warnings.warn(\n"
     ]
    },
    {
     "name": "stdout",
     "output_type": "stream",
     "text": [
      "D:\\kagglehub\\datasets\\ejlok1\\toronto-emotional-speech-set-tess\\versions\\1\\TESS Toronto emotional speech set data\\OAF_disgust\\OAF_gaze_disgust.wav\n",
      "D:\\kagglehub\\datasets\\ejlok1\\toronto-emotional-speech-set-tess\\versions\\1\\TESS Toronto emotional speech set data\\OAF_disgust\\OAF_germ_disgust.wav\n",
      "D:\\kagglehub\\datasets\\ejlok1\\toronto-emotional-speech-set-tess\\versions\\1\\TESS Toronto emotional speech set data\\OAF_disgust\\OAF_get_disgust.wav\n"
     ]
    },
    {
     "name": "stderr",
     "output_type": "stream",
     "text": [
      "C:\\Users\\NEW\\AppData\\Roaming\\Python\\Python311\\site-packages\\librosa\\core\\spectrum.py:266: UserWarning: n_fft=1024 is too large for input signal of length=616\n",
      "  warnings.warn(\n"
     ]
    },
    {
     "name": "stdout",
     "output_type": "stream",
     "text": [
      "D:\\kagglehub\\datasets\\ejlok1\\toronto-emotional-speech-set-tess\\versions\\1\\TESS Toronto emotional speech set data\\OAF_disgust\\OAF_gin_disgust.wav\n"
     ]
    },
    {
     "name": "stderr",
     "output_type": "stream",
     "text": [
      "C:\\Users\\NEW\\AppData\\Roaming\\Python\\Python311\\site-packages\\librosa\\core\\spectrum.py:266: UserWarning: n_fft=1024 is too large for input signal of length=805\n",
      "  warnings.warn(\n"
     ]
    },
    {
     "name": "stdout",
     "output_type": "stream",
     "text": [
      "D:\\kagglehub\\datasets\\ejlok1\\toronto-emotional-speech-set-tess\\versions\\1\\TESS Toronto emotional speech set data\\OAF_disgust\\OAF_goal_disgust.wav\n",
      "D:\\kagglehub\\datasets\\ejlok1\\toronto-emotional-speech-set-tess\\versions\\1\\TESS Toronto emotional speech set data\\OAF_disgust\\OAF_good_disgust.wav\n",
      "D:\\kagglehub\\datasets\\ejlok1\\toronto-emotional-speech-set-tess\\versions\\1\\TESS Toronto emotional speech set data\\OAF_disgust\\OAF_goose_disgust.wav\n"
     ]
    },
    {
     "name": "stderr",
     "output_type": "stream",
     "text": [
      "C:\\Users\\NEW\\AppData\\Roaming\\Python\\Python311\\site-packages\\librosa\\core\\spectrum.py:266: UserWarning: n_fft=1024 is too large for input signal of length=744\n",
      "  warnings.warn(\n"
     ]
    },
    {
     "name": "stdout",
     "output_type": "stream",
     "text": [
      "D:\\kagglehub\\datasets\\ejlok1\\toronto-emotional-speech-set-tess\\versions\\1\\TESS Toronto emotional speech set data\\OAF_disgust\\OAF_gun_disgust.wav\n"
     ]
    },
    {
     "name": "stderr",
     "output_type": "stream",
     "text": [
      "C:\\Users\\NEW\\AppData\\Roaming\\Python\\Python311\\site-packages\\librosa\\core\\spectrum.py:266: UserWarning: n_fft=1024 is too large for input signal of length=696\n",
      "  warnings.warn(\n"
     ]
    },
    {
     "name": "stdout",
     "output_type": "stream",
     "text": [
      "D:\\kagglehub\\datasets\\ejlok1\\toronto-emotional-speech-set-tess\\versions\\1\\TESS Toronto emotional speech set data\\OAF_disgust\\OAF_half_disgust.wav\n"
     ]
    },
    {
     "name": "stderr",
     "output_type": "stream",
     "text": [
      "C:\\Users\\NEW\\AppData\\Roaming\\Python\\Python311\\site-packages\\librosa\\core\\spectrum.py:266: UserWarning: n_fft=1024 is too large for input signal of length=731\n",
      "  warnings.warn(\n"
     ]
    },
    {
     "name": "stdout",
     "output_type": "stream",
     "text": [
      "D:\\kagglehub\\datasets\\ejlok1\\toronto-emotional-speech-set-tess\\versions\\1\\TESS Toronto emotional speech set data\\OAF_disgust\\OAF_hall_disgust.wav\n",
      "D:\\kagglehub\\datasets\\ejlok1\\toronto-emotional-speech-set-tess\\versions\\1\\TESS Toronto emotional speech set data\\OAF_disgust\\OAF_hash_disgust.wav\n",
      "D:\\kagglehub\\datasets\\ejlok1\\toronto-emotional-speech-set-tess\\versions\\1\\TESS Toronto emotional speech set data\\OAF_disgust\\OAF_hate_disgust.wav\n",
      "D:\\kagglehub\\datasets\\ejlok1\\toronto-emotional-speech-set-tess\\versions\\1\\TESS Toronto emotional speech set data\\OAF_disgust\\OAF_have_disgust.wav\n"
     ]
    },
    {
     "name": "stderr",
     "output_type": "stream",
     "text": [
      "C:\\Users\\NEW\\AppData\\Roaming\\Python\\Python311\\site-packages\\librosa\\core\\spectrum.py:266: UserWarning: n_fft=1024 is too large for input signal of length=785\n",
      "  warnings.warn(\n"
     ]
    },
    {
     "name": "stdout",
     "output_type": "stream",
     "text": [
      "D:\\kagglehub\\datasets\\ejlok1\\toronto-emotional-speech-set-tess\\versions\\1\\TESS Toronto emotional speech set data\\OAF_disgust\\OAF_haze_disgust.wav\n",
      "D:\\kagglehub\\datasets\\ejlok1\\toronto-emotional-speech-set-tess\\versions\\1\\TESS Toronto emotional speech set data\\OAF_disgust\\OAF_hire_disgust.wav\n"
     ]
    },
    {
     "name": "stderr",
     "output_type": "stream",
     "text": [
      "C:\\Users\\NEW\\AppData\\Roaming\\Python\\Python311\\site-packages\\librosa\\core\\spectrum.py:266: UserWarning: n_fft=1024 is too large for input signal of length=632\n",
      "  warnings.warn(\n"
     ]
    },
    {
     "name": "stdout",
     "output_type": "stream",
     "text": [
      "D:\\kagglehub\\datasets\\ejlok1\\toronto-emotional-speech-set-tess\\versions\\1\\TESS Toronto emotional speech set data\\OAF_disgust\\OAF_hit_disgust.wav\n",
      "D:\\kagglehub\\datasets\\ejlok1\\toronto-emotional-speech-set-tess\\versions\\1\\TESS Toronto emotional speech set data\\OAF_disgust\\OAF_hole_disgust.wav\n",
      "D:\\kagglehub\\datasets\\ejlok1\\toronto-emotional-speech-set-tess\\versions\\1\\TESS Toronto emotional speech set data\\OAF_disgust\\OAF_home_disgust.wav\n",
      "D:\\kagglehub\\datasets\\ejlok1\\toronto-emotional-speech-set-tess\\versions\\1\\TESS Toronto emotional speech set data\\OAF_disgust\\OAF_hurl_disgust.wav\n",
      "D:\\kagglehub\\datasets\\ejlok1\\toronto-emotional-speech-set-tess\\versions\\1\\TESS Toronto emotional speech set data\\OAF_disgust\\OAF_hush_disgust.wav\n"
     ]
    },
    {
     "name": "stderr",
     "output_type": "stream",
     "text": [
      "C:\\Users\\NEW\\AppData\\Roaming\\Python\\Python311\\site-packages\\librosa\\core\\spectrum.py:266: UserWarning: n_fft=1024 is too large for input signal of length=776\n",
      "  warnings.warn(\n"
     ]
    },
    {
     "name": "stdout",
     "output_type": "stream",
     "text": [
      "D:\\kagglehub\\datasets\\ejlok1\\toronto-emotional-speech-set-tess\\versions\\1\\TESS Toronto emotional speech set data\\OAF_disgust\\OAF_jail_disgust.wav\n",
      "D:\\kagglehub\\datasets\\ejlok1\\toronto-emotional-speech-set-tess\\versions\\1\\TESS Toronto emotional speech set data\\OAF_disgust\\OAF_jar_disgust.wav\n",
      "D:\\kagglehub\\datasets\\ejlok1\\toronto-emotional-speech-set-tess\\versions\\1\\TESS Toronto emotional speech set data\\OAF_disgust\\OAF_join_disgust.wav\n"
     ]
    },
    {
     "name": "stderr",
     "output_type": "stream",
     "text": [
      "C:\\Users\\NEW\\AppData\\Roaming\\Python\\Python311\\site-packages\\librosa\\core\\spectrum.py:266: UserWarning: n_fft=1024 is too large for input signal of length=758\n",
      "  warnings.warn(\n"
     ]
    },
    {
     "name": "stdout",
     "output_type": "stream",
     "text": [
      "D:\\kagglehub\\datasets\\ejlok1\\toronto-emotional-speech-set-tess\\versions\\1\\TESS Toronto emotional speech set data\\OAF_disgust\\OAF_judge_disgust.wav\n",
      "D:\\kagglehub\\datasets\\ejlok1\\toronto-emotional-speech-set-tess\\versions\\1\\TESS Toronto emotional speech set data\\OAF_disgust\\OAF_jug_disgust.wav\n",
      "D:\\kagglehub\\datasets\\ejlok1\\toronto-emotional-speech-set-tess\\versions\\1\\TESS Toronto emotional speech set data\\OAF_disgust\\OAF_juice_disgust.wav\n",
      "D:\\kagglehub\\datasets\\ejlok1\\toronto-emotional-speech-set-tess\\versions\\1\\TESS Toronto emotional speech set data\\OAF_disgust\\OAF_keen_disgust.wav\n"
     ]
    },
    {
     "name": "stderr",
     "output_type": "stream",
     "text": [
      "C:\\Users\\NEW\\AppData\\Roaming\\Python\\Python311\\site-packages\\librosa\\core\\spectrum.py:266: UserWarning: n_fft=1024 is too large for input signal of length=882\n",
      "  warnings.warn(\n"
     ]
    },
    {
     "name": "stdout",
     "output_type": "stream",
     "text": [
      "D:\\kagglehub\\datasets\\ejlok1\\toronto-emotional-speech-set-tess\\versions\\1\\TESS Toronto emotional speech set data\\OAF_disgust\\OAF_keep_disgust.wav\n"
     ]
    },
    {
     "name": "stderr",
     "output_type": "stream",
     "text": [
      "C:\\Users\\NEW\\AppData\\Roaming\\Python\\Python311\\site-packages\\librosa\\core\\spectrum.py:266: UserWarning: n_fft=1024 is too large for input signal of length=840\n",
      "  warnings.warn(\n"
     ]
    },
    {
     "name": "stdout",
     "output_type": "stream",
     "text": [
      "D:\\kagglehub\\datasets\\ejlok1\\toronto-emotional-speech-set-tess\\versions\\1\\TESS Toronto emotional speech set data\\OAF_disgust\\OAF_keg_disgust.wav\n",
      "D:\\kagglehub\\datasets\\ejlok1\\toronto-emotional-speech-set-tess\\versions\\1\\TESS Toronto emotional speech set data\\OAF_disgust\\OAF_kick_disgust.wav\n",
      "D:\\kagglehub\\datasets\\ejlok1\\toronto-emotional-speech-set-tess\\versions\\1\\TESS Toronto emotional speech set data\\OAF_disgust\\OAF_kill_disgust.wav\n",
      "D:\\kagglehub\\datasets\\ejlok1\\toronto-emotional-speech-set-tess\\versions\\1\\TESS Toronto emotional speech set data\\OAF_disgust\\OAF_king_disgust.wav\n"
     ]
    },
    {
     "name": "stderr",
     "output_type": "stream",
     "text": [
      "C:\\Users\\NEW\\AppData\\Roaming\\Python\\Python311\\site-packages\\librosa\\core\\spectrum.py:266: UserWarning: n_fft=1024 is too large for input signal of length=764\n",
      "  warnings.warn(\n"
     ]
    },
    {
     "name": "stdout",
     "output_type": "stream",
     "text": [
      "D:\\kagglehub\\datasets\\ejlok1\\toronto-emotional-speech-set-tess\\versions\\1\\TESS Toronto emotional speech set data\\OAF_disgust\\OAF_kite_disgust.wav\n",
      "D:\\kagglehub\\datasets\\ejlok1\\toronto-emotional-speech-set-tess\\versions\\1\\TESS Toronto emotional speech set data\\OAF_disgust\\OAF_knock_disgust.wav\n",
      "D:\\kagglehub\\datasets\\ejlok1\\toronto-emotional-speech-set-tess\\versions\\1\\TESS Toronto emotional speech set data\\OAF_disgust\\OAF_late_disgust.wav\n"
     ]
    },
    {
     "name": "stderr",
     "output_type": "stream",
     "text": [
      "C:\\Users\\NEW\\AppData\\Roaming\\Python\\Python311\\site-packages\\librosa\\core\\spectrum.py:266: UserWarning: n_fft=1024 is too large for input signal of length=770\n",
      "  warnings.warn(\n"
     ]
    },
    {
     "name": "stdout",
     "output_type": "stream",
     "text": [
      "D:\\kagglehub\\datasets\\ejlok1\\toronto-emotional-speech-set-tess\\versions\\1\\TESS Toronto emotional speech set data\\OAF_disgust\\OAF_laud_disgust.wav\n",
      "D:\\kagglehub\\datasets\\ejlok1\\toronto-emotional-speech-set-tess\\versions\\1\\TESS Toronto emotional speech set data\\OAF_disgust\\OAF_lean_disgust.wav\n"
     ]
    },
    {
     "name": "stderr",
     "output_type": "stream",
     "text": [
      "C:\\Users\\NEW\\AppData\\Roaming\\Python\\Python311\\site-packages\\librosa\\core\\spectrum.py:266: UserWarning: n_fft=1024 is too large for input signal of length=724\n",
      "  warnings.warn(\n"
     ]
    },
    {
     "name": "stdout",
     "output_type": "stream",
     "text": [
      "D:\\kagglehub\\datasets\\ejlok1\\toronto-emotional-speech-set-tess\\versions\\1\\TESS Toronto emotional speech set data\\OAF_disgust\\OAF_learn_disgust.wav\n"
     ]
    },
    {
     "name": "stderr",
     "output_type": "stream",
     "text": [
      "C:\\Users\\NEW\\AppData\\Roaming\\Python\\Python311\\site-packages\\librosa\\core\\spectrum.py:266: UserWarning: n_fft=1024 is too large for input signal of length=747\n",
      "  warnings.warn(\n"
     ]
    },
    {
     "name": "stdout",
     "output_type": "stream",
     "text": [
      "D:\\kagglehub\\datasets\\ejlok1\\toronto-emotional-speech-set-tess\\versions\\1\\TESS Toronto emotional speech set data\\OAF_disgust\\OAF_lease_disgust.wav\n",
      "D:\\kagglehub\\datasets\\ejlok1\\toronto-emotional-speech-set-tess\\versions\\1\\TESS Toronto emotional speech set data\\OAF_disgust\\OAF_lid_disgust.wav\n"
     ]
    },
    {
     "name": "stderr",
     "output_type": "stream",
     "text": [
      "C:\\Users\\NEW\\AppData\\Roaming\\Python\\Python311\\site-packages\\librosa\\core\\spectrum.py:266: UserWarning: n_fft=1024 is too large for input signal of length=659\n",
      "  warnings.warn(\n"
     ]
    },
    {
     "name": "stdout",
     "output_type": "stream",
     "text": [
      "D:\\kagglehub\\datasets\\ejlok1\\toronto-emotional-speech-set-tess\\versions\\1\\TESS Toronto emotional speech set data\\OAF_disgust\\OAF_life_disgust.wav\n",
      "D:\\kagglehub\\datasets\\ejlok1\\toronto-emotional-speech-set-tess\\versions\\1\\TESS Toronto emotional speech set data\\OAF_disgust\\OAF_limb_disgust.wav\n"
     ]
    },
    {
     "name": "stderr",
     "output_type": "stream",
     "text": [
      "C:\\Users\\NEW\\AppData\\Roaming\\Python\\Python311\\site-packages\\librosa\\core\\spectrum.py:266: UserWarning: n_fft=1024 is too large for input signal of length=823\n",
      "  warnings.warn(\n"
     ]
    },
    {
     "name": "stdout",
     "output_type": "stream",
     "text": [
      "D:\\kagglehub\\datasets\\ejlok1\\toronto-emotional-speech-set-tess\\versions\\1\\TESS Toronto emotional speech set data\\OAF_disgust\\OAF_live_disgust.wav\n",
      "D:\\kagglehub\\datasets\\ejlok1\\toronto-emotional-speech-set-tess\\versions\\1\\TESS Toronto emotional speech set data\\OAF_disgust\\OAF_loaf_disgust.wav\n",
      "D:\\kagglehub\\datasets\\ejlok1\\toronto-emotional-speech-set-tess\\versions\\1\\TESS Toronto emotional speech set data\\OAF_disgust\\OAF_long_disgust.wav\n"
     ]
    },
    {
     "name": "stderr",
     "output_type": "stream",
     "text": [
      "C:\\Users\\NEW\\AppData\\Roaming\\Python\\Python311\\site-packages\\librosa\\core\\spectrum.py:266: UserWarning: n_fft=1024 is too large for input signal of length=706\n",
      "  warnings.warn(\n"
     ]
    },
    {
     "name": "stdout",
     "output_type": "stream",
     "text": [
      "D:\\kagglehub\\datasets\\ejlok1\\toronto-emotional-speech-set-tess\\versions\\1\\TESS Toronto emotional speech set data\\OAF_disgust\\OAF_lore_disgust.wav\n",
      "D:\\kagglehub\\datasets\\ejlok1\\toronto-emotional-speech-set-tess\\versions\\1\\TESS Toronto emotional speech set data\\OAF_disgust\\OAF_lose_disgust.wav\n",
      "D:\\kagglehub\\datasets\\ejlok1\\toronto-emotional-speech-set-tess\\versions\\1\\TESS Toronto emotional speech set data\\OAF_disgust\\OAF_lot_disgust.wav\n",
      "D:\\kagglehub\\datasets\\ejlok1\\toronto-emotional-speech-set-tess\\versions\\1\\TESS Toronto emotional speech set data\\OAF_disgust\\OAF_love_disgust.wav\n",
      "D:\\kagglehub\\datasets\\ejlok1\\toronto-emotional-speech-set-tess\\versions\\1\\TESS Toronto emotional speech set data\\OAF_disgust\\OAF_luck_disgust.wav\n",
      "D:\\kagglehub\\datasets\\ejlok1\\toronto-emotional-speech-set-tess\\versions\\1\\TESS Toronto emotional speech set data\\OAF_disgust\\OAF_make_disgust.wav\n",
      "D:\\kagglehub\\datasets\\ejlok1\\toronto-emotional-speech-set-tess\\versions\\1\\TESS Toronto emotional speech set data\\OAF_disgust\\OAF_match_disgust.wav\n",
      "D:\\kagglehub\\datasets\\ejlok1\\toronto-emotional-speech-set-tess\\versions\\1\\TESS Toronto emotional speech set data\\OAF_disgust\\OAF_merge_disgust.wav\n",
      "D:\\kagglehub\\datasets\\ejlok1\\toronto-emotional-speech-set-tess\\versions\\1\\TESS Toronto emotional speech set data\\OAF_disgust\\OAF_mess_disgust.wav\n",
      "D:\\kagglehub\\datasets\\ejlok1\\toronto-emotional-speech-set-tess\\versions\\1\\TESS Toronto emotional speech set data\\OAF_disgust\\OAF_met_disgust.wav\n",
      "D:\\kagglehub\\datasets\\ejlok1\\toronto-emotional-speech-set-tess\\versions\\1\\TESS Toronto emotional speech set data\\OAF_disgust\\OAF_mill_disgust.wav\n",
      "D:\\kagglehub\\datasets\\ejlok1\\toronto-emotional-speech-set-tess\\versions\\1\\TESS Toronto emotional speech set data\\OAF_disgust\\OAF_mob_disgust.wav\n",
      "D:\\kagglehub\\datasets\\ejlok1\\toronto-emotional-speech-set-tess\\versions\\1\\TESS Toronto emotional speech set data\\OAF_disgust\\OAF_mode_disgust.wav\n"
     ]
    },
    {
     "name": "stderr",
     "output_type": "stream",
     "text": [
      "C:\\Users\\NEW\\AppData\\Roaming\\Python\\Python311\\site-packages\\librosa\\core\\spectrum.py:266: UserWarning: n_fft=1024 is too large for input signal of length=815\n",
      "  warnings.warn(\n"
     ]
    },
    {
     "name": "stdout",
     "output_type": "stream",
     "text": [
      "D:\\kagglehub\\datasets\\ejlok1\\toronto-emotional-speech-set-tess\\versions\\1\\TESS Toronto emotional speech set data\\OAF_disgust\\OAF_mood_disgust.wav\n",
      "D:\\kagglehub\\datasets\\ejlok1\\toronto-emotional-speech-set-tess\\versions\\1\\TESS Toronto emotional speech set data\\OAF_disgust\\OAF_moon_disgust.wav\n"
     ]
    },
    {
     "name": "stderr",
     "output_type": "stream",
     "text": [
      "C:\\Users\\NEW\\AppData\\Roaming\\Python\\Python311\\site-packages\\librosa\\core\\spectrum.py:266: UserWarning: n_fft=1024 is too large for input signal of length=756\n",
      "  warnings.warn(\n"
     ]
    },
    {
     "name": "stdout",
     "output_type": "stream",
     "text": [
      "D:\\kagglehub\\datasets\\ejlok1\\toronto-emotional-speech-set-tess\\versions\\1\\TESS Toronto emotional speech set data\\OAF_disgust\\OAF_mop_disgust.wav\n",
      "D:\\kagglehub\\datasets\\ejlok1\\toronto-emotional-speech-set-tess\\versions\\1\\TESS Toronto emotional speech set data\\OAF_disgust\\OAF_mouse_disgust.wav\n",
      "D:\\kagglehub\\datasets\\ejlok1\\toronto-emotional-speech-set-tess\\versions\\1\\TESS Toronto emotional speech set data\\OAF_disgust\\OAF_nag_disgust.wav\n",
      "D:\\kagglehub\\datasets\\ejlok1\\toronto-emotional-speech-set-tess\\versions\\1\\TESS Toronto emotional speech set data\\OAF_disgust\\OAF_name_disgust.wav\n",
      "D:\\kagglehub\\datasets\\ejlok1\\toronto-emotional-speech-set-tess\\versions\\1\\TESS Toronto emotional speech set data\\OAF_disgust\\OAF_near_disgust.wav\n",
      "D:\\kagglehub\\datasets\\ejlok1\\toronto-emotional-speech-set-tess\\versions\\1\\TESS Toronto emotional speech set data\\OAF_disgust\\OAF_neat_disgust.wav\n",
      "D:\\kagglehub\\datasets\\ejlok1\\toronto-emotional-speech-set-tess\\versions\\1\\TESS Toronto emotional speech set data\\OAF_disgust\\OAF_nice_disgust.wav\n",
      "D:\\kagglehub\\datasets\\ejlok1\\toronto-emotional-speech-set-tess\\versions\\1\\TESS Toronto emotional speech set data\\OAF_disgust\\OAF_note_disgust.wav\n",
      "D:\\kagglehub\\datasets\\ejlok1\\toronto-emotional-speech-set-tess\\versions\\1\\TESS Toronto emotional speech set data\\OAF_disgust\\OAF_numb_disgust.wav\n",
      "D:\\kagglehub\\datasets\\ejlok1\\toronto-emotional-speech-set-tess\\versions\\1\\TESS Toronto emotional speech set data\\OAF_disgust\\OAF_pad_disgust.wav\n"
     ]
    },
    {
     "name": "stderr",
     "output_type": "stream",
     "text": [
      "C:\\Users\\NEW\\AppData\\Roaming\\Python\\Python311\\site-packages\\librosa\\core\\spectrum.py:266: UserWarning: n_fft=1024 is too large for input signal of length=698\n",
      "  warnings.warn(\n"
     ]
    },
    {
     "name": "stdout",
     "output_type": "stream",
     "text": [
      "D:\\kagglehub\\datasets\\ejlok1\\toronto-emotional-speech-set-tess\\versions\\1\\TESS Toronto emotional speech set data\\OAF_disgust\\OAF_page_disgust.wav\n",
      "D:\\kagglehub\\datasets\\ejlok1\\toronto-emotional-speech-set-tess\\versions\\1\\TESS Toronto emotional speech set data\\OAF_disgust\\OAF_pain_disgust.wav\n"
     ]
    },
    {
     "name": "stderr",
     "output_type": "stream",
     "text": [
      "C:\\Users\\NEW\\AppData\\Roaming\\Python\\Python311\\site-packages\\librosa\\core\\spectrum.py:266: UserWarning: n_fft=1024 is too large for input signal of length=750\n",
      "  warnings.warn(\n"
     ]
    },
    {
     "name": "stdout",
     "output_type": "stream",
     "text": [
      "D:\\kagglehub\\datasets\\ejlok1\\toronto-emotional-speech-set-tess\\versions\\1\\TESS Toronto emotional speech set data\\OAF_disgust\\OAF_pass_disgust.wav\n",
      "D:\\kagglehub\\datasets\\ejlok1\\toronto-emotional-speech-set-tess\\versions\\1\\TESS Toronto emotional speech set data\\OAF_disgust\\OAF_pearl_disgust.wav\n",
      "D:\\kagglehub\\datasets\\ejlok1\\toronto-emotional-speech-set-tess\\versions\\1\\TESS Toronto emotional speech set data\\OAF_disgust\\OAF_peg_disgust.wav\n",
      "D:\\kagglehub\\datasets\\ejlok1\\toronto-emotional-speech-set-tess\\versions\\1\\TESS Toronto emotional speech set data\\OAF_disgust\\OAF_perch_disgust.wav\n",
      "D:\\kagglehub\\datasets\\ejlok1\\toronto-emotional-speech-set-tess\\versions\\1\\TESS Toronto emotional speech set data\\OAF_disgust\\OAF_phone_disgust.wav\n",
      "D:\\kagglehub\\datasets\\ejlok1\\toronto-emotional-speech-set-tess\\versions\\1\\TESS Toronto emotional speech set data\\OAF_disgust\\OAF_pick_disgust.wav\n"
     ]
    },
    {
     "name": "stderr",
     "output_type": "stream",
     "text": [
      "C:\\Users\\NEW\\AppData\\Roaming\\Python\\Python311\\site-packages\\librosa\\core\\spectrum.py:266: UserWarning: n_fft=1024 is too large for input signal of length=568\n",
      "  warnings.warn(\n"
     ]
    },
    {
     "name": "stdout",
     "output_type": "stream",
     "text": [
      "D:\\kagglehub\\datasets\\ejlok1\\toronto-emotional-speech-set-tess\\versions\\1\\TESS Toronto emotional speech set data\\OAF_disgust\\OAF_pike_disgust.wav\n",
      "D:\\kagglehub\\datasets\\ejlok1\\toronto-emotional-speech-set-tess\\versions\\1\\TESS Toronto emotional speech set data\\OAF_disgust\\OAF_pole_disgust.wav\n",
      "D:\\kagglehub\\datasets\\ejlok1\\toronto-emotional-speech-set-tess\\versions\\1\\TESS Toronto emotional speech set data\\OAF_disgust\\OAF_pool_disgust.wav\n",
      "D:\\kagglehub\\datasets\\ejlok1\\toronto-emotional-speech-set-tess\\versions\\1\\TESS Toronto emotional speech set data\\OAF_disgust\\OAF_puff_disgust.wav\n"
     ]
    },
    {
     "name": "stderr",
     "output_type": "stream",
     "text": [
      "C:\\Users\\NEW\\AppData\\Roaming\\Python\\Python311\\site-packages\\librosa\\core\\spectrum.py:266: UserWarning: n_fft=1024 is too large for input signal of length=787\n",
      "  warnings.warn(\n"
     ]
    },
    {
     "name": "stdout",
     "output_type": "stream",
     "text": [
      "D:\\kagglehub\\datasets\\ejlok1\\toronto-emotional-speech-set-tess\\versions\\1\\TESS Toronto emotional speech set data\\OAF_disgust\\OAF_rag_disgust.wav\n",
      "D:\\kagglehub\\datasets\\ejlok1\\toronto-emotional-speech-set-tess\\versions\\1\\TESS Toronto emotional speech set data\\OAF_disgust\\OAF_raid_disgust.wav\n",
      "D:\\kagglehub\\datasets\\ejlok1\\toronto-emotional-speech-set-tess\\versions\\1\\TESS Toronto emotional speech set data\\OAF_disgust\\OAF_rain_disgust.wav\n",
      "D:\\kagglehub\\datasets\\ejlok1\\toronto-emotional-speech-set-tess\\versions\\1\\TESS Toronto emotional speech set data\\OAF_disgust\\OAF_raise_disgust.wav\n",
      "D:\\kagglehub\\datasets\\ejlok1\\toronto-emotional-speech-set-tess\\versions\\1\\TESS Toronto emotional speech set data\\OAF_disgust\\OAF_rat_disgust.wav\n",
      "D:\\kagglehub\\datasets\\ejlok1\\toronto-emotional-speech-set-tess\\versions\\1\\TESS Toronto emotional speech set data\\OAF_disgust\\OAF_reach_disgust.wav\n",
      "D:\\kagglehub\\datasets\\ejlok1\\toronto-emotional-speech-set-tess\\versions\\1\\TESS Toronto emotional speech set data\\OAF_disgust\\OAF_read_disgust.wav\n"
     ]
    },
    {
     "name": "stderr",
     "output_type": "stream",
     "text": [
      "C:\\Users\\NEW\\AppData\\Roaming\\Python\\Python311\\site-packages\\librosa\\core\\spectrum.py:266: UserWarning: n_fft=1024 is too large for input signal of length=718\n",
      "  warnings.warn(\n"
     ]
    },
    {
     "name": "stdout",
     "output_type": "stream",
     "text": [
      "D:\\kagglehub\\datasets\\ejlok1\\toronto-emotional-speech-set-tess\\versions\\1\\TESS Toronto emotional speech set data\\OAF_disgust\\OAF_red_disgust.wav\n",
      "D:\\kagglehub\\datasets\\ejlok1\\toronto-emotional-speech-set-tess\\versions\\1\\TESS Toronto emotional speech set data\\OAF_disgust\\OAF_ring_disgust.wav\n",
      "D:\\kagglehub\\datasets\\ejlok1\\toronto-emotional-speech-set-tess\\versions\\1\\TESS Toronto emotional speech set data\\OAF_disgust\\OAF_ripe_disgust.wav\n",
      "D:\\kagglehub\\datasets\\ejlok1\\toronto-emotional-speech-set-tess\\versions\\1\\TESS Toronto emotional speech set data\\OAF_disgust\\OAF_road_disgust.wav\n",
      "D:\\kagglehub\\datasets\\ejlok1\\toronto-emotional-speech-set-tess\\versions\\1\\TESS Toronto emotional speech set data\\OAF_disgust\\OAF_room_disgust.wav\n"
     ]
    },
    {
     "name": "stderr",
     "output_type": "stream",
     "text": [
      "C:\\Users\\NEW\\AppData\\Roaming\\Python\\Python311\\site-packages\\librosa\\core\\spectrum.py:266: UserWarning: n_fft=1024 is too large for input signal of length=703\n",
      "  warnings.warn(\n"
     ]
    },
    {
     "name": "stdout",
     "output_type": "stream",
     "text": [
      "D:\\kagglehub\\datasets\\ejlok1\\toronto-emotional-speech-set-tess\\versions\\1\\TESS Toronto emotional speech set data\\OAF_disgust\\OAF_rose_disgust.wav\n",
      "D:\\kagglehub\\datasets\\ejlok1\\toronto-emotional-speech-set-tess\\versions\\1\\TESS Toronto emotional speech set data\\OAF_disgust\\OAF_rot_disgust.wav\n",
      "D:\\kagglehub\\datasets\\ejlok1\\toronto-emotional-speech-set-tess\\versions\\1\\TESS Toronto emotional speech set data\\OAF_disgust\\OAF_rough_disgust.wav\n",
      "D:\\kagglehub\\datasets\\ejlok1\\toronto-emotional-speech-set-tess\\versions\\1\\TESS Toronto emotional speech set data\\OAF_disgust\\OAF_rush_disgust.wav\n",
      "D:\\kagglehub\\datasets\\ejlok1\\toronto-emotional-speech-set-tess\\versions\\1\\TESS Toronto emotional speech set data\\OAF_disgust\\OAF_said_disgust.wav\n",
      "D:\\kagglehub\\datasets\\ejlok1\\toronto-emotional-speech-set-tess\\versions\\1\\TESS Toronto emotional speech set data\\OAF_disgust\\OAF_sail_disgust.wav\n",
      "D:\\kagglehub\\datasets\\ejlok1\\toronto-emotional-speech-set-tess\\versions\\1\\TESS Toronto emotional speech set data\\OAF_disgust\\OAF_search_disgust.wav\n",
      "D:\\kagglehub\\datasets\\ejlok1\\toronto-emotional-speech-set-tess\\versions\\1\\TESS Toronto emotional speech set data\\OAF_disgust\\OAF_seize_disgust.wav\n",
      "D:\\kagglehub\\datasets\\ejlok1\\toronto-emotional-speech-set-tess\\versions\\1\\TESS Toronto emotional speech set data\\OAF_disgust\\OAF_sell_disgust.wav\n",
      "D:\\kagglehub\\datasets\\ejlok1\\toronto-emotional-speech-set-tess\\versions\\1\\TESS Toronto emotional speech set data\\OAF_disgust\\OAF_shack_disgust.wav\n",
      "D:\\kagglehub\\datasets\\ejlok1\\toronto-emotional-speech-set-tess\\versions\\1\\TESS Toronto emotional speech set data\\OAF_disgust\\OAF_shall_disgust.wav\n",
      "D:\\kagglehub\\datasets\\ejlok1\\toronto-emotional-speech-set-tess\\versions\\1\\TESS Toronto emotional speech set data\\OAF_disgust\\OAF_shawl_disgust.wav\n"
     ]
    },
    {
     "name": "stderr",
     "output_type": "stream",
     "text": [
      "C:\\Users\\NEW\\AppData\\Roaming\\Python\\Python311\\site-packages\\librosa\\core\\spectrum.py:266: UserWarning: n_fft=1024 is too large for input signal of length=754\n",
      "  warnings.warn(\n"
     ]
    },
    {
     "name": "stdout",
     "output_type": "stream",
     "text": [
      "D:\\kagglehub\\datasets\\ejlok1\\toronto-emotional-speech-set-tess\\versions\\1\\TESS Toronto emotional speech set data\\OAF_disgust\\OAF_sheep_disgust.wav\n"
     ]
    },
    {
     "name": "stderr",
     "output_type": "stream",
     "text": [
      "C:\\Users\\NEW\\AppData\\Roaming\\Python\\Python311\\site-packages\\librosa\\core\\spectrum.py:266: UserWarning: n_fft=1024 is too large for input signal of length=721\n",
      "  warnings.warn(\n"
     ]
    },
    {
     "name": "stdout",
     "output_type": "stream",
     "text": [
      "D:\\kagglehub\\datasets\\ejlok1\\toronto-emotional-speech-set-tess\\versions\\1\\TESS Toronto emotional speech set data\\OAF_disgust\\OAF_shirt_disgust.wav\n",
      "D:\\kagglehub\\datasets\\ejlok1\\toronto-emotional-speech-set-tess\\versions\\1\\TESS Toronto emotional speech set data\\OAF_disgust\\OAF_should_disgust.wav\n",
      "D:\\kagglehub\\datasets\\ejlok1\\toronto-emotional-speech-set-tess\\versions\\1\\TESS Toronto emotional speech set data\\OAF_disgust\\OAF_shout_disgust.wav\n",
      "D:\\kagglehub\\datasets\\ejlok1\\toronto-emotional-speech-set-tess\\versions\\1\\TESS Toronto emotional speech set data\\OAF_disgust\\OAF_size_disgust.wav\n",
      "D:\\kagglehub\\datasets\\ejlok1\\toronto-emotional-speech-set-tess\\versions\\1\\TESS Toronto emotional speech set data\\OAF_disgust\\OAF_soap_disgust.wav\n",
      "D:\\kagglehub\\datasets\\ejlok1\\toronto-emotional-speech-set-tess\\versions\\1\\TESS Toronto emotional speech set data\\OAF_disgust\\OAF_soup_disgust.wav\n",
      "D:\\kagglehub\\datasets\\ejlok1\\toronto-emotional-speech-set-tess\\versions\\1\\TESS Toronto emotional speech set data\\OAF_disgust\\OAF_sour_disgust.wav\n",
      "D:\\kagglehub\\datasets\\ejlok1\\toronto-emotional-speech-set-tess\\versions\\1\\TESS Toronto emotional speech set data\\OAF_disgust\\OAF_south_disgust.wav\n",
      "D:\\kagglehub\\datasets\\ejlok1\\toronto-emotional-speech-set-tess\\versions\\1\\TESS Toronto emotional speech set data\\OAF_disgust\\OAF_sub_disgust.wav\n"
     ]
    },
    {
     "name": "stderr",
     "output_type": "stream",
     "text": [
      "C:\\Users\\NEW\\AppData\\Roaming\\Python\\Python311\\site-packages\\librosa\\core\\spectrum.py:266: UserWarning: n_fft=1024 is too large for input signal of length=794\n",
      "  warnings.warn(\n"
     ]
    },
    {
     "name": "stdout",
     "output_type": "stream",
     "text": [
      "D:\\kagglehub\\datasets\\ejlok1\\toronto-emotional-speech-set-tess\\versions\\1\\TESS Toronto emotional speech set data\\OAF_disgust\\OAF_such_disgust.wav\n",
      "D:\\kagglehub\\datasets\\ejlok1\\toronto-emotional-speech-set-tess\\versions\\1\\TESS Toronto emotional speech set data\\OAF_disgust\\OAF_sure_disgust.wav\n"
     ]
    },
    {
     "name": "stderr",
     "output_type": "stream",
     "text": [
      "C:\\Users\\NEW\\AppData\\Roaming\\Python\\Python311\\site-packages\\librosa\\core\\spectrum.py:266: UserWarning: n_fft=1024 is too large for input signal of length=727\n",
      "  warnings.warn(\n"
     ]
    },
    {
     "name": "stdout",
     "output_type": "stream",
     "text": [
      "D:\\kagglehub\\datasets\\ejlok1\\toronto-emotional-speech-set-tess\\versions\\1\\TESS Toronto emotional speech set data\\OAF_disgust\\OAF_take_disgust.wav\n",
      "D:\\kagglehub\\datasets\\ejlok1\\toronto-emotional-speech-set-tess\\versions\\1\\TESS Toronto emotional speech set data\\OAF_disgust\\OAF_talk_disgust.wav\n",
      "D:\\kagglehub\\datasets\\ejlok1\\toronto-emotional-speech-set-tess\\versions\\1\\TESS Toronto emotional speech set data\\OAF_disgust\\OAF_tape_disgust.wav\n",
      "D:\\kagglehub\\datasets\\ejlok1\\toronto-emotional-speech-set-tess\\versions\\1\\TESS Toronto emotional speech set data\\OAF_disgust\\OAF_team_disgust.wav\n",
      "D:\\kagglehub\\datasets\\ejlok1\\toronto-emotional-speech-set-tess\\versions\\1\\TESS Toronto emotional speech set data\\OAF_disgust\\OAF_tell_disgust.wav\n",
      "D:\\kagglehub\\datasets\\ejlok1\\toronto-emotional-speech-set-tess\\versions\\1\\TESS Toronto emotional speech set data\\OAF_disgust\\OAF_thin_disgust.wav\n",
      "D:\\kagglehub\\datasets\\ejlok1\\toronto-emotional-speech-set-tess\\versions\\1\\TESS Toronto emotional speech set data\\OAF_disgust\\OAF_third_disgust.wav\n"
     ]
    },
    {
     "name": "stderr",
     "output_type": "stream",
     "text": [
      "C:\\Users\\NEW\\AppData\\Roaming\\Python\\Python311\\site-packages\\librosa\\core\\spectrum.py:266: UserWarning: n_fft=1024 is too large for input signal of length=723\n",
      "  warnings.warn(\n"
     ]
    },
    {
     "name": "stdout",
     "output_type": "stream",
     "text": [
      "D:\\kagglehub\\datasets\\ejlok1\\toronto-emotional-speech-set-tess\\versions\\1\\TESS Toronto emotional speech set data\\OAF_disgust\\OAF_thought_disgust.wav\n",
      "D:\\kagglehub\\datasets\\ejlok1\\toronto-emotional-speech-set-tess\\versions\\1\\TESS Toronto emotional speech set data\\OAF_disgust\\OAF_thumb_disgust.wav\n",
      "D:\\kagglehub\\datasets\\ejlok1\\toronto-emotional-speech-set-tess\\versions\\1\\TESS Toronto emotional speech set data\\OAF_disgust\\OAF_time_disgust.wav\n",
      "D:\\kagglehub\\datasets\\ejlok1\\toronto-emotional-speech-set-tess\\versions\\1\\TESS Toronto emotional speech set data\\OAF_disgust\\OAF_tip_disgust.wav\n"
     ]
    },
    {
     "name": "stderr",
     "output_type": "stream",
     "text": [
      "C:\\Users\\NEW\\AppData\\Roaming\\Python\\Python311\\site-packages\\librosa\\core\\spectrum.py:266: UserWarning: n_fft=1024 is too large for input signal of length=778\n",
      "  warnings.warn(\n"
     ]
    },
    {
     "name": "stdout",
     "output_type": "stream",
     "text": [
      "D:\\kagglehub\\datasets\\ejlok1\\toronto-emotional-speech-set-tess\\versions\\1\\TESS Toronto emotional speech set data\\OAF_disgust\\OAF_tire_disgust.wav\n",
      "D:\\kagglehub\\datasets\\ejlok1\\toronto-emotional-speech-set-tess\\versions\\1\\TESS Toronto emotional speech set data\\OAF_disgust\\OAF_ton_disgust.wav\n"
     ]
    },
    {
     "name": "stderr",
     "output_type": "stream",
     "text": [
      "C:\\Users\\NEW\\AppData\\Roaming\\Python\\Python311\\site-packages\\librosa\\core\\spectrum.py:266: UserWarning: n_fft=1024 is too large for input signal of length=678\n",
      "  warnings.warn(\n"
     ]
    },
    {
     "name": "stdout",
     "output_type": "stream",
     "text": [
      "D:\\kagglehub\\datasets\\ejlok1\\toronto-emotional-speech-set-tess\\versions\\1\\TESS Toronto emotional speech set data\\OAF_disgust\\OAF_tool_disgust.wav\n",
      "D:\\kagglehub\\datasets\\ejlok1\\toronto-emotional-speech-set-tess\\versions\\1\\TESS Toronto emotional speech set data\\OAF_disgust\\OAF_tough_disgust.wav\n",
      "D:\\kagglehub\\datasets\\ejlok1\\toronto-emotional-speech-set-tess\\versions\\1\\TESS Toronto emotional speech set data\\OAF_disgust\\OAF_turn_disgust.wav\n",
      "D:\\kagglehub\\datasets\\ejlok1\\toronto-emotional-speech-set-tess\\versions\\1\\TESS Toronto emotional speech set data\\OAF_disgust\\OAF_vine_disgust.wav\n",
      "D:\\kagglehub\\datasets\\ejlok1\\toronto-emotional-speech-set-tess\\versions\\1\\TESS Toronto emotional speech set data\\OAF_disgust\\OAF_voice_disgust.wav\n",
      "D:\\kagglehub\\datasets\\ejlok1\\toronto-emotional-speech-set-tess\\versions\\1\\TESS Toronto emotional speech set data\\OAF_disgust\\OAF_void_disgust.wav\n",
      "D:\\kagglehub\\datasets\\ejlok1\\toronto-emotional-speech-set-tess\\versions\\1\\TESS Toronto emotional speech set data\\OAF_disgust\\OAF_vote_disgust.wav\n",
      "D:\\kagglehub\\datasets\\ejlok1\\toronto-emotional-speech-set-tess\\versions\\1\\TESS Toronto emotional speech set data\\OAF_disgust\\OAF_wag_disgust.wav\n",
      "D:\\kagglehub\\datasets\\ejlok1\\toronto-emotional-speech-set-tess\\versions\\1\\TESS Toronto emotional speech set data\\OAF_disgust\\OAF_walk_disgust.wav\n"
     ]
    },
    {
     "name": "stderr",
     "output_type": "stream",
     "text": [
      "C:\\Users\\NEW\\AppData\\Roaming\\Python\\Python311\\site-packages\\librosa\\core\\spectrum.py:266: UserWarning: n_fft=1024 is too large for input signal of length=608\n",
      "  warnings.warn(\n"
     ]
    },
    {
     "name": "stdout",
     "output_type": "stream",
     "text": [
      "D:\\kagglehub\\datasets\\ejlok1\\toronto-emotional-speech-set-tess\\versions\\1\\TESS Toronto emotional speech set data\\OAF_disgust\\OAF_wash_disgust.wav\n",
      "D:\\kagglehub\\datasets\\ejlok1\\toronto-emotional-speech-set-tess\\versions\\1\\TESS Toronto emotional speech set data\\OAF_disgust\\OAF_week_disgust.wav\n",
      "D:\\kagglehub\\datasets\\ejlok1\\toronto-emotional-speech-set-tess\\versions\\1\\TESS Toronto emotional speech set data\\OAF_disgust\\OAF_wheat_disgust.wav\n"
     ]
    },
    {
     "name": "stderr",
     "output_type": "stream",
     "text": [
      "C:\\Users\\NEW\\AppData\\Roaming\\Python\\Python311\\site-packages\\librosa\\core\\spectrum.py:266: UserWarning: n_fft=1024 is too large for input signal of length=600\n",
      "  warnings.warn(\n"
     ]
    },
    {
     "name": "stdout",
     "output_type": "stream",
     "text": [
      "D:\\kagglehub\\datasets\\ejlok1\\toronto-emotional-speech-set-tess\\versions\\1\\TESS Toronto emotional speech set data\\OAF_disgust\\OAF_when_disgust.wav\n",
      "D:\\kagglehub\\datasets\\ejlok1\\toronto-emotional-speech-set-tess\\versions\\1\\TESS Toronto emotional speech set data\\OAF_disgust\\OAF_which_disgust.wav\n",
      "D:\\kagglehub\\datasets\\ejlok1\\toronto-emotional-speech-set-tess\\versions\\1\\TESS Toronto emotional speech set data\\OAF_disgust\\OAF_whip_disgust.wav\n",
      "D:\\kagglehub\\datasets\\ejlok1\\toronto-emotional-speech-set-tess\\versions\\1\\TESS Toronto emotional speech set data\\OAF_disgust\\OAF_white_disgust.wav\n",
      "D:\\kagglehub\\datasets\\ejlok1\\toronto-emotional-speech-set-tess\\versions\\1\\TESS Toronto emotional speech set data\\OAF_disgust\\OAF_wife_disgust.wav\n",
      "D:\\kagglehub\\datasets\\ejlok1\\toronto-emotional-speech-set-tess\\versions\\1\\TESS Toronto emotional speech set data\\OAF_disgust\\OAF_wire_disgust.wav\n",
      "D:\\kagglehub\\datasets\\ejlok1\\toronto-emotional-speech-set-tess\\versions\\1\\TESS Toronto emotional speech set data\\OAF_disgust\\OAF_witch_disgust.wav\n",
      "D:\\kagglehub\\datasets\\ejlok1\\toronto-emotional-speech-set-tess\\versions\\1\\TESS Toronto emotional speech set data\\OAF_disgust\\OAF_yearn_disgust.wav\n",
      "D:\\kagglehub\\datasets\\ejlok1\\toronto-emotional-speech-set-tess\\versions\\1\\TESS Toronto emotional speech set data\\OAF_disgust\\OAF_yes_disgust.wav\n",
      "D:\\kagglehub\\datasets\\ejlok1\\toronto-emotional-speech-set-tess\\versions\\1\\TESS Toronto emotional speech set data\\OAF_disgust\\OAF_young_disgust.wav\n",
      "D:\\kagglehub\\datasets\\ejlok1\\toronto-emotional-speech-set-tess\\versions\\1\\TESS Toronto emotional speech set data\\OAF_disgust\\OAF_youth_disgust.wav\n",
      "D:\\kagglehub\\datasets\\ejlok1\\toronto-emotional-speech-set-tess\\versions\\1\\TESS Toronto emotional speech set data\\OAF_Fear\\OAF_back_fear.wav\n",
      "D:\\kagglehub\\datasets\\ejlok1\\toronto-emotional-speech-set-tess\\versions\\1\\TESS Toronto emotional speech set data\\OAF_Fear\\OAF_bar_fear.wav\n",
      "D:\\kagglehub\\datasets\\ejlok1\\toronto-emotional-speech-set-tess\\versions\\1\\TESS Toronto emotional speech set data\\OAF_Fear\\OAF_base_fear.wav\n",
      "D:\\kagglehub\\datasets\\ejlok1\\toronto-emotional-speech-set-tess\\versions\\1\\TESS Toronto emotional speech set data\\OAF_Fear\\OAF_bath_fear.wav\n",
      "D:\\kagglehub\\datasets\\ejlok1\\toronto-emotional-speech-set-tess\\versions\\1\\TESS Toronto emotional speech set data\\OAF_Fear\\OAF_bean_fear.wav\n"
     ]
    },
    {
     "name": "stderr",
     "output_type": "stream",
     "text": [
      "C:\\Users\\NEW\\AppData\\Roaming\\Python\\Python311\\site-packages\\librosa\\core\\spectrum.py:266: UserWarning: n_fft=1024 is too large for input signal of length=995\n",
      "  warnings.warn(\n",
      "C:\\Users\\NEW\\AppData\\Roaming\\Python\\Python311\\site-packages\\librosa\\core\\spectrum.py:266: UserWarning: n_fft=1024 is too large for input signal of length=498\n",
      "  warnings.warn(\n"
     ]
    },
    {
     "name": "stdout",
     "output_type": "stream",
     "text": [
      "D:\\kagglehub\\datasets\\ejlok1\\toronto-emotional-speech-set-tess\\versions\\1\\TESS Toronto emotional speech set data\\OAF_Fear\\OAF_beg_fear.wav\n",
      "D:\\kagglehub\\datasets\\ejlok1\\toronto-emotional-speech-set-tess\\versions\\1\\TESS Toronto emotional speech set data\\OAF_Fear\\OAF_bite_fear.wav\n"
     ]
    },
    {
     "name": "stderr",
     "output_type": "stream",
     "text": [
      "C:\\Users\\NEW\\AppData\\Roaming\\Python\\Python311\\site-packages\\librosa\\core\\spectrum.py:266: UserWarning: n_fft=1024 is too large for input signal of length=854\n",
      "  warnings.warn(\n",
      "C:\\Users\\NEW\\AppData\\Roaming\\Python\\Python311\\site-packages\\librosa\\core\\spectrum.py:266: UserWarning: n_fft=1024 is too large for input signal of length=427\n",
      "  warnings.warn(\n"
     ]
    },
    {
     "name": "stdout",
     "output_type": "stream",
     "text": [
      "D:\\kagglehub\\datasets\\ejlok1\\toronto-emotional-speech-set-tess\\versions\\1\\TESS Toronto emotional speech set data\\OAF_Fear\\OAF_boat_fear.wav\n",
      "D:\\kagglehub\\datasets\\ejlok1\\toronto-emotional-speech-set-tess\\versions\\1\\TESS Toronto emotional speech set data\\OAF_Fear\\OAF_bone_fear.wav\n"
     ]
    },
    {
     "name": "stderr",
     "output_type": "stream",
     "text": [
      "C:\\Users\\NEW\\AppData\\Roaming\\Python\\Python311\\site-packages\\librosa\\core\\spectrum.py:266: UserWarning: n_fft=1024 is too large for input signal of length=908\n",
      "  warnings.warn(\n",
      "C:\\Users\\NEW\\AppData\\Roaming\\Python\\Python311\\site-packages\\librosa\\core\\spectrum.py:266: UserWarning: n_fft=1024 is too large for input signal of length=454\n",
      "  warnings.warn(\n"
     ]
    },
    {
     "name": "stdout",
     "output_type": "stream",
     "text": [
      "D:\\kagglehub\\datasets\\ejlok1\\toronto-emotional-speech-set-tess\\versions\\1\\TESS Toronto emotional speech set data\\OAF_Fear\\OAF_book_fear.wav\n",
      "D:\\kagglehub\\datasets\\ejlok1\\toronto-emotional-speech-set-tess\\versions\\1\\TESS Toronto emotional speech set data\\OAF_Fear\\OAF_bought_fear.wav\n"
     ]
    },
    {
     "name": "stderr",
     "output_type": "stream",
     "text": [
      "C:\\Users\\NEW\\AppData\\Roaming\\Python\\Python311\\site-packages\\librosa\\core\\spectrum.py:266: UserWarning: n_fft=1024 is too large for input signal of length=919\n",
      "  warnings.warn(\n",
      "C:\\Users\\NEW\\AppData\\Roaming\\Python\\Python311\\site-packages\\librosa\\core\\spectrum.py:266: UserWarning: n_fft=1024 is too large for input signal of length=460\n",
      "  warnings.warn(\n"
     ]
    },
    {
     "name": "stdout",
     "output_type": "stream",
     "text": [
      "D:\\kagglehub\\datasets\\ejlok1\\toronto-emotional-speech-set-tess\\versions\\1\\TESS Toronto emotional speech set data\\OAF_Fear\\OAF_burn_fear.wav\n"
     ]
    },
    {
     "name": "stderr",
     "output_type": "stream",
     "text": [
      "C:\\Users\\NEW\\AppData\\Roaming\\Python\\Python311\\site-packages\\librosa\\core\\spectrum.py:266: UserWarning: n_fft=1024 is too large for input signal of length=954\n",
      "  warnings.warn(\n",
      "C:\\Users\\NEW\\AppData\\Roaming\\Python\\Python311\\site-packages\\librosa\\core\\spectrum.py:266: UserWarning: n_fft=1024 is too large for input signal of length=477\n",
      "  warnings.warn(\n"
     ]
    },
    {
     "name": "stdout",
     "output_type": "stream",
     "text": [
      "D:\\kagglehub\\datasets\\ejlok1\\toronto-emotional-speech-set-tess\\versions\\1\\TESS Toronto emotional speech set data\\OAF_Fear\\OAF_cab_fear.wav\n",
      "D:\\kagglehub\\datasets\\ejlok1\\toronto-emotional-speech-set-tess\\versions\\1\\TESS Toronto emotional speech set data\\OAF_Fear\\OAF_calm_fear.wav\n"
     ]
    },
    {
     "name": "stderr",
     "output_type": "stream",
     "text": [
      "C:\\Users\\NEW\\AppData\\Roaming\\Python\\Python311\\site-packages\\librosa\\core\\spectrum.py:266: UserWarning: n_fft=1024 is too large for input signal of length=957\n",
      "  warnings.warn(\n",
      "C:\\Users\\NEW\\AppData\\Roaming\\Python\\Python311\\site-packages\\librosa\\core\\spectrum.py:266: UserWarning: n_fft=1024 is too large for input signal of length=479\n",
      "  warnings.warn(\n"
     ]
    },
    {
     "name": "stdout",
     "output_type": "stream",
     "text": [
      "D:\\kagglehub\\datasets\\ejlok1\\toronto-emotional-speech-set-tess\\versions\\1\\TESS Toronto emotional speech set data\\OAF_Fear\\OAF_came_fear.wav\n",
      "D:\\kagglehub\\datasets\\ejlok1\\toronto-emotional-speech-set-tess\\versions\\1\\TESS Toronto emotional speech set data\\OAF_Fear\\OAF_cause_fear.wav\n",
      "D:\\kagglehub\\datasets\\ejlok1\\toronto-emotional-speech-set-tess\\versions\\1\\TESS Toronto emotional speech set data\\OAF_Fear\\OAF_chain_fear.wav\n",
      "D:\\kagglehub\\datasets\\ejlok1\\toronto-emotional-speech-set-tess\\versions\\1\\TESS Toronto emotional speech set data\\OAF_Fear\\OAF_chair_fear.wav\n",
      "D:\\kagglehub\\datasets\\ejlok1\\toronto-emotional-speech-set-tess\\versions\\1\\TESS Toronto emotional speech set data\\OAF_Fear\\OAF_chalk_fear.wav\n",
      "D:\\kagglehub\\datasets\\ejlok1\\toronto-emotional-speech-set-tess\\versions\\1\\TESS Toronto emotional speech set data\\OAF_Fear\\OAF_chat_fear.wav\n",
      "D:\\kagglehub\\datasets\\ejlok1\\toronto-emotional-speech-set-tess\\versions\\1\\TESS Toronto emotional speech set data\\OAF_Fear\\OAF_check_fear.wav\n",
      "D:\\kagglehub\\datasets\\ejlok1\\toronto-emotional-speech-set-tess\\versions\\1\\TESS Toronto emotional speech set data\\OAF_Fear\\OAF_cheek_fear.wav\n",
      "D:\\kagglehub\\datasets\\ejlok1\\toronto-emotional-speech-set-tess\\versions\\1\\TESS Toronto emotional speech set data\\OAF_Fear\\OAF_chief_fear.wav\n",
      "D:\\kagglehub\\datasets\\ejlok1\\toronto-emotional-speech-set-tess\\versions\\1\\TESS Toronto emotional speech set data\\OAF_Fear\\OAF_choice_fear.wav\n",
      "D:\\kagglehub\\datasets\\ejlok1\\toronto-emotional-speech-set-tess\\versions\\1\\TESS Toronto emotional speech set data\\OAF_Fear\\OAF_cool_fear.wav\n",
      "D:\\kagglehub\\datasets\\ejlok1\\toronto-emotional-speech-set-tess\\versions\\1\\TESS Toronto emotional speech set data\\OAF_Fear\\OAF_dab_fear.wav\n"
     ]
    },
    {
     "name": "stderr",
     "output_type": "stream",
     "text": [
      "C:\\Users\\NEW\\AppData\\Roaming\\Python\\Python311\\site-packages\\librosa\\core\\spectrum.py:266: UserWarning: n_fft=1024 is too large for input signal of length=952\n",
      "  warnings.warn(\n",
      "C:\\Users\\NEW\\AppData\\Roaming\\Python\\Python311\\site-packages\\librosa\\core\\spectrum.py:266: UserWarning: n_fft=1024 is too large for input signal of length=476\n",
      "  warnings.warn(\n"
     ]
    },
    {
     "name": "stdout",
     "output_type": "stream",
     "text": [
      "D:\\kagglehub\\datasets\\ejlok1\\toronto-emotional-speech-set-tess\\versions\\1\\TESS Toronto emotional speech set data\\OAF_Fear\\OAF_date_fear.wav\n",
      "D:\\kagglehub\\datasets\\ejlok1\\toronto-emotional-speech-set-tess\\versions\\1\\TESS Toronto emotional speech set data\\OAF_Fear\\OAF_dead_fear.wav\n"
     ]
    },
    {
     "name": "stderr",
     "output_type": "stream",
     "text": [
      "C:\\Users\\NEW\\AppData\\Roaming\\Python\\Python311\\site-packages\\librosa\\core\\spectrum.py:266: UserWarning: n_fft=1024 is too large for input signal of length=956\n",
      "  warnings.warn(\n",
      "C:\\Users\\NEW\\AppData\\Roaming\\Python\\Python311\\site-packages\\librosa\\core\\spectrum.py:266: UserWarning: n_fft=1024 is too large for input signal of length=478\n",
      "  warnings.warn(\n"
     ]
    },
    {
     "name": "stdout",
     "output_type": "stream",
     "text": [
      "D:\\kagglehub\\datasets\\ejlok1\\toronto-emotional-speech-set-tess\\versions\\1\\TESS Toronto emotional speech set data\\OAF_Fear\\OAF_death_fear.wav\n",
      "D:\\kagglehub\\datasets\\ejlok1\\toronto-emotional-speech-set-tess\\versions\\1\\TESS Toronto emotional speech set data\\OAF_Fear\\OAF_deep_fear.wav\n",
      "D:\\kagglehub\\datasets\\ejlok1\\toronto-emotional-speech-set-tess\\versions\\1\\TESS Toronto emotional speech set data\\OAF_Fear\\OAF_dime_fear.wav\n",
      "D:\\kagglehub\\datasets\\ejlok1\\toronto-emotional-speech-set-tess\\versions\\1\\TESS Toronto emotional speech set data\\OAF_Fear\\OAF_dip_fear.wav\n",
      "D:\\kagglehub\\datasets\\ejlok1\\toronto-emotional-speech-set-tess\\versions\\1\\TESS Toronto emotional speech set data\\OAF_Fear\\OAF_ditch_fear.wav\n",
      "D:\\kagglehub\\datasets\\ejlok1\\toronto-emotional-speech-set-tess\\versions\\1\\TESS Toronto emotional speech set data\\OAF_Fear\\OAF_dodge_fear.wav\n",
      "D:\\kagglehub\\datasets\\ejlok1\\toronto-emotional-speech-set-tess\\versions\\1\\TESS Toronto emotional speech set data\\OAF_Fear\\OAF_dog_fear.wav\n",
      "D:\\kagglehub\\datasets\\ejlok1\\toronto-emotional-speech-set-tess\\versions\\1\\TESS Toronto emotional speech set data\\OAF_Fear\\OAF_doll_fear.wav\n",
      "D:\\kagglehub\\datasets\\ejlok1\\toronto-emotional-speech-set-tess\\versions\\1\\TESS Toronto emotional speech set data\\OAF_Fear\\OAF_door_fear.wav\n"
     ]
    },
    {
     "name": "stderr",
     "output_type": "stream",
     "text": [
      "C:\\Users\\NEW\\AppData\\Roaming\\Python\\Python311\\site-packages\\librosa\\core\\spectrum.py:266: UserWarning: n_fft=1024 is too large for input signal of length=969\n",
      "  warnings.warn(\n",
      "C:\\Users\\NEW\\AppData\\Roaming\\Python\\Python311\\site-packages\\librosa\\core\\spectrum.py:266: UserWarning: n_fft=1024 is too large for input signal of length=485\n",
      "  warnings.warn(\n"
     ]
    },
    {
     "name": "stdout",
     "output_type": "stream",
     "text": [
      "D:\\kagglehub\\datasets\\ejlok1\\toronto-emotional-speech-set-tess\\versions\\1\\TESS Toronto emotional speech set data\\OAF_Fear\\OAF_fail_fear.wav\n"
     ]
    },
    {
     "name": "stderr",
     "output_type": "stream",
     "text": [
      "C:\\Users\\NEW\\AppData\\Roaming\\Python\\Python311\\site-packages\\librosa\\core\\spectrum.py:266: UserWarning: n_fft=1024 is too large for input signal of length=977\n",
      "  warnings.warn(\n",
      "C:\\Users\\NEW\\AppData\\Roaming\\Python\\Python311\\site-packages\\librosa\\core\\spectrum.py:266: UserWarning: n_fft=1024 is too large for input signal of length=489\n",
      "  warnings.warn(\n"
     ]
    },
    {
     "name": "stdout",
     "output_type": "stream",
     "text": [
      "D:\\kagglehub\\datasets\\ejlok1\\toronto-emotional-speech-set-tess\\versions\\1\\TESS Toronto emotional speech set data\\OAF_Fear\\OAF_fall_fear.wav\n"
     ]
    },
    {
     "name": "stderr",
     "output_type": "stream",
     "text": [
      "C:\\Users\\NEW\\AppData\\Roaming\\Python\\Python311\\site-packages\\librosa\\core\\spectrum.py:266: UserWarning: n_fft=1024 is too large for input signal of length=523\n",
      "  warnings.warn(\n"
     ]
    },
    {
     "name": "stdout",
     "output_type": "stream",
     "text": [
      "D:\\kagglehub\\datasets\\ejlok1\\toronto-emotional-speech-set-tess\\versions\\1\\TESS Toronto emotional speech set data\\OAF_Fear\\OAF_far_fear.wav\n"
     ]
    },
    {
     "name": "stderr",
     "output_type": "stream",
     "text": [
      "C:\\Users\\NEW\\AppData\\Roaming\\Python\\Python311\\site-packages\\librosa\\core\\spectrum.py:266: UserWarning: n_fft=1024 is too large for input signal of length=518\n",
      "  warnings.warn(\n"
     ]
    },
    {
     "name": "stdout",
     "output_type": "stream",
     "text": [
      "D:\\kagglehub\\datasets\\ejlok1\\toronto-emotional-speech-set-tess\\versions\\1\\TESS Toronto emotional speech set data\\OAF_Fear\\OAF_fat_fear.wav\n",
      "D:\\kagglehub\\datasets\\ejlok1\\toronto-emotional-speech-set-tess\\versions\\1\\TESS Toronto emotional speech set data\\OAF_Fear\\OAF_fit_fear.wav\n",
      "D:\\kagglehub\\datasets\\ejlok1\\toronto-emotional-speech-set-tess\\versions\\1\\TESS Toronto emotional speech set data\\OAF_Fear\\OAF_five_fear.wav\n",
      "D:\\kagglehub\\datasets\\ejlok1\\toronto-emotional-speech-set-tess\\versions\\1\\TESS Toronto emotional speech set data\\OAF_Fear\\OAF_food_fear.wav\n",
      "D:\\kagglehub\\datasets\\ejlok1\\toronto-emotional-speech-set-tess\\versions\\1\\TESS Toronto emotional speech set data\\OAF_Fear\\OAF_gap_fear.wav\n",
      "D:\\kagglehub\\datasets\\ejlok1\\toronto-emotional-speech-set-tess\\versions\\1\\TESS Toronto emotional speech set data\\OAF_Fear\\OAF_gas_fear.wav\n",
      "D:\\kagglehub\\datasets\\ejlok1\\toronto-emotional-speech-set-tess\\versions\\1\\TESS Toronto emotional speech set data\\OAF_Fear\\OAF_gaze_fear.wav\n",
      "D:\\kagglehub\\datasets\\ejlok1\\toronto-emotional-speech-set-tess\\versions\\1\\TESS Toronto emotional speech set data\\OAF_Fear\\OAF_germ_fear.wav\n"
     ]
    },
    {
     "name": "stderr",
     "output_type": "stream",
     "text": [
      "C:\\Users\\NEW\\AppData\\Roaming\\Python\\Python311\\site-packages\\librosa\\core\\spectrum.py:266: UserWarning: n_fft=1024 is too large for input signal of length=531\n",
      "  warnings.warn(\n"
     ]
    },
    {
     "name": "stdout",
     "output_type": "stream",
     "text": [
      "D:\\kagglehub\\datasets\\ejlok1\\toronto-emotional-speech-set-tess\\versions\\1\\TESS Toronto emotional speech set data\\OAF_Fear\\OAF_get_fear.wav\n",
      "D:\\kagglehub\\datasets\\ejlok1\\toronto-emotional-speech-set-tess\\versions\\1\\TESS Toronto emotional speech set data\\OAF_Fear\\OAF_gin_fear.wav\n"
     ]
    },
    {
     "name": "stderr",
     "output_type": "stream",
     "text": [
      "C:\\Users\\NEW\\AppData\\Roaming\\Python\\Python311\\site-packages\\librosa\\core\\spectrum.py:266: UserWarning: n_fft=1024 is too large for input signal of length=1014\n",
      "  warnings.warn(\n",
      "C:\\Users\\NEW\\AppData\\Roaming\\Python\\Python311\\site-packages\\librosa\\core\\spectrum.py:266: UserWarning: n_fft=1024 is too large for input signal of length=507\n",
      "  warnings.warn(\n"
     ]
    },
    {
     "name": "stdout",
     "output_type": "stream",
     "text": [
      "D:\\kagglehub\\datasets\\ejlok1\\toronto-emotional-speech-set-tess\\versions\\1\\TESS Toronto emotional speech set data\\OAF_Fear\\OAF_goal_fear.wav\n",
      "D:\\kagglehub\\datasets\\ejlok1\\toronto-emotional-speech-set-tess\\versions\\1\\TESS Toronto emotional speech set data\\OAF_Fear\\OAF_good_fear.wav\n"
     ]
    },
    {
     "name": "stderr",
     "output_type": "stream",
     "text": [
      "C:\\Users\\NEW\\AppData\\Roaming\\Python\\Python311\\site-packages\\librosa\\core\\spectrum.py:266: UserWarning: n_fft=1024 is too large for input signal of length=925\n",
      "  warnings.warn(\n",
      "C:\\Users\\NEW\\AppData\\Roaming\\Python\\Python311\\site-packages\\librosa\\core\\spectrum.py:266: UserWarning: n_fft=1024 is too large for input signal of length=463\n",
      "  warnings.warn(\n"
     ]
    },
    {
     "name": "stdout",
     "output_type": "stream",
     "text": [
      "D:\\kagglehub\\datasets\\ejlok1\\toronto-emotional-speech-set-tess\\versions\\1\\TESS Toronto emotional speech set data\\OAF_Fear\\OAF_goose_fear.wav\n",
      "D:\\kagglehub\\datasets\\ejlok1\\toronto-emotional-speech-set-tess\\versions\\1\\TESS Toronto emotional speech set data\\OAF_Fear\\OAF_gun_fear.wav\n",
      "D:\\kagglehub\\datasets\\ejlok1\\toronto-emotional-speech-set-tess\\versions\\1\\TESS Toronto emotional speech set data\\OAF_Fear\\OAF_half_fear.wav\n"
     ]
    },
    {
     "name": "stderr",
     "output_type": "stream",
     "text": [
      "C:\\Users\\NEW\\AppData\\Roaming\\Python\\Python311\\site-packages\\librosa\\core\\spectrum.py:266: UserWarning: n_fft=1024 is too large for input signal of length=547\n",
      "  warnings.warn(\n"
     ]
    },
    {
     "name": "stdout",
     "output_type": "stream",
     "text": [
      "D:\\kagglehub\\datasets\\ejlok1\\toronto-emotional-speech-set-tess\\versions\\1\\TESS Toronto emotional speech set data\\OAF_Fear\\OAF_hall_fear.wav\n",
      "D:\\kagglehub\\datasets\\ejlok1\\toronto-emotional-speech-set-tess\\versions\\1\\TESS Toronto emotional speech set data\\OAF_Fear\\OAF_hash_fear.wav\n",
      "D:\\kagglehub\\datasets\\ejlok1\\toronto-emotional-speech-set-tess\\versions\\1\\TESS Toronto emotional speech set data\\OAF_Fear\\OAF_hate_fear.wav\n",
      "D:\\kagglehub\\datasets\\ejlok1\\toronto-emotional-speech-set-tess\\versions\\1\\TESS Toronto emotional speech set data\\OAF_Fear\\OAF_have_fear.wav\n",
      "D:\\kagglehub\\datasets\\ejlok1\\toronto-emotional-speech-set-tess\\versions\\1\\TESS Toronto emotional speech set data\\OAF_Fear\\OAF_haze_fear.wav\n",
      "D:\\kagglehub\\datasets\\ejlok1\\toronto-emotional-speech-set-tess\\versions\\1\\TESS Toronto emotional speech set data\\OAF_Fear\\OAF_hire_fear.wav\n",
      "D:\\kagglehub\\datasets\\ejlok1\\toronto-emotional-speech-set-tess\\versions\\1\\TESS Toronto emotional speech set data\\OAF_Fear\\OAF_hit_fear.wav\n",
      "D:\\kagglehub\\datasets\\ejlok1\\toronto-emotional-speech-set-tess\\versions\\1\\TESS Toronto emotional speech set data\\OAF_Fear\\OAF_hole_fear.wav\n",
      "D:\\kagglehub\\datasets\\ejlok1\\toronto-emotional-speech-set-tess\\versions\\1\\TESS Toronto emotional speech set data\\OAF_Fear\\OAF_home_fear.wav\n",
      "D:\\kagglehub\\datasets\\ejlok1\\toronto-emotional-speech-set-tess\\versions\\1\\TESS Toronto emotional speech set data\\OAF_Fear\\OAF_hurl_fear.wav\n",
      "D:\\kagglehub\\datasets\\ejlok1\\toronto-emotional-speech-set-tess\\versions\\1\\TESS Toronto emotional speech set data\\OAF_Fear\\OAF_hush_fear.wav\n",
      "D:\\kagglehub\\datasets\\ejlok1\\toronto-emotional-speech-set-tess\\versions\\1\\TESS Toronto emotional speech set data\\OAF_Fear\\OAF_jail_fear.wav\n",
      "D:\\kagglehub\\datasets\\ejlok1\\toronto-emotional-speech-set-tess\\versions\\1\\TESS Toronto emotional speech set data\\OAF_Fear\\OAF_jar_fear.wav\n",
      "D:\\kagglehub\\datasets\\ejlok1\\toronto-emotional-speech-set-tess\\versions\\1\\TESS Toronto emotional speech set data\\OAF_Fear\\OAF_join_fear.wav\n",
      "D:\\kagglehub\\datasets\\ejlok1\\toronto-emotional-speech-set-tess\\versions\\1\\TESS Toronto emotional speech set data\\OAF_Fear\\OAF_judge_fear.wav\n",
      "D:\\kagglehub\\datasets\\ejlok1\\toronto-emotional-speech-set-tess\\versions\\1\\TESS Toronto emotional speech set data\\OAF_Fear\\OAF_jug_fear.wav\n"
     ]
    },
    {
     "name": "stderr",
     "output_type": "stream",
     "text": [
      "C:\\Users\\NEW\\AppData\\Roaming\\Python\\Python311\\site-packages\\librosa\\core\\spectrum.py:266: UserWarning: n_fft=1024 is too large for input signal of length=536\n",
      "  warnings.warn(\n"
     ]
    },
    {
     "name": "stdout",
     "output_type": "stream",
     "text": [
      "D:\\kagglehub\\datasets\\ejlok1\\toronto-emotional-speech-set-tess\\versions\\1\\TESS Toronto emotional speech set data\\OAF_Fear\\OAF_juice_fear.wav\n",
      "D:\\kagglehub\\datasets\\ejlok1\\toronto-emotional-speech-set-tess\\versions\\1\\TESS Toronto emotional speech set data\\OAF_Fear\\OAF_keen_fear.wav\n"
     ]
    },
    {
     "name": "stderr",
     "output_type": "stream",
     "text": [
      "C:\\Users\\NEW\\AppData\\Roaming\\Python\\Python311\\site-packages\\librosa\\core\\spectrum.py:266: UserWarning: n_fft=1024 is too large for input signal of length=1023\n",
      "  warnings.warn(\n"
     ]
    },
    {
     "name": "stdout",
     "output_type": "stream",
     "text": [
      "D:\\kagglehub\\datasets\\ejlok1\\toronto-emotional-speech-set-tess\\versions\\1\\TESS Toronto emotional speech set data\\OAF_Fear\\OAF_keep_fear.wav\n",
      "D:\\kagglehub\\datasets\\ejlok1\\toronto-emotional-speech-set-tess\\versions\\1\\TESS Toronto emotional speech set data\\OAF_Fear\\OAF_keg_fear.wav\n",
      "D:\\kagglehub\\datasets\\ejlok1\\toronto-emotional-speech-set-tess\\versions\\1\\TESS Toronto emotional speech set data\\OAF_Fear\\OAF_kick_fear.wav\n",
      "D:\\kagglehub\\datasets\\ejlok1\\toronto-emotional-speech-set-tess\\versions\\1\\TESS Toronto emotional speech set data\\OAF_Fear\\OAF_kill_fear.wav\n",
      "D:\\kagglehub\\datasets\\ejlok1\\toronto-emotional-speech-set-tess\\versions\\1\\TESS Toronto emotional speech set data\\OAF_Fear\\OAF_king_fear.wav\n",
      "D:\\kagglehub\\datasets\\ejlok1\\toronto-emotional-speech-set-tess\\versions\\1\\TESS Toronto emotional speech set data\\OAF_Fear\\OAF_kite_fear.wav\n",
      "D:\\kagglehub\\datasets\\ejlok1\\toronto-emotional-speech-set-tess\\versions\\1\\TESS Toronto emotional speech set data\\OAF_Fear\\OAF_knock_fear.wav\n",
      "D:\\kagglehub\\datasets\\ejlok1\\toronto-emotional-speech-set-tess\\versions\\1\\TESS Toronto emotional speech set data\\OAF_Fear\\OAF_late_fear.wav\n",
      "D:\\kagglehub\\datasets\\ejlok1\\toronto-emotional-speech-set-tess\\versions\\1\\TESS Toronto emotional speech set data\\OAF_Fear\\OAF_laud_fear.wav\n"
     ]
    },
    {
     "name": "stderr",
     "output_type": "stream",
     "text": [
      "C:\\Users\\NEW\\AppData\\Roaming\\Python\\Python311\\site-packages\\librosa\\core\\spectrum.py:266: UserWarning: n_fft=1024 is too large for input signal of length=1006\n",
      "  warnings.warn(\n",
      "C:\\Users\\NEW\\AppData\\Roaming\\Python\\Python311\\site-packages\\librosa\\core\\spectrum.py:266: UserWarning: n_fft=1024 is too large for input signal of length=503\n",
      "  warnings.warn(\n"
     ]
    },
    {
     "name": "stdout",
     "output_type": "stream",
     "text": [
      "D:\\kagglehub\\datasets\\ejlok1\\toronto-emotional-speech-set-tess\\versions\\1\\TESS Toronto emotional speech set data\\OAF_Fear\\OAF_lean_fear.wav\n",
      "D:\\kagglehub\\datasets\\ejlok1\\toronto-emotional-speech-set-tess\\versions\\1\\TESS Toronto emotional speech set data\\OAF_Fear\\OAF_learn_fear.wav\n"
     ]
    },
    {
     "name": "stderr",
     "output_type": "stream",
     "text": [
      "C:\\Users\\NEW\\AppData\\Roaming\\Python\\Python311\\site-packages\\librosa\\core\\spectrum.py:266: UserWarning: n_fft=1024 is too large for input signal of length=514\n",
      "  warnings.warn(\n"
     ]
    },
    {
     "name": "stdout",
     "output_type": "stream",
     "text": [
      "D:\\kagglehub\\datasets\\ejlok1\\toronto-emotional-speech-set-tess\\versions\\1\\TESS Toronto emotional speech set data\\OAF_Fear\\OAF_lease_fear.wav\n",
      "D:\\kagglehub\\datasets\\ejlok1\\toronto-emotional-speech-set-tess\\versions\\1\\TESS Toronto emotional speech set data\\OAF_Fear\\OAF_lid_fear.wav\n",
      "D:\\kagglehub\\datasets\\ejlok1\\toronto-emotional-speech-set-tess\\versions\\1\\TESS Toronto emotional speech set data\\OAF_Fear\\OAF_life_fear.wav\n",
      "D:\\kagglehub\\datasets\\ejlok1\\toronto-emotional-speech-set-tess\\versions\\1\\TESS Toronto emotional speech set data\\OAF_Fear\\OAF_limb_fear.wav\n",
      "D:\\kagglehub\\datasets\\ejlok1\\toronto-emotional-speech-set-tess\\versions\\1\\TESS Toronto emotional speech set data\\OAF_Fear\\OAF_live_fear.wav\n",
      "D:\\kagglehub\\datasets\\ejlok1\\toronto-emotional-speech-set-tess\\versions\\1\\TESS Toronto emotional speech set data\\OAF_Fear\\OAF_loaf_fear.wav\n",
      "D:\\kagglehub\\datasets\\ejlok1\\toronto-emotional-speech-set-tess\\versions\\1\\TESS Toronto emotional speech set data\\OAF_Fear\\OAF_long_fear.wav\n",
      "D:\\kagglehub\\datasets\\ejlok1\\toronto-emotional-speech-set-tess\\versions\\1\\TESS Toronto emotional speech set data\\OAF_Fear\\OAF_lore_fear.wav\n",
      "D:\\kagglehub\\datasets\\ejlok1\\toronto-emotional-speech-set-tess\\versions\\1\\TESS Toronto emotional speech set data\\OAF_Fear\\OAF_lose_fear.wav\n",
      "D:\\kagglehub\\datasets\\ejlok1\\toronto-emotional-speech-set-tess\\versions\\1\\TESS Toronto emotional speech set data\\OAF_Fear\\OAF_lot_fear.wav\n",
      "D:\\kagglehub\\datasets\\ejlok1\\toronto-emotional-speech-set-tess\\versions\\1\\TESS Toronto emotional speech set data\\OAF_Fear\\OAF_love_fear.wav\n",
      "D:\\kagglehub\\datasets\\ejlok1\\toronto-emotional-speech-set-tess\\versions\\1\\TESS Toronto emotional speech set data\\OAF_Fear\\OAF_luck_fear.wav\n",
      "D:\\kagglehub\\datasets\\ejlok1\\toronto-emotional-speech-set-tess\\versions\\1\\TESS Toronto emotional speech set data\\OAF_Fear\\OAF_make_fear.wav\n",
      "D:\\kagglehub\\datasets\\ejlok1\\toronto-emotional-speech-set-tess\\versions\\1\\TESS Toronto emotional speech set data\\OAF_Fear\\OAF_match_fear.wav\n",
      "D:\\kagglehub\\datasets\\ejlok1\\toronto-emotional-speech-set-tess\\versions\\1\\TESS Toronto emotional speech set data\\OAF_Fear\\OAF_merge_fear.wav\n",
      "D:\\kagglehub\\datasets\\ejlok1\\toronto-emotional-speech-set-tess\\versions\\1\\TESS Toronto emotional speech set data\\OAF_Fear\\OAF_mess_fear.wav\n",
      "D:\\kagglehub\\datasets\\ejlok1\\toronto-emotional-speech-set-tess\\versions\\1\\TESS Toronto emotional speech set data\\OAF_Fear\\OAF_met_fear.wav\n",
      "D:\\kagglehub\\datasets\\ejlok1\\toronto-emotional-speech-set-tess\\versions\\1\\TESS Toronto emotional speech set data\\OAF_Fear\\OAF_mill_fear.wav\n",
      "D:\\kagglehub\\datasets\\ejlok1\\toronto-emotional-speech-set-tess\\versions\\1\\TESS Toronto emotional speech set data\\OAF_Fear\\OAF_mob_fear.wav\n",
      "D:\\kagglehub\\datasets\\ejlok1\\toronto-emotional-speech-set-tess\\versions\\1\\TESS Toronto emotional speech set data\\OAF_Fear\\OAF_mode_fear.wav\n",
      "D:\\kagglehub\\datasets\\ejlok1\\toronto-emotional-speech-set-tess\\versions\\1\\TESS Toronto emotional speech set data\\OAF_Fear\\OAF_mood_fear.wav\n",
      "D:\\kagglehub\\datasets\\ejlok1\\toronto-emotional-speech-set-tess\\versions\\1\\TESS Toronto emotional speech set data\\OAF_Fear\\OAF_moon_fear.wav\n",
      "D:\\kagglehub\\datasets\\ejlok1\\toronto-emotional-speech-set-tess\\versions\\1\\TESS Toronto emotional speech set data\\OAF_Fear\\OAF_mop_fear.wav\n",
      "D:\\kagglehub\\datasets\\ejlok1\\toronto-emotional-speech-set-tess\\versions\\1\\TESS Toronto emotional speech set data\\OAF_Fear\\OAF_mouse_fear.wav\n",
      "D:\\kagglehub\\datasets\\ejlok1\\toronto-emotional-speech-set-tess\\versions\\1\\TESS Toronto emotional speech set data\\OAF_Fear\\OAF_nag_fear.wav\n",
      "D:\\kagglehub\\datasets\\ejlok1\\toronto-emotional-speech-set-tess\\versions\\1\\TESS Toronto emotional speech set data\\OAF_Fear\\OAF_name_fear.wav\n",
      "D:\\kagglehub\\datasets\\ejlok1\\toronto-emotional-speech-set-tess\\versions\\1\\TESS Toronto emotional speech set data\\OAF_Fear\\OAF_near_fear.wav\n",
      "D:\\kagglehub\\datasets\\ejlok1\\toronto-emotional-speech-set-tess\\versions\\1\\TESS Toronto emotional speech set data\\OAF_Fear\\OAF_neat_fear.wav\n",
      "D:\\kagglehub\\datasets\\ejlok1\\toronto-emotional-speech-set-tess\\versions\\1\\TESS Toronto emotional speech set data\\OAF_Fear\\OAF_nice_fear.wav\n",
      "D:\\kagglehub\\datasets\\ejlok1\\toronto-emotional-speech-set-tess\\versions\\1\\TESS Toronto emotional speech set data\\OAF_Fear\\OAF_note_fear.wav\n",
      "D:\\kagglehub\\datasets\\ejlok1\\toronto-emotional-speech-set-tess\\versions\\1\\TESS Toronto emotional speech set data\\OAF_Fear\\OAF_numb_fear.wav\n",
      "D:\\kagglehub\\datasets\\ejlok1\\toronto-emotional-speech-set-tess\\versions\\1\\TESS Toronto emotional speech set data\\OAF_Fear\\OAF_pad_fear.wav\n",
      "D:\\kagglehub\\datasets\\ejlok1\\toronto-emotional-speech-set-tess\\versions\\1\\TESS Toronto emotional speech set data\\OAF_Fear\\OAF_page_fear.wav\n",
      "D:\\kagglehub\\datasets\\ejlok1\\toronto-emotional-speech-set-tess\\versions\\1\\TESS Toronto emotional speech set data\\OAF_Fear\\OAF_pain_fear.wav\n"
     ]
    },
    {
     "name": "stderr",
     "output_type": "stream",
     "text": [
      "C:\\Users\\NEW\\AppData\\Roaming\\Python\\Python311\\site-packages\\librosa\\core\\spectrum.py:266: UserWarning: n_fft=1024 is too large for input signal of length=527\n",
      "  warnings.warn(\n"
     ]
    },
    {
     "name": "stdout",
     "output_type": "stream",
     "text": [
      "D:\\kagglehub\\datasets\\ejlok1\\toronto-emotional-speech-set-tess\\versions\\1\\TESS Toronto emotional speech set data\\OAF_Fear\\OAF_pass_fear.wav\n",
      "D:\\kagglehub\\datasets\\ejlok1\\toronto-emotional-speech-set-tess\\versions\\1\\TESS Toronto emotional speech set data\\OAF_Fear\\OAF_pearl_fear.wav\n"
     ]
    },
    {
     "name": "stderr",
     "output_type": "stream",
     "text": [
      "C:\\Users\\NEW\\AppData\\Roaming\\Python\\Python311\\site-packages\\librosa\\core\\spectrum.py:266: UserWarning: n_fft=1024 is too large for input signal of length=1003\n",
      "  warnings.warn(\n",
      "C:\\Users\\NEW\\AppData\\Roaming\\Python\\Python311\\site-packages\\librosa\\core\\spectrum.py:266: UserWarning: n_fft=1024 is too large for input signal of length=502\n",
      "  warnings.warn(\n"
     ]
    },
    {
     "name": "stdout",
     "output_type": "stream",
     "text": [
      "D:\\kagglehub\\datasets\\ejlok1\\toronto-emotional-speech-set-tess\\versions\\1\\TESS Toronto emotional speech set data\\OAF_Fear\\OAF_peg_fear.wav\n",
      "D:\\kagglehub\\datasets\\ejlok1\\toronto-emotional-speech-set-tess\\versions\\1\\TESS Toronto emotional speech set data\\OAF_Fear\\OAF_perch_fear.wav\n",
      "D:\\kagglehub\\datasets\\ejlok1\\toronto-emotional-speech-set-tess\\versions\\1\\TESS Toronto emotional speech set data\\OAF_Fear\\OAF_phone_fear.wav\n",
      "D:\\kagglehub\\datasets\\ejlok1\\toronto-emotional-speech-set-tess\\versions\\1\\TESS Toronto emotional speech set data\\OAF_Fear\\OAF_pick_fear.wav\n",
      "D:\\kagglehub\\datasets\\ejlok1\\toronto-emotional-speech-set-tess\\versions\\1\\TESS Toronto emotional speech set data\\OAF_Fear\\OAF_pike_fear.wav\n",
      "D:\\kagglehub\\datasets\\ejlok1\\toronto-emotional-speech-set-tess\\versions\\1\\TESS Toronto emotional speech set data\\OAF_Fear\\OAF_pole_fear.wav\n",
      "D:\\kagglehub\\datasets\\ejlok1\\toronto-emotional-speech-set-tess\\versions\\1\\TESS Toronto emotional speech set data\\OAF_Fear\\OAF_pool_fear.wav\n"
     ]
    },
    {
     "name": "stderr",
     "output_type": "stream",
     "text": [
      "C:\\Users\\NEW\\AppData\\Roaming\\Python\\Python311\\site-packages\\librosa\\core\\spectrum.py:266: UserWarning: n_fft=1024 is too large for input signal of length=966\n",
      "  warnings.warn(\n",
      "C:\\Users\\NEW\\AppData\\Roaming\\Python\\Python311\\site-packages\\librosa\\core\\spectrum.py:266: UserWarning: n_fft=1024 is too large for input signal of length=483\n",
      "  warnings.warn(\n"
     ]
    },
    {
     "name": "stdout",
     "output_type": "stream",
     "text": [
      "D:\\kagglehub\\datasets\\ejlok1\\toronto-emotional-speech-set-tess\\versions\\1\\TESS Toronto emotional speech set data\\OAF_Fear\\OAF_puff_fear.wav\n",
      "D:\\kagglehub\\datasets\\ejlok1\\toronto-emotional-speech-set-tess\\versions\\1\\TESS Toronto emotional speech set data\\OAF_Fear\\OAF_rag_fear.wav\n",
      "D:\\kagglehub\\datasets\\ejlok1\\toronto-emotional-speech-set-tess\\versions\\1\\TESS Toronto emotional speech set data\\OAF_Fear\\OAF_raid_fear.wav\n",
      "D:\\kagglehub\\datasets\\ejlok1\\toronto-emotional-speech-set-tess\\versions\\1\\TESS Toronto emotional speech set data\\OAF_Fear\\OAF_rain_fear.wav\n"
     ]
    },
    {
     "name": "stderr",
     "output_type": "stream",
     "text": [
      "C:\\Users\\NEW\\AppData\\Roaming\\Python\\Python311\\site-packages\\librosa\\core\\spectrum.py:266: UserWarning: n_fft=1024 is too large for input signal of length=1017\n",
      "  warnings.warn(\n",
      "C:\\Users\\NEW\\AppData\\Roaming\\Python\\Python311\\site-packages\\librosa\\core\\spectrum.py:266: UserWarning: n_fft=1024 is too large for input signal of length=509\n",
      "  warnings.warn(\n"
     ]
    },
    {
     "name": "stdout",
     "output_type": "stream",
     "text": [
      "D:\\kagglehub\\datasets\\ejlok1\\toronto-emotional-speech-set-tess\\versions\\1\\TESS Toronto emotional speech set data\\OAF_Fear\\OAF_raise_fear.wav\n",
      "D:\\kagglehub\\datasets\\ejlok1\\toronto-emotional-speech-set-tess\\versions\\1\\TESS Toronto emotional speech set data\\OAF_Fear\\OAF_rat_fear.wav\n",
      "D:\\kagglehub\\datasets\\ejlok1\\toronto-emotional-speech-set-tess\\versions\\1\\TESS Toronto emotional speech set data\\OAF_Fear\\OAF_reach_fear.wav\n",
      "D:\\kagglehub\\datasets\\ejlok1\\toronto-emotional-speech-set-tess\\versions\\1\\TESS Toronto emotional speech set data\\OAF_Fear\\OAF_read_fear.wav\n",
      "D:\\kagglehub\\datasets\\ejlok1\\toronto-emotional-speech-set-tess\\versions\\1\\TESS Toronto emotional speech set data\\OAF_Fear\\OAF_red_fear.wav\n",
      "D:\\kagglehub\\datasets\\ejlok1\\toronto-emotional-speech-set-tess\\versions\\1\\TESS Toronto emotional speech set data\\OAF_Fear\\OAF_ring_fear.wav\n",
      "D:\\kagglehub\\datasets\\ejlok1\\toronto-emotional-speech-set-tess\\versions\\1\\TESS Toronto emotional speech set data\\OAF_Fear\\OAF_ripe_fear.wav\n",
      "D:\\kagglehub\\datasets\\ejlok1\\toronto-emotional-speech-set-tess\\versions\\1\\TESS Toronto emotional speech set data\\OAF_Fear\\OAF_road_fear.wav\n",
      "D:\\kagglehub\\datasets\\ejlok1\\toronto-emotional-speech-set-tess\\versions\\1\\TESS Toronto emotional speech set data\\OAF_Fear\\OAF_room_fear.wav\n",
      "D:\\kagglehub\\datasets\\ejlok1\\toronto-emotional-speech-set-tess\\versions\\1\\TESS Toronto emotional speech set data\\OAF_Fear\\OAF_rose_fear.wav\n",
      "D:\\kagglehub\\datasets\\ejlok1\\toronto-emotional-speech-set-tess\\versions\\1\\TESS Toronto emotional speech set data\\OAF_Fear\\OAF_rot_fear.wav\n",
      "D:\\kagglehub\\datasets\\ejlok1\\toronto-emotional-speech-set-tess\\versions\\1\\TESS Toronto emotional speech set data\\OAF_Fear\\OAF_rough_fear.wav\n",
      "D:\\kagglehub\\datasets\\ejlok1\\toronto-emotional-speech-set-tess\\versions\\1\\TESS Toronto emotional speech set data\\OAF_Fear\\OAF_rush_fear.wav\n",
      "D:\\kagglehub\\datasets\\ejlok1\\toronto-emotional-speech-set-tess\\versions\\1\\TESS Toronto emotional speech set data\\OAF_Fear\\OAF_said_fear.wav\n",
      "D:\\kagglehub\\datasets\\ejlok1\\toronto-emotional-speech-set-tess\\versions\\1\\TESS Toronto emotional speech set data\\OAF_Fear\\OAF_sail_fear.wav\n",
      "D:\\kagglehub\\datasets\\ejlok1\\toronto-emotional-speech-set-tess\\versions\\1\\TESS Toronto emotional speech set data\\OAF_Fear\\OAF_search_fear.wav\n",
      "D:\\kagglehub\\datasets\\ejlok1\\toronto-emotional-speech-set-tess\\versions\\1\\TESS Toronto emotional speech set data\\OAF_Fear\\OAF_seize_fear.wav\n",
      "D:\\kagglehub\\datasets\\ejlok1\\toronto-emotional-speech-set-tess\\versions\\1\\TESS Toronto emotional speech set data\\OAF_Fear\\OAF_sell_fear.wav\n",
      "D:\\kagglehub\\datasets\\ejlok1\\toronto-emotional-speech-set-tess\\versions\\1\\TESS Toronto emotional speech set data\\OAF_Fear\\OAF_shack_fear.wav\n",
      "D:\\kagglehub\\datasets\\ejlok1\\toronto-emotional-speech-set-tess\\versions\\1\\TESS Toronto emotional speech set data\\OAF_Fear\\OAF_shall_fear.wav\n"
     ]
    },
    {
     "name": "stderr",
     "output_type": "stream",
     "text": [
      "C:\\Users\\NEW\\AppData\\Roaming\\Python\\Python311\\site-packages\\librosa\\core\\spectrum.py:266: UserWarning: n_fft=1024 is too large for input signal of length=552\n",
      "  warnings.warn(\n"
     ]
    },
    {
     "name": "stdout",
     "output_type": "stream",
     "text": [
      "D:\\kagglehub\\datasets\\ejlok1\\toronto-emotional-speech-set-tess\\versions\\1\\TESS Toronto emotional speech set data\\OAF_Fear\\OAF_shawl_fear.wav\n",
      "D:\\kagglehub\\datasets\\ejlok1\\toronto-emotional-speech-set-tess\\versions\\1\\TESS Toronto emotional speech set data\\OAF_Fear\\OAF_sheep_fear.wav\n",
      "D:\\kagglehub\\datasets\\ejlok1\\toronto-emotional-speech-set-tess\\versions\\1\\TESS Toronto emotional speech set data\\OAF_Fear\\OAF_shirt_fear.wav\n",
      "D:\\kagglehub\\datasets\\ejlok1\\toronto-emotional-speech-set-tess\\versions\\1\\TESS Toronto emotional speech set data\\OAF_Fear\\OAF_should_fear.wav\n",
      "D:\\kagglehub\\datasets\\ejlok1\\toronto-emotional-speech-set-tess\\versions\\1\\TESS Toronto emotional speech set data\\OAF_Fear\\OAF_shout_fear.wav\n",
      "D:\\kagglehub\\datasets\\ejlok1\\toronto-emotional-speech-set-tess\\versions\\1\\TESS Toronto emotional speech set data\\OAF_Fear\\OAF_size_fear.wav\n",
      "D:\\kagglehub\\datasets\\ejlok1\\toronto-emotional-speech-set-tess\\versions\\1\\TESS Toronto emotional speech set data\\OAF_Fear\\OAF_soap_fear.wav\n",
      "D:\\kagglehub\\datasets\\ejlok1\\toronto-emotional-speech-set-tess\\versions\\1\\TESS Toronto emotional speech set data\\OAF_Fear\\OAF_soup_fear.wav\n"
     ]
    },
    {
     "name": "stderr",
     "output_type": "stream",
     "text": [
      "C:\\Users\\NEW\\AppData\\Roaming\\Python\\Python311\\site-packages\\librosa\\core\\spectrum.py:266: UserWarning: n_fft=1024 is too large for input signal of length=578\n",
      "  warnings.warn(\n"
     ]
    },
    {
     "name": "stdout",
     "output_type": "stream",
     "text": [
      "D:\\kagglehub\\datasets\\ejlok1\\toronto-emotional-speech-set-tess\\versions\\1\\TESS Toronto emotional speech set data\\OAF_Fear\\OAF_sour_fear.wav\n",
      "D:\\kagglehub\\datasets\\ejlok1\\toronto-emotional-speech-set-tess\\versions\\1\\TESS Toronto emotional speech set data\\OAF_Fear\\OAF_south_fear.wav\n",
      "D:\\kagglehub\\datasets\\ejlok1\\toronto-emotional-speech-set-tess\\versions\\1\\TESS Toronto emotional speech set data\\OAF_Fear\\OAF_sub_fear.wav\n",
      "D:\\kagglehub\\datasets\\ejlok1\\toronto-emotional-speech-set-tess\\versions\\1\\TESS Toronto emotional speech set data\\OAF_Fear\\OAF_such_fear.wav\n",
      "D:\\kagglehub\\datasets\\ejlok1\\toronto-emotional-speech-set-tess\\versions\\1\\TESS Toronto emotional speech set data\\OAF_Fear\\OAF_sure_fear.wav\n"
     ]
    },
    {
     "name": "stderr",
     "output_type": "stream",
     "text": [
      "C:\\Users\\NEW\\AppData\\Roaming\\Python\\Python311\\site-packages\\librosa\\core\\spectrum.py:266: UserWarning: n_fft=1024 is too large for input signal of length=998\n",
      "  warnings.warn(\n",
      "C:\\Users\\NEW\\AppData\\Roaming\\Python\\Python311\\site-packages\\librosa\\core\\spectrum.py:266: UserWarning: n_fft=1024 is too large for input signal of length=499\n",
      "  warnings.warn(\n"
     ]
    },
    {
     "name": "stdout",
     "output_type": "stream",
     "text": [
      "D:\\kagglehub\\datasets\\ejlok1\\toronto-emotional-speech-set-tess\\versions\\1\\TESS Toronto emotional speech set data\\OAF_Fear\\OAF_take_fear.wav\n",
      "D:\\kagglehub\\datasets\\ejlok1\\toronto-emotional-speech-set-tess\\versions\\1\\TESS Toronto emotional speech set data\\OAF_Fear\\OAF_talk_fear.wav\n",
      "D:\\kagglehub\\datasets\\ejlok1\\toronto-emotional-speech-set-tess\\versions\\1\\TESS Toronto emotional speech set data\\OAF_Fear\\OAF_tape_fear.wav\n",
      "D:\\kagglehub\\datasets\\ejlok1\\toronto-emotional-speech-set-tess\\versions\\1\\TESS Toronto emotional speech set data\\OAF_Fear\\OAF_team_fear.wav\n",
      "D:\\kagglehub\\datasets\\ejlok1\\toronto-emotional-speech-set-tess\\versions\\1\\TESS Toronto emotional speech set data\\OAF_Fear\\OAF_tell_fear.wav\n",
      "D:\\kagglehub\\datasets\\ejlok1\\toronto-emotional-speech-set-tess\\versions\\1\\TESS Toronto emotional speech set data\\OAF_Fear\\OAF_thin_fear.wav\n",
      "D:\\kagglehub\\datasets\\ejlok1\\toronto-emotional-speech-set-tess\\versions\\1\\TESS Toronto emotional speech set data\\OAF_Fear\\OAF_third_fear.wav\n"
     ]
    },
    {
     "name": "stderr",
     "output_type": "stream",
     "text": [
      "C:\\Users\\NEW\\AppData\\Roaming\\Python\\Python311\\site-packages\\librosa\\core\\spectrum.py:266: UserWarning: n_fft=1024 is too large for input signal of length=530\n",
      "  warnings.warn(\n"
     ]
    },
    {
     "name": "stdout",
     "output_type": "stream",
     "text": [
      "D:\\kagglehub\\datasets\\ejlok1\\toronto-emotional-speech-set-tess\\versions\\1\\TESS Toronto emotional speech set data\\OAF_Fear\\OAF_thought_fear.wav\n",
      "D:\\kagglehub\\datasets\\ejlok1\\toronto-emotional-speech-set-tess\\versions\\1\\TESS Toronto emotional speech set data\\OAF_Fear\\OAF_thumb_fear.wav\n",
      "D:\\kagglehub\\datasets\\ejlok1\\toronto-emotional-speech-set-tess\\versions\\1\\TESS Toronto emotional speech set data\\OAF_Fear\\OAF_time_fear.wav\n"
     ]
    },
    {
     "name": "stderr",
     "output_type": "stream",
     "text": [
      "C:\\Users\\NEW\\AppData\\Roaming\\Python\\Python311\\site-packages\\librosa\\core\\spectrum.py:266: UserWarning: n_fft=1024 is too large for input signal of length=964\n",
      "  warnings.warn(\n",
      "C:\\Users\\NEW\\AppData\\Roaming\\Python\\Python311\\site-packages\\librosa\\core\\spectrum.py:266: UserWarning: n_fft=1024 is too large for input signal of length=482\n",
      "  warnings.warn(\n"
     ]
    },
    {
     "name": "stdout",
     "output_type": "stream",
     "text": [
      "D:\\kagglehub\\datasets\\ejlok1\\toronto-emotional-speech-set-tess\\versions\\1\\TESS Toronto emotional speech set data\\OAF_Fear\\OAF_tip_fear.wav\n"
     ]
    },
    {
     "name": "stderr",
     "output_type": "stream",
     "text": [
      "C:\\Users\\NEW\\AppData\\Roaming\\Python\\Python311\\site-packages\\librosa\\core\\spectrum.py:266: UserWarning: n_fft=1024 is too large for input signal of length=544\n",
      "  warnings.warn(\n"
     ]
    },
    {
     "name": "stdout",
     "output_type": "stream",
     "text": [
      "D:\\kagglehub\\datasets\\ejlok1\\toronto-emotional-speech-set-tess\\versions\\1\\TESS Toronto emotional speech set data\\OAF_Fear\\OAF_tire_fear.wav\n"
     ]
    },
    {
     "name": "stderr",
     "output_type": "stream",
     "text": [
      "C:\\Users\\NEW\\AppData\\Roaming\\Python\\Python311\\site-packages\\librosa\\core\\spectrum.py:266: UserWarning: n_fft=1024 is too large for input signal of length=955\n",
      "  warnings.warn(\n"
     ]
    },
    {
     "name": "stdout",
     "output_type": "stream",
     "text": [
      "D:\\kagglehub\\datasets\\ejlok1\\toronto-emotional-speech-set-tess\\versions\\1\\TESS Toronto emotional speech set data\\OAF_Fear\\OAF_ton_fear.wav\n"
     ]
    },
    {
     "name": "stderr",
     "output_type": "stream",
     "text": [
      "C:\\Users\\NEW\\AppData\\Roaming\\Python\\Python311\\site-packages\\librosa\\core\\spectrum.py:266: UserWarning: n_fft=1024 is too large for input signal of length=519\n",
      "  warnings.warn(\n"
     ]
    },
    {
     "name": "stdout",
     "output_type": "stream",
     "text": [
      "D:\\kagglehub\\datasets\\ejlok1\\toronto-emotional-speech-set-tess\\versions\\1\\TESS Toronto emotional speech set data\\OAF_Fear\\OAF_tool_fear.wav\n",
      "D:\\kagglehub\\datasets\\ejlok1\\toronto-emotional-speech-set-tess\\versions\\1\\TESS Toronto emotional speech set data\\OAF_Fear\\OAF_tough_fear.wav\n",
      "D:\\kagglehub\\datasets\\ejlok1\\toronto-emotional-speech-set-tess\\versions\\1\\TESS Toronto emotional speech set data\\OAF_Fear\\OAF_turn_fear.wav\n",
      "D:\\kagglehub\\datasets\\ejlok1\\toronto-emotional-speech-set-tess\\versions\\1\\TESS Toronto emotional speech set data\\OAF_Fear\\OAF_vine_fear.wav\n",
      "D:\\kagglehub\\datasets\\ejlok1\\toronto-emotional-speech-set-tess\\versions\\1\\TESS Toronto emotional speech set data\\OAF_Fear\\OAF_voice_fear.wav\n",
      "D:\\kagglehub\\datasets\\ejlok1\\toronto-emotional-speech-set-tess\\versions\\1\\TESS Toronto emotional speech set data\\OAF_Fear\\OAF_void_fear.wav\n",
      "D:\\kagglehub\\datasets\\ejlok1\\toronto-emotional-speech-set-tess\\versions\\1\\TESS Toronto emotional speech set data\\OAF_Fear\\OAF_vote_fear.wav\n",
      "D:\\kagglehub\\datasets\\ejlok1\\toronto-emotional-speech-set-tess\\versions\\1\\TESS Toronto emotional speech set data\\OAF_Fear\\OAF_wag_fear.wav\n",
      "D:\\kagglehub\\datasets\\ejlok1\\toronto-emotional-speech-set-tess\\versions\\1\\TESS Toronto emotional speech set data\\OAF_Fear\\OAF_walk_fear.wav\n",
      "D:\\kagglehub\\datasets\\ejlok1\\toronto-emotional-speech-set-tess\\versions\\1\\TESS Toronto emotional speech set data\\OAF_Fear\\OAF_wash_fear.wav\n",
      "D:\\kagglehub\\datasets\\ejlok1\\toronto-emotional-speech-set-tess\\versions\\1\\TESS Toronto emotional speech set data\\OAF_Fear\\OAF_week_fear.wav\n",
      "D:\\kagglehub\\datasets\\ejlok1\\toronto-emotional-speech-set-tess\\versions\\1\\TESS Toronto emotional speech set data\\OAF_Fear\\OAF_wheat_fear.wav\n",
      "D:\\kagglehub\\datasets\\ejlok1\\toronto-emotional-speech-set-tess\\versions\\1\\TESS Toronto emotional speech set data\\OAF_Fear\\OAF_when_fear.wav\n",
      "D:\\kagglehub\\datasets\\ejlok1\\toronto-emotional-speech-set-tess\\versions\\1\\TESS Toronto emotional speech set data\\OAF_Fear\\OAF_which_fear.wav\n",
      "D:\\kagglehub\\datasets\\ejlok1\\toronto-emotional-speech-set-tess\\versions\\1\\TESS Toronto emotional speech set data\\OAF_Fear\\OAF_whip_fear.wav\n",
      "D:\\kagglehub\\datasets\\ejlok1\\toronto-emotional-speech-set-tess\\versions\\1\\TESS Toronto emotional speech set data\\OAF_Fear\\OAF_white_fear.wav\n",
      "D:\\kagglehub\\datasets\\ejlok1\\toronto-emotional-speech-set-tess\\versions\\1\\TESS Toronto emotional speech set data\\OAF_Fear\\OAF_wife_fear.wav\n",
      "D:\\kagglehub\\datasets\\ejlok1\\toronto-emotional-speech-set-tess\\versions\\1\\TESS Toronto emotional speech set data\\OAF_Fear\\OAF_wire_fear.wav\n",
      "D:\\kagglehub\\datasets\\ejlok1\\toronto-emotional-speech-set-tess\\versions\\1\\TESS Toronto emotional speech set data\\OAF_Fear\\OAF_witch_fear.wav\n",
      "D:\\kagglehub\\datasets\\ejlok1\\toronto-emotional-speech-set-tess\\versions\\1\\TESS Toronto emotional speech set data\\OAF_Fear\\OAF_yearn_fear.wav\n",
      "D:\\kagglehub\\datasets\\ejlok1\\toronto-emotional-speech-set-tess\\versions\\1\\TESS Toronto emotional speech set data\\OAF_Fear\\OAF_yes_fear.wav\n",
      "D:\\kagglehub\\datasets\\ejlok1\\toronto-emotional-speech-set-tess\\versions\\1\\TESS Toronto emotional speech set data\\OAF_Fear\\OAF_young_fear.wav\n",
      "D:\\kagglehub\\datasets\\ejlok1\\toronto-emotional-speech-set-tess\\versions\\1\\TESS Toronto emotional speech set data\\OAF_Fear\\OAF_youth_fear.wav\n",
      "D:\\kagglehub\\datasets\\ejlok1\\toronto-emotional-speech-set-tess\\versions\\1\\TESS Toronto emotional speech set data\\OAF_happy\\OAF_back_happy.wav\n"
     ]
    },
    {
     "name": "stderr",
     "output_type": "stream",
     "text": [
      "C:\\Users\\NEW\\AppData\\Roaming\\Python\\Python311\\site-packages\\librosa\\core\\spectrum.py:266: UserWarning: n_fft=1024 is too large for input signal of length=592\n",
      "  warnings.warn(\n"
     ]
    },
    {
     "name": "stdout",
     "output_type": "stream",
     "text": [
      "D:\\kagglehub\\datasets\\ejlok1\\toronto-emotional-speech-set-tess\\versions\\1\\TESS Toronto emotional speech set data\\OAF_happy\\OAF_bar_happy.wav\n",
      "D:\\kagglehub\\datasets\\ejlok1\\toronto-emotional-speech-set-tess\\versions\\1\\TESS Toronto emotional speech set data\\OAF_happy\\OAF_base_happy.wav\n"
     ]
    },
    {
     "name": "stderr",
     "output_type": "stream",
     "text": [
      "C:\\Users\\NEW\\AppData\\Roaming\\Python\\Python311\\site-packages\\librosa\\core\\spectrum.py:266: UserWarning: n_fft=1024 is too large for input signal of length=584\n",
      "  warnings.warn(\n"
     ]
    },
    {
     "name": "stdout",
     "output_type": "stream",
     "text": [
      "D:\\kagglehub\\datasets\\ejlok1\\toronto-emotional-speech-set-tess\\versions\\1\\TESS Toronto emotional speech set data\\OAF_happy\\OAF_bath_happy.wav\n",
      "D:\\kagglehub\\datasets\\ejlok1\\toronto-emotional-speech-set-tess\\versions\\1\\TESS Toronto emotional speech set data\\OAF_happy\\OAF_bean_happy.wav\n"
     ]
    },
    {
     "name": "stderr",
     "output_type": "stream",
     "text": [
      "C:\\Users\\NEW\\AppData\\Roaming\\Python\\Python311\\site-packages\\librosa\\core\\spectrum.py:266: UserWarning: n_fft=1024 is too large for input signal of length=560\n",
      "  warnings.warn(\n"
     ]
    },
    {
     "name": "stdout",
     "output_type": "stream",
     "text": [
      "D:\\kagglehub\\datasets\\ejlok1\\toronto-emotional-speech-set-tess\\versions\\1\\TESS Toronto emotional speech set data\\OAF_happy\\OAF_beg_happy.wav\n"
     ]
    }
   ],
   "source": [
    "\n",
    "base_path = r'D:\\kagglehub\\datasets\\ejlok1\\toronto-emotional-speech-set-tess\\versions\\1\\TESS Toronto emotional speech set data'\n",
    "\n",
    "data = []\n",
    "labels = []\n",
    "for folder_name in os.listdir(base_path):\n",
    "    folder_path = os.path.join(base_path, folder_name)  # Construct folder path\n",
    "    # Check if the path is a directory\n",
    "    if os.path.isdir(folder_path):\n",
    "        # Find all .wav files in the folder\n",
    "        for file_path in glob.glob(os.path.join(folder_path, '*.wav')):\n",
    "            print(file_path)  # Print the file path for debugging/monitoring\n",
    "            features = extract_features(file_path)  # Extract features (assumes extract_features is defined)\n",
    "            data.append(features)  # Append features to the data list\n",
    "            labels.append(folder_name) "
   ]
  },
  {
   "cell_type": "markdown",
   "id": "40a2b840",
   "metadata": {},
   "source": [
    "## CREATING LSTM MODEL"
   ]
  },
  {
   "cell_type": "code",
   "execution_count": 4,
   "id": "15476c07",
   "metadata": {
    "scrolled": true
   },
   "outputs": [
    {
     "name": "stdout",
     "output_type": "stream",
     "text": [
      "Epoch 1/50\n",
      "70/70 [==============================] - 5s 21ms/step - loss: 2.5993 - accuracy: 0.1174 - val_loss: 2.3901 - val_accuracy: 0.4482\n",
      "Epoch 2/50\n",
      "70/70 [==============================] - 0s 5ms/step - loss: 2.0795 - accuracy: 0.3004 - val_loss: 1.5551 - val_accuracy: 0.4964\n",
      "Epoch 3/50\n",
      "70/70 [==============================] - 0s 5ms/step - loss: 1.4638 - accuracy: 0.4821 - val_loss: 1.0336 - val_accuracy: 0.7500\n",
      "Epoch 4/50\n",
      "70/70 [==============================] - 0s 5ms/step - loss: 1.1184 - accuracy: 0.5942 - val_loss: 0.7762 - val_accuracy: 0.7929\n",
      "Epoch 5/50\n",
      "70/70 [==============================] - 0s 5ms/step - loss: 0.9074 - accuracy: 0.6795 - val_loss: 0.6146 - val_accuracy: 0.8429\n",
      "Epoch 6/50\n",
      "70/70 [==============================] - 0s 6ms/step - loss: 0.7665 - accuracy: 0.7286 - val_loss: 0.5202 - val_accuracy: 0.8411\n",
      "Epoch 7/50\n",
      "70/70 [==============================] - 0s 6ms/step - loss: 0.6844 - accuracy: 0.7621 - val_loss: 0.4381 - val_accuracy: 0.9018\n",
      "Epoch 8/50\n",
      "70/70 [==============================] - 0s 6ms/step - loss: 0.6190 - accuracy: 0.7835 - val_loss: 0.3880 - val_accuracy: 0.9125\n",
      "Epoch 9/50\n",
      "70/70 [==============================] - 0s 6ms/step - loss: 0.5401 - accuracy: 0.8076 - val_loss: 0.3426 - val_accuracy: 0.9179\n",
      "Epoch 10/50\n",
      "70/70 [==============================] - 1s 14ms/step - loss: 0.4777 - accuracy: 0.8353 - val_loss: 0.3243 - val_accuracy: 0.9161\n",
      "Epoch 11/50\n",
      "70/70 [==============================] - 1s 17ms/step - loss: 0.4556 - accuracy: 0.8446 - val_loss: 0.3136 - val_accuracy: 0.9089\n",
      "Epoch 12/50\n",
      "70/70 [==============================] - 1s 14ms/step - loss: 0.4214 - accuracy: 0.8562 - val_loss: 0.2591 - val_accuracy: 0.9339\n",
      "Epoch 13/50\n",
      "70/70 [==============================] - 1s 12ms/step - loss: 0.3914 - accuracy: 0.8652 - val_loss: 0.2447 - val_accuracy: 0.9304\n",
      "Epoch 14/50\n",
      "70/70 [==============================] - 1s 8ms/step - loss: 0.3676 - accuracy: 0.8732 - val_loss: 0.2495 - val_accuracy: 0.9232\n",
      "Epoch 15/50\n",
      "70/70 [==============================] - 0s 7ms/step - loss: 0.3418 - accuracy: 0.8795 - val_loss: 0.2107 - val_accuracy: 0.9429\n",
      "Epoch 16/50\n",
      "70/70 [==============================] - 1s 7ms/step - loss: 0.3290 - accuracy: 0.8866 - val_loss: 0.2263 - val_accuracy: 0.9411\n",
      "Epoch 17/50\n",
      "70/70 [==============================] - 0s 7ms/step - loss: 0.3073 - accuracy: 0.8884 - val_loss: 0.1935 - val_accuracy: 0.9411\n",
      "Epoch 18/50\n",
      "70/70 [==============================] - 0s 7ms/step - loss: 0.2941 - accuracy: 0.9018 - val_loss: 0.1796 - val_accuracy: 0.9500\n",
      "Epoch 19/50\n",
      "70/70 [==============================] - 0s 7ms/step - loss: 0.2760 - accuracy: 0.9054 - val_loss: 0.1784 - val_accuracy: 0.9500\n",
      "Epoch 20/50\n",
      "70/70 [==============================] - 1s 10ms/step - loss: 0.2777 - accuracy: 0.9040 - val_loss: 0.1882 - val_accuracy: 0.9357\n",
      "Epoch 21/50\n",
      "70/70 [==============================] - 1s 7ms/step - loss: 0.2615 - accuracy: 0.9196 - val_loss: 0.1696 - val_accuracy: 0.9554\n",
      "Epoch 22/50\n",
      "70/70 [==============================] - 0s 7ms/step - loss: 0.2677 - accuracy: 0.9067 - val_loss: 0.1707 - val_accuracy: 0.9411\n",
      "Epoch 23/50\n",
      "70/70 [==============================] - 0s 7ms/step - loss: 0.2435 - accuracy: 0.9214 - val_loss: 0.1697 - val_accuracy: 0.9554\n",
      "Epoch 24/50\n",
      "70/70 [==============================] - 0s 6ms/step - loss: 0.2419 - accuracy: 0.9174 - val_loss: 0.1543 - val_accuracy: 0.9518\n",
      "Epoch 25/50\n",
      "70/70 [==============================] - 0s 5ms/step - loss: 0.2338 - accuracy: 0.9214 - val_loss: 0.1699 - val_accuracy: 0.9411\n",
      "Epoch 26/50\n",
      "70/70 [==============================] - 0s 6ms/step - loss: 0.2189 - accuracy: 0.9237 - val_loss: 0.1515 - val_accuracy: 0.9518\n",
      "Epoch 27/50\n",
      "70/70 [==============================] - 0s 6ms/step - loss: 0.2127 - accuracy: 0.9246 - val_loss: 0.1497 - val_accuracy: 0.9518\n",
      "Epoch 28/50\n",
      "70/70 [==============================] - 0s 6ms/step - loss: 0.2271 - accuracy: 0.9161 - val_loss: 0.1590 - val_accuracy: 0.9518\n",
      "Epoch 29/50\n",
      "70/70 [==============================] - 0s 6ms/step - loss: 0.1967 - accuracy: 0.9353 - val_loss: 0.1353 - val_accuracy: 0.9607\n",
      "Epoch 30/50\n",
      "70/70 [==============================] - 0s 6ms/step - loss: 0.2124 - accuracy: 0.9246 - val_loss: 0.1541 - val_accuracy: 0.9518\n",
      "Epoch 31/50\n",
      "70/70 [==============================] - 0s 6ms/step - loss: 0.2056 - accuracy: 0.9308 - val_loss: 0.1437 - val_accuracy: 0.9536\n",
      "Epoch 32/50\n",
      "70/70 [==============================] - 0s 6ms/step - loss: 0.1809 - accuracy: 0.9429 - val_loss: 0.1525 - val_accuracy: 0.9464\n",
      "Epoch 33/50\n",
      "70/70 [==============================] - 0s 7ms/step - loss: 0.1972 - accuracy: 0.9330 - val_loss: 0.1624 - val_accuracy: 0.9411\n",
      "Epoch 34/50\n",
      "70/70 [==============================] - 0s 6ms/step - loss: 0.1834 - accuracy: 0.9353 - val_loss: 0.1309 - val_accuracy: 0.9661\n",
      "Epoch 35/50\n",
      "70/70 [==============================] - 0s 7ms/step - loss: 0.1842 - accuracy: 0.9393 - val_loss: 0.1433 - val_accuracy: 0.9589\n",
      "Epoch 36/50\n",
      "70/70 [==============================] - 0s 6ms/step - loss: 0.1895 - accuracy: 0.9312 - val_loss: 0.1379 - val_accuracy: 0.9554\n",
      "Epoch 37/50\n",
      "70/70 [==============================] - 0s 6ms/step - loss: 0.1927 - accuracy: 0.9321 - val_loss: 0.1225 - val_accuracy: 0.9643\n",
      "Epoch 38/50\n",
      "70/70 [==============================] - 0s 6ms/step - loss: 0.1820 - accuracy: 0.9384 - val_loss: 0.1501 - val_accuracy: 0.9536\n",
      "Epoch 39/50\n",
      "70/70 [==============================] - 0s 6ms/step - loss: 0.1865 - accuracy: 0.9371 - val_loss: 0.1135 - val_accuracy: 0.9625\n",
      "Epoch 40/50\n",
      "70/70 [==============================] - 0s 6ms/step - loss: 0.1430 - accuracy: 0.9554 - val_loss: 0.1367 - val_accuracy: 0.9554\n",
      "Epoch 41/50\n",
      "70/70 [==============================] - 0s 6ms/step - loss: 0.1686 - accuracy: 0.9442 - val_loss: 0.1210 - val_accuracy: 0.9625\n",
      "Epoch 42/50\n",
      "70/70 [==============================] - 0s 6ms/step - loss: 0.1642 - accuracy: 0.9460 - val_loss: 0.1227 - val_accuracy: 0.9607\n",
      "Epoch 43/50\n",
      "70/70 [==============================] - 0s 6ms/step - loss: 0.1578 - accuracy: 0.9429 - val_loss: 0.1339 - val_accuracy: 0.9536\n",
      "Epoch 44/50\n",
      "70/70 [==============================] - 0s 6ms/step - loss: 0.1570 - accuracy: 0.9455 - val_loss: 0.1207 - val_accuracy: 0.9625\n",
      "Epoch 45/50\n",
      "70/70 [==============================] - 0s 6ms/step - loss: 0.1477 - accuracy: 0.9491 - val_loss: 0.1089 - val_accuracy: 0.9643\n",
      "Epoch 46/50\n",
      "70/70 [==============================] - 0s 6ms/step - loss: 0.1438 - accuracy: 0.9527 - val_loss: 0.1190 - val_accuracy: 0.9589\n",
      "Epoch 47/50\n",
      "70/70 [==============================] - 0s 6ms/step - loss: 0.1680 - accuracy: 0.9411 - val_loss: 0.1158 - val_accuracy: 0.9679\n",
      "Epoch 48/50\n",
      "70/70 [==============================] - 0s 6ms/step - loss: 0.1455 - accuracy: 0.9487 - val_loss: 0.1176 - val_accuracy: 0.9607\n",
      "Epoch 49/50\n",
      "70/70 [==============================] - 0s 6ms/step - loss: 0.1549 - accuracy: 0.9487 - val_loss: 0.1036 - val_accuracy: 0.9714\n",
      "Epoch 50/50\n",
      "70/70 [==============================] - 0s 6ms/step - loss: 0.1538 - accuracy: 0.9464 - val_loss: 0.1195 - val_accuracy: 0.9571\n"
     ]
    },
    {
     "data": {
      "text/plain": [
       "<keras.src.callbacks.History at 0x2b547841c10>"
      ]
     },
     "execution_count": 4,
     "metadata": {},
     "output_type": "execute_result"
    }
   ],
   "source": [
    "# Ensure that the labels are correctly encoded as integers\n",
    "label_encoder = LabelEncoder()\n",
    "labels_encoded = label_encoder.fit_transform(labels)\n",
    "\n",
    "# Split data into training and testing sets\n",
    "X_train, X_test, y_train, y_test = train_test_split(data, labels_encoded, test_size=0.2, random_state=42)\n",
    "\n",
    "# Reshaping input data for LSTM (ensure the shape is (samples, time_steps, features))\n",
    "X_train = np.array(X_train)[:, np.newaxis, :]\n",
    "X_test = np.array(X_test)[:, np.newaxis, :]\n",
    "\n",
    "# Define the model\n",
    "model = Sequential()\n",
    "model.add(TimeDistributed(Dense(256, activation='relu'), input_shape=(1, X_train.shape[2])))\n",
    "model.add(Dropout(0.5))\n",
    "model.add(LSTM(128))\n",
    "model.add(Dropout(0.5))\n",
    "model.add(Dense(len(label_encoder.classes_), activation='softmax'))\n",
    "\n",
    "# Compile the model\n",
    "model.compile(loss='sparse_categorical_crossentropy', optimizer='adam', metrics=['accuracy',])\n",
    "\n",
    "# Train the model\n",
    "model.fit(X_train, y_train, epochs=50, batch_size=32, validation_data=(X_test, y_test))\n",
    "\n"
   ]
  },
  {
   "cell_type": "markdown",
   "id": "92a39386",
   "metadata": {},
   "source": [
    "## MODEL SUMMARY"
   ]
  },
  {
   "cell_type": "code",
   "execution_count": 5,
   "id": "463edd9f",
   "metadata": {},
   "outputs": [
    {
     "name": "stdout",
     "output_type": "stream",
     "text": [
      "Model: \"sequential\"\n",
      "_________________________________________________________________\n",
      " Layer (type)                Output Shape              Param #   \n",
      "=================================================================\n",
      " time_distributed (TimeDist  (None, 1, 256)            43264     \n",
      " ributed)                                                        \n",
      "                                                                 \n",
      " dropout (Dropout)           (None, 1, 256)            0         \n",
      "                                                                 \n",
      " lstm (LSTM)                 (None, 128)               197120    \n",
      "                                                                 \n",
      " dropout_1 (Dropout)         (None, 128)               0         \n",
      "                                                                 \n",
      " dense_1 (Dense)             (None, 14)                1806      \n",
      "                                                                 \n",
      "=================================================================\n",
      "Total params: 242190 (946.05 KB)\n",
      "Trainable params: 242190 (946.05 KB)\n",
      "Non-trainable params: 0 (0.00 Byte)\n",
      "_________________________________________________________________\n"
     ]
    }
   ],
   "source": [
    "# Model summary\n",
    "model.summary()"
   ]
  },
  {
   "cell_type": "markdown",
   "id": "d4048aca",
   "metadata": {},
   "source": [
    "## EVALUATING MODEL PERFORMANCE"
   ]
  },
  {
   "cell_type": "code",
   "execution_count": 6,
   "id": "f8b913dc",
   "metadata": {},
   "outputs": [
    {
     "name": "stdout",
     "output_type": "stream",
     "text": [
      "18/18 [==============================] - 0s 2ms/step - loss: 0.1195 - accuracy: 0.9571\n",
      "Test Loss: 0.11948093771934509\n",
      "Test Accuracy: 0.9571428298950195\n",
      "18/18 [==============================] - 1s 3ms/step\n",
      "Precision = 0.9591\n",
      "Recall = 0.9584\n"
     ]
    }
   ],
   "source": [
    "\n",
    "loss, accuracy = model.evaluate(X_test, y_test)\n",
    "print(f\"Test Loss: {loss}\")\n",
    "print(f\"Test Accuracy: {accuracy}\")\n",
    "\n",
    "y_pred = np.argmax(model.predict(X_test), axis=-1)  # Get predicted class labels\n",
    "\n",
    "# Calculate Precision and Recall manually\n",
    "precision = precision_score(y_test, y_pred, average='macro')\n",
    "recall = recall_score(y_test, y_pred, average='macro')\n",
    "\n",
    "# Print Precision and Recall\n",
    "print(f\"Precision = {precision:.4f}\")\n",
    "print(f\"Recall = {recall:.4f}\")\n",
    "\n"
   ]
  },
  {
   "cell_type": "markdown",
   "id": "ccaa2d1b",
   "metadata": {},
   "source": [
    "## CREATING EMOTION PREDICTION FUNCTION"
   ]
  },
  {
   "cell_type": "code",
   "execution_count": 7,
   "id": "a1e88bbe",
   "metadata": {},
   "outputs": [],
   "source": [
    "def predict_emotion(audio_file):\n",
    "    features = extract_features(audio_file)\n",
    "    features = features[np.newaxis, np.newaxis, :]  \n",
    "    print(\"Features shape:\", features.shape)\n",
    "    print(\"Features:\", features)\n",
    "\n",
    "    predicted_probabilities = model.predict(features)\n",
    "    print(\"Predicted probabilities shape:\", predicted_probabilities.shape)\n",
    "    print(\"Predicted probabilities:\", predicted_probabilities)\n",
    "\n",
    "    predicted_label_index = np.argmax(predicted_probabilities)\n",
    "    print(\"Predicted label index:\", predicted_label_index)\n",
    "\n",
    "    predicted_emotion = label_encoder.classes_[predicted_label_index]\n",
    "    print(\"Predicted emotion:\", predicted_emotion)\n",
    "\n",
    "    # Emotion mapping for TESS dataset\n",
    "    \n",
    "    emotion_mapping = {\n",
    "        'YAF_angry': 'ANGRY',\n",
    "        'YAF_disgust': 'DISGUST',\n",
    "        'YAF_fear': 'FEAR',\n",
    "        'YAF_happy': 'HAPPY',\n",
    "        'YAF_neutral': 'NEUTRAL',\n",
    "        'YAF_pleasant_surprised': 'SURPRISED',\n",
    "        'YAF_sad': 'SAD',\n",
    "        'OAF_angry': 'ANGRY',\n",
    "        'OAF_disgust': 'DISGUST',\n",
    "        'OAF_Fear': 'FEAR',\n",
    "        'OAF_happy': 'HAPPY',\n",
    "        'OAF_neutral': 'NEUTRAL',\n",
    "        'OAF_Pleasant_surprised': 'SURPRISED',\n",
    "        'OAF_Sad': 'SAD',\n",
    "    }\n",
    "\n",
    "\n",
    "    recognizable_emotion = emotion_mapping.get(predicted_emotion)\n",
    "    return recognizable_emotion\n"
   ]
  },
  {
   "cell_type": "markdown",
   "id": "c9e1ad1b",
   "metadata": {},
   "source": [
    "## SAVING THE MODEL"
   ]
  },
  {
   "cell_type": "code",
   "execution_count": 7,
   "id": "0c6e5cf0",
   "metadata": {},
   "outputs": [
    {
     "name": "stderr",
     "output_type": "stream",
     "text": [
      "C:\\Users\\NEW\\AppData\\Roaming\\Python\\Python311\\site-packages\\keras\\src\\engine\\training.py:3000: UserWarning: You are saving your model as an HDF5 file via `model.save()`. This file format is considered legacy. We recommend using instead the native Keras format, e.g. `model.save('my_model.keras')`.\n",
      "  saving_api.save_model(\n"
     ]
    }
   ],
   "source": [
    "model.save(\"ERM.h5\")"
   ]
  },
  {
   "cell_type": "markdown",
   "id": "1fd64067",
   "metadata": {},
   "source": [
    "## THANK YOU"
   ]
  }
 ],
 "metadata": {
  "kernelspec": {
   "display_name": "Python 3",
   "language": "python",
   "name": "python3"
  },
  "language_info": {
   "codemirror_mode": {
    "name": "ipython",
    "version": 3
   },
   "file_extension": ".py",
   "mimetype": "text/x-python",
   "name": "python",
   "nbconvert_exporter": "python",
   "pygments_lexer": "ipython3",
   "version": "3.11.4"
  }
 },
 "nbformat": 4,
 "nbformat_minor": 5
}
